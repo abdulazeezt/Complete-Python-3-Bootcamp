{
 "cells": [
  {
   "cell_type": "code",
   "execution_count": 41,
   "id": "f2b1ae4b",
   "metadata": {},
   "outputs": [],
   "source": [
    "class employee:\n",
    "    customer_count = 0\n",
    "    def __init__(self,entername,entersalary):\n",
    "#         pass\n",
    "        self.name = entername\n",
    "        self.salary = entersalary\n",
    "        employee.customer_count += 1\n",
    "    def GetCustomerDetails(self):\n",
    "        print(f\"emp name is : {self.name}\")\n",
    "        print(f\"Employee salary is : {self.salary}\")\n",
    "    def display_custmer_count(self):\n",
    "        pass"
   ]
  },
  {
   "cell_type": "code",
   "execution_count": 37,
   "id": "2a709e88",
   "metadata": {},
   "outputs": [],
   "source": [
    "abbas = employee(\"Abbas Palghat\", 10000) "
   ]
  },
  {
   "cell_type": "code",
   "execution_count": 38,
   "id": "ecd4e337",
   "metadata": {},
   "outputs": [
    {
     "data": {
      "text/plain": [
       "3"
      ]
     },
     "execution_count": 38,
     "metadata": {},
     "output_type": "execute_result"
    }
   ],
   "source": [
    "abbas.customer_count"
   ]
  },
  {
   "cell_type": "code",
   "execution_count": 26,
   "id": "42b0d289",
   "metadata": {},
   "outputs": [
    {
     "name": "stdout",
     "output_type": "stream",
     "text": [
      "emp name is : Abbas Palghat\n",
      "Employee salary is : 10000\n"
     ]
    }
   ],
   "source": [
    "abbas.GetCustomerDetails()"
   ]
  },
  {
   "cell_type": "code",
   "execution_count": 44,
   "id": "4dff9bc4",
   "metadata": {},
   "outputs": [],
   "source": [
    "yunus = employee(\"Yunus K Parmb\",14000)"
   ]
  },
  {
   "cell_type": "code",
   "execution_count": 45,
   "id": "24c9275c",
   "metadata": {},
   "outputs": [
    {
     "data": {
      "text/plain": [
       "1"
      ]
     },
     "execution_count": 45,
     "metadata": {},
     "output_type": "execute_result"
    }
   ],
   "source": [
    "yunus.customer_count"
   ]
  },
  {
   "cell_type": "code",
   "execution_count": null,
   "id": "b311452f",
   "metadata": {},
   "outputs": [],
   "source": [
    "\n"
   ]
  }
 ],
 "metadata": {
  "kernelspec": {
   "display_name": "Python 3 (ipykernel)",
   "language": "python",
   "name": "python3"
  },
  "language_info": {
   "codemirror_mode": {
    "name": "ipython",
    "version": 3
   },
   "file_extension": ".py",
   "mimetype": "text/x-python",
   "name": "python",
   "nbconvert_exporter": "python",
   "pygments_lexer": "ipython3",
   "version": "3.10.5"
  }
 },
 "nbformat": 4,
 "nbformat_minor": 5
}
