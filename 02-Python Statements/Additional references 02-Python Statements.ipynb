{
 "cells": [
  {
   "cell_type": "markdown",
   "id": "aa2b6e89",
   "metadata": {
    "heading_collapsed": true
   },
   "source": [
    "# IN PLACE FUNCTION"
   ]
  },
  {
   "cell_type": "markdown",
   "id": "9c244615",
   "metadata": {
    "hidden": true
   },
   "source": [
    "###### in place function is a function it will do the modificaiton to an object but do not return anything. \n",
    "\n"
   ]
  },
  {
   "cell_type": "markdown",
   "id": "612a4b19",
   "metadata": {
    "hidden": true
   },
   "source": [
    "###### for example :- This shuffles the list \"in-place\" meaning it won't return\n",
    "###### anything, instead it will effect the list passed"
   ]
  },
  {
   "cell_type": "code",
   "execution_count": null,
   "id": "4cbf7c95",
   "metadata": {
    "hidden": true
   },
   "outputs": [],
   "source": []
  }
 ],
 "metadata": {
  "kernelspec": {
   "display_name": "Python 3 (ipykernel)",
   "language": "python",
   "name": "python3"
  },
  "language_info": {
   "codemirror_mode": {
    "name": "ipython",
    "version": 3
   },
   "file_extension": ".py",
   "mimetype": "text/x-python",
   "name": "python",
   "nbconvert_exporter": "python",
   "pygments_lexer": "ipython3",
   "version": "3.10.5"
  }
 },
 "nbformat": 4,
 "nbformat_minor": 5
}
