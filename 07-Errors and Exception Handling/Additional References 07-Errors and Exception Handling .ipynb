{
 "cells": [
  {
   "cell_type": "markdown",
   "id": "b118fa8c",
   "metadata": {
    "heading_collapsed": true
   },
   "source": [
    "# Errors and Exception handling. "
   ]
  },
  {
   "cell_type": "code",
   "execution_count": null,
   "id": "832a0518",
   "metadata": {
    "hidden": true
   },
   "outputs": [],
   "source": [
    "try:\n",
    "        #     try block will allways allow the code to run. \n",
    "    \n",
    "except TypeError:\n",
    "        #     INcasse any exception. happended. the except code will be running. \n",
    "except TypeError:\n",
    "    #     ANy number of types can be catched using the except block. \n",
    "else OSError :\n",
    "    \n",
    "        #     all other errors popup a message. \n",
    "else :\n",
    "\n",
    "        \n",
    "        #     WIll be running in case of no error in execution. \n",
    "\n",
    "    \n",
    "    \n",
    "finally:\n",
    "        #      This code will be running irrespective of errors in the code. \n",
    "        #   Means error or not this code will be runnig. "
   ]
  },
  {
   "cell_type": "markdown",
   "id": "b22ae764",
   "metadata": {
    "heading_collapsed": true
   },
   "source": [
    "# Testing script using Pylint"
   ]
  },
  {
   "cell_type": "markdown",
   "id": "9b64832f",
   "metadata": {
    "hidden": true
   },
   "source": [
    "pylint\n",
    "\n",
    "    Is an external Library . Looks into the code and report best possible issues. \n",
    "    pip install pylint\n",
    "    pylint <pythonscript.py>  \n"
   ]
  },
  {
   "cell_type": "markdown",
   "id": "b297d48c",
   "metadata": {},
   "source": [
    "# Testing script Using Unittest"
   ]
  },
  {
   "cell_type": "markdown",
   "id": "33046ad3",
   "metadata": {},
   "source": [
    "# PEP8 Naming convensions"
   ]
  },
  {
   "cell_type": "markdown",
   "id": "85afdf23",
   "metadata": {},
   "source": [
    "General Naming Conventions\n",
    "\n",
    "\n",
    "    The following table shows you some general guidelines on how to name your identifiers:\n",
    "\n",
    "        Identifier \tConvention\n",
    "        Module \tlowercase\n",
    "        Class \tCapWords\n",
    "        Functions \tlowercase\n",
    "        Methods \tlowercase\n",
    "        Type variables \tCapWords\n",
    "        Constants \tUPPERCASE\n",
    "        Package \tlowercase\n"
   ]
  },
  {
   "cell_type": "markdown",
   "id": "05a0bf73",
   "metadata": {},
   "source": [
    "https://www.datacamp.com/tutorial/pep8-tutorial-python-code"
   ]
  },
  {
   "cell_type": "code",
   "execution_count": null,
   "id": "f9096bd0",
   "metadata": {},
   "outputs": [],
   "source": []
  },
  {
   "cell_type": "code",
   "execution_count": null,
   "id": "52dfcff2",
   "metadata": {},
   "outputs": [],
   "source": []
  },
  {
   "cell_type": "code",
   "execution_count": null,
   "id": "807b3e75",
   "metadata": {},
   "outputs": [],
   "source": []
  }
 ],
 "metadata": {
  "kernelspec": {
   "display_name": "Python 3 (ipykernel)",
   "language": "python",
   "name": "python3"
  },
  "language_info": {
   "codemirror_mode": {
    "name": "ipython",
    "version": 3
   },
   "file_extension": ".py",
   "mimetype": "text/x-python",
   "name": "python",
   "nbconvert_exporter": "python",
   "pygments_lexer": "ipython3",
   "version": "3.10.5"
  }
 },
 "nbformat": 4,
 "nbformat_minor": 5
}
