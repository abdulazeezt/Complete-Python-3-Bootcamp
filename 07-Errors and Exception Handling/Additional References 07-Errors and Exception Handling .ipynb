{
 "cells": [
  {
   "cell_type": "markdown",
   "id": "b118fa8c",
   "metadata": {},
   "source": [
    "# Errors and Exception handling. "
   ]
  },
  {
   "cell_type": "code",
   "execution_count": null,
   "id": "832a0518",
   "metadata": {},
   "outputs": [],
   "source": [
    "try:\n",
    "        #     try block will allways allow the code to run. \n",
    "    \n",
    "except TypeError:\n",
    "        #     INcasse any exception. happended. the except code will be running. \n",
    "except TypeError:\n",
    "    #     ANy number of types can be catched using the except block. \n",
    "else OSError :\n",
    "    \n",
    "        #     all other errors popup a message. \n",
    "else :\n",
    "\n",
    "        \n",
    "        #     WIll be running in case of no error in execution. \n",
    "\n",
    "    \n",
    "    \n",
    "finally:\n",
    "        #      This code will be running irrespective of errors in the code. \n",
    "        #   Means error or not this code will be runnig. "
   ]
  }
 ],
 "metadata": {
  "kernelspec": {
   "display_name": "Python 3 (ipykernel)",
   "language": "python",
   "name": "python3"
  },
  "language_info": {
   "codemirror_mode": {
    "name": "ipython",
    "version": 3
   },
   "file_extension": ".py",
   "mimetype": "text/x-python",
   "name": "python",
   "nbconvert_exporter": "python",
   "pygments_lexer": "ipython3",
   "version": "3.10.5"
  }
 },
 "nbformat": 4,
 "nbformat_minor": 5
}
