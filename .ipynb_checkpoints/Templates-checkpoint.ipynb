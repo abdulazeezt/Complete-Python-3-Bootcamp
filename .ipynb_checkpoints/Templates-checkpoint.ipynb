{
 "cells": [
  {
   "cell_type": "markdown",
   "id": "80db93af",
   "metadata": {},
   "source": [
    "# Templates"
   ]
  },
  {
   "cell_type": "markdown",
   "id": "2c1c39e9",
   "metadata": {},
   "source": [
    "Blue color heading"
   ]
  },
  {
   "cell_type": "markdown",
   "id": "1389d750",
   "metadata": {},
   "source": [
    "<span style='color:DarkBlue'> Blue is my favorite color.  </span>"
   ]
  },
  {
   "cell_type": "code",
   "execution_count": null,
   "id": "ecef17a3",
   "metadata": {},
   "outputs": [],
   "source": [
    "\n"
   ]
  },
  {
   "cell_type": "markdown",
   "id": "e605ce3b",
   "metadata": {},
   "source": [
    "<span style='color:Maroon'> Maroon heading  </span>  Sample."
   ]
  },
  {
   "cell_type": "code",
   "execution_count": null,
   "id": "230d6d8e",
   "metadata": {},
   "outputs": [],
   "source": []
  },
  {
   "cell_type": "markdown",
   "id": "f30fde95",
   "metadata": {},
   "source": [
    "## Formatting Guide\n",
    "\n",
    "#### https://medium.com/analytics-vidhya/the-jupyter-notebook-formatting-guide-873ab39f765e"
   ]
  },
  {
   "cell_type": "code",
   "execution_count": null,
   "id": "f2382e31",
   "metadata": {},
   "outputs": [],
   "source": []
  },
  {
   "cell_type": "code",
   "execution_count": null,
   "id": "757155d5",
   "metadata": {},
   "outputs": [],
   "source": []
  },
  {
   "cell_type": "markdown",
   "id": "32058855",
   "metadata": {},
   "source": [
    "# This is a test heading. "
   ]
  },
  {
   "cell_type": "code",
   "execution_count": null,
   "id": "8f8e460d",
   "metadata": {},
   "outputs": [],
   "source": []
  },
  {
   "cell_type": "code",
   "execution_count": null,
   "id": "3e0375f5",
   "metadata": {},
   "outputs": [],
   "source": []
  },
  {
   "cell_type": "code",
   "execution_count": null,
   "id": "b3dba4c1",
   "metadata": {},
   "outputs": [],
   "source": []
  }
 ],
 "metadata": {
  "kernelspec": {
   "display_name": "Python 3 (ipykernel)",
   "language": "python",
   "name": "python3"
  },
  "language_info": {
   "codemirror_mode": {
    "name": "ipython",
    "version": 3
   },
   "file_extension": ".py",
   "mimetype": "text/x-python",
   "name": "python",
   "nbconvert_exporter": "python",
   "pygments_lexer": "ipython3",
   "version": "3.10.5"
  }
 },
 "nbformat": 4,
 "nbformat_minor": 5
}
