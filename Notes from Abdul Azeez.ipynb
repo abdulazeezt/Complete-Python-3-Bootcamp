{
 "cells": [
  {
   "cell_type": "markdown",
   "id": "d60e8840",
   "metadata": {
    "heading_collapsed": true
   },
   "source": [
    "# ADDITIONAL REFERENCES\n"
   ]
  },
  {
   "cell_type": "markdown",
   "id": "27d25cda",
   "metadata": {
    "hidden": true
   },
   "source": [
    "### Corey Schafer\n",
    "\n",
    "Python Tutorials\n",
    "143 videos5,148,468 viewsLast updated on 28 Sept 2020\n",
    "https://www.youtube.com/playlist?list=PL-osiE80TeTt2d9bfVyTiXJA-UTHn6WwU\n",
    "\n",
    "Corey Schafer\n",
    "961K subscribers"
   ]
  },
  {
   "cell_type": "code",
   "execution_count": null,
   "id": "7cd762f0",
   "metadata": {
    "hidden": true
   },
   "outputs": [],
   "source": []
  },
  {
   "cell_type": "markdown",
   "id": "c092465c",
   "metadata": {
    "heading_collapsed": true,
    "hidden": true
   },
   "source": [
    "### Navin Reddy Github\n"
   ]
  },
  {
   "cell_type": "code",
   "execution_count": null,
   "id": "69ec0adf",
   "metadata": {
    "hidden": true
   },
   "outputs": [],
   "source": []
  },
  {
   "cell_type": "code",
   "execution_count": null,
   "id": "a158fef3",
   "metadata": {
    "hidden": true
   },
   "outputs": [],
   "source": [
    "Github :- https://github.com/navinreddy20/Python-"
   ]
  },
  {
   "cell_type": "code",
   "execution_count": null,
   "id": "342902a5",
   "metadata": {
    "hidden": true
   },
   "outputs": [],
   "source": []
  },
  {
   "cell_type": "markdown",
   "id": "96a27227",
   "metadata": {
    "heading_collapsed": true
   },
   "source": [
    "# CONFIGURE JUPYTER NOTEBOOK:"
   ]
  },
  {
   "cell_type": "markdown",
   "id": "d9aaa8ec",
   "metadata": {
    "hidden": true
   },
   "source": [
    "### Installing jupyter over command line"
   ]
  },
  {
   "cell_type": "code",
   "execution_count": null,
   "id": "35b04b03",
   "metadata": {
    "hidden": true
   },
   "outputs": [],
   "source": [
    "https://www.geeksforgeeks.org/how-to-install-jupyter-notebook-in-windows/\n",
    "\n",
    "PIP is a package management system used to install and manage software packages/libraries written in Python. These files are stored in a large “on-line repository” termed as Python Package Index (PyPI).\n",
    "pip uses PyPI as the default source for packages and their dependencies.\n",
    "\n",
    "To install Jupyter using pip, we need to first check if pip is updated in our system. Use the following command to update pip:\n",
    "\n",
    "python -m pip install --upgrade pip\n",
    "\n",
    "Updating-pip-version\n",
    "\n",
    "After updating the pip version, follow the instructions provided below to install Jupyter:\n",
    "\n",
    "    Command to install Jupyter:\n",
    "\n",
    "    python -m pip install jupyter\n",
    "\n",
    "    Beginning Installation:\n",
    "    Beginning-installation\n",
    "    Downloading Files and Data:\n",
    "    Downloading-data-and-files\n",
    "    Installing Packages:\n",
    "    Installing-packages\n",
    "    Finished Installation:\n",
    "    Finished-Installation\n",
    "\n",
    "    Launching Jupyter:\n",
    "    Use the following command to launch Jupyter using command-line:\n",
    "\n",
    "    jupyter notebook\n",
    "\n",
    "    Using-Launch-command-Code\n",
    "\n",
    "    Jupyter-Launch-Window\n",
    "\n"
   ]
  },
  {
   "cell_type": "markdown",
   "id": "5e4e53bf",
   "metadata": {
    "hidden": true
   },
   "source": [
    "### Jupyter cell expand and collapse utility (notebook extensions)"
   ]
  },
  {
   "cell_type": "markdown",
   "id": "c465a2a2",
   "metadata": {
    "hidden": true
   },
   "source": [
    "https://www.youtube.com/watch?v=B9tC5ggKEUc&t=138s\n",
    " \n",
    "1. pip -e install jupyter_contrib_nbextensions\n",
    "\n",
    "2. jupyter contrib nbextension install --user\n",
    "\n",
    "   C:\\Users\\azi>jupyter contrib nbextension install --user\n",
    "\n",
    "3. C:\\Users\\azi>jupyter nbextension enable collapsible_headings/main\n",
    "    Enabling notebook extension collapsible_headings/main.."
   ]
  },
  {
   "cell_type": "code",
   "execution_count": null,
   "id": "18ec98e6",
   "metadata": {
    "hidden": true
   },
   "outputs": [],
   "source": []
  },
  {
   "cell_type": "markdown",
   "id": "934157b9",
   "metadata": {},
   "source": [
    "# NOTEBOOK FORMATTING GUIDES."
   ]
  },
  {
   "cell_type": "markdown",
   "id": "7a0ef160",
   "metadata": {},
   "source": [
    "###### https://medium.com/analytics-vidhya/the-jupyter-notebook-formatting-guide-873ab39f765e"
   ]
  },
  {
   "cell_type": "code",
   "execution_count": null,
   "id": "c1a9428d",
   "metadata": {},
   "outputs": [],
   "source": []
  }
 ],
 "metadata": {
  "kernelspec": {
   "display_name": "Python 3 (ipykernel)",
   "language": "python",
   "name": "python3"
  },
  "language_info": {
   "codemirror_mode": {
    "name": "ipython",
    "version": 3
   },
   "file_extension": ".py",
   "mimetype": "text/x-python",
   "name": "python",
   "nbconvert_exporter": "python",
   "pygments_lexer": "ipython3",
   "version": "3.10.5"
  }
 },
 "nbformat": 4,
 "nbformat_minor": 5
}
