{
 "cells": [
  {
   "cell_type": "markdown",
   "id": "f1d6bfb0",
   "metadata": {
    "heading_collapsed": true
   },
   "source": [
    "# ADDITIONAL PYTHON REFERENCES\n"
   ]
  },
  {
   "cell_type": "markdown",
   "id": "f3752740",
   "metadata": {
    "hidden": true
   },
   "source": [
    "### Corey Schafer\n",
    "\n",
    "Python Tutorials\n",
    "143 videos5,148,468 viewsLast updated on 28 Sept 2020\n",
    "https://www.youtube.com/playlist?list=PL-osiE80TeTt2d9bfVyTiXJA-UTHn6WwU\n",
    "\n",
    "Corey Schafer\n",
    "961K subscribers"
   ]
  },
  {
   "cell_type": "code",
   "execution_count": null,
   "id": "005e9452",
   "metadata": {
    "hidden": true
   },
   "outputs": [],
   "source": []
  },
  {
   "cell_type": "markdown",
   "id": "36163bb6",
   "metadata": {
    "hidden": true
   },
   "source": [
    "### Navin Reddy Github\n"
   ]
  },
  {
   "cell_type": "code",
   "execution_count": null,
   "id": "9468e122",
   "metadata": {
    "hidden": true
   },
   "outputs": [],
   "source": []
  },
  {
   "cell_type": "code",
   "execution_count": null,
   "id": "5f9c7b00",
   "metadata": {
    "hidden": true
   },
   "outputs": [],
   "source": [
    "Github :- https://github.com/navinreddy20/Python-"
   ]
  },
  {
   "cell_type": "code",
   "execution_count": null,
   "id": "02ed1265",
   "metadata": {
    "hidden": true
   },
   "outputs": [],
   "source": []
  },
  {
   "cell_type": "markdown",
   "id": "c1e130a3",
   "metadata": {
    "heading_collapsed": true
   },
   "source": [
    "# CONFIGURING JUPYTER NOTEBOOK:"
   ]
  },
  {
   "cell_type": "markdown",
   "id": "1a090a02",
   "metadata": {
    "heading_collapsed": true,
    "hidden": true
   },
   "source": [
    "### Installing jupyter over command line"
   ]
  },
  {
   "cell_type": "code",
   "execution_count": null,
   "id": "b0c5de53",
   "metadata": {
    "hidden": true
   },
   "outputs": [],
   "source": [
    "https://www.geeksforgeeks.org/how-to-install-jupyter-notebook-in-windows/\n",
    "\n",
    "PIP is a package management system used to install and manage software packages/libraries written in Python. These files are stored in a large “on-line repository” termed as Python Package Index (PyPI).\n",
    "pip uses PyPI as the default source for packages and their dependencies.\n",
    "\n",
    "To install Jupyter using pip, we need to first check if pip is updated in our system. Use the following command to update pip:\n",
    "\n",
    "python -m pip install --upgrade pip\n",
    "\n",
    "Updating-pip-version\n",
    "\n",
    "After updating the pip version, follow the instructions provided below to install Jupyter:\n",
    "\n",
    "    Command to install Jupyter:\n",
    "\n",
    "    python -m pip install jupyter\n",
    "\n",
    "    Beginning Installation:\n",
    "    Beginning-installation\n",
    "    Downloading Files and Data:\n",
    "    Downloading-data-and-files\n",
    "    Installing Packages:\n",
    "    Installing-packages\n",
    "    Finished Installation:\n",
    "    Finished-Installation\n",
    "\n",
    "    Launching Jupyter:\n",
    "    Use the following command to launch Jupyter using command-line:\n",
    "\n",
    "    jupyter notebook\n",
    "\n",
    "    Using-Launch-command-Code\n",
    "\n",
    "    Jupyter-Launch-Window\n",
    "\n"
   ]
  },
  {
   "cell_type": "markdown",
   "id": "6deb68a1",
   "metadata": {
    "hidden": true
   },
   "source": [
    "### Jupyter cell expand and collapse utility (notebook extensions)"
   ]
  },
  {
   "cell_type": "markdown",
   "id": "d0b199cf",
   "metadata": {
    "hidden": true
   },
   "source": [
    "https://www.youtube.com/watch?v=B9tC5ggKEUc&t=138s\n",
    " \n",
    "1. pip -e install jupyter_contrib_nbextensions\n",
    "\n",
    "2. jupyter contrib nbextension install --user\n",
    "\n",
    "   C:\\Users\\azi>jupyter contrib nbextension install --user\n",
    "\n",
    "3. C:\\Users\\azi>jupyter nbextension enable collapsible_headings/main\n",
    "    Enabling notebook extension collapsible_headings/main.."
   ]
  },
  {
   "cell_type": "code",
   "execution_count": null,
   "id": "bbde0acb",
   "metadata": {
    "hidden": true
   },
   "outputs": [],
   "source": []
  },
  {
   "cell_type": "markdown",
   "id": "1059a4c3",
   "metadata": {
    "heading_collapsed": true
   },
   "source": [
    "# NOTEBOOK FORMATTING GUIDES."
   ]
  },
  {
   "cell_type": "markdown",
   "id": "232dfb1b",
   "metadata": {
    "hidden": true
   },
   "source": [
    "###### https://medium.com/analytics-vidhya/the-jupyter-notebook-formatting-guide-873ab39f765e"
   ]
  },
  {
   "cell_type": "code",
   "execution_count": null,
   "id": "49439f61",
   "metadata": {
    "hidden": true
   },
   "outputs": [],
   "source": []
  },
  {
   "cell_type": "code",
   "execution_count": null,
   "id": "15e59e92",
   "metadata": {
    "hidden": true
   },
   "outputs": [],
   "source": []
  },
  {
   "cell_type": "markdown",
   "id": "d5a20a5a",
   "metadata": {},
   "source": [
    "# JUPYTER NOTEBOOK THEMES."
   ]
  },
  {
   "cell_type": "markdown",
   "id": "48631278",
   "metadata": {},
   "source": [
    "##### How to Change your Jupyter Notebook Theme (Dark Theme!!)\n",
    "\n",
    "https://youtu.be/DnkxaEgen0E\n"
   ]
  },
  {
   "cell_type": "markdown",
   "id": "d1bfdfbe",
   "metadata": {},
   "source": []
  },
  {
   "cell_type": "markdown",
   "id": "380f601d",
   "metadata": {},
   "source": [
    "##### 1 * To install jupyter themes:--\n",
    "    !pip install jupyterthemes\n",
    "\n",
    "#####  2 * To list all the available themes\n",
    "\n",
    "$ jt -l\n",
    "    Available Themes:---\n",
    "       chesterish\n",
    "       grade3\n",
    "       gruvboxd\n",
    "       gruvboxl\n",
    "       monokai\n",
    "       oceans16\n",
    "       onedork\n",
    "       solarizedd\n",
    "       solarizedl\n",
    "\n",
    "##### 3 * switching to a theme:\n",
    "    azi@LAPTOP-1QD0MRUB /cygdrive/c/Users/azi/My Documents/GitHub/Complete-Python-3-Bootcamp\n",
    "    $ jt -t monokai\n",
    "\n"
   ]
  },
  {
   "cell_type": "markdown",
   "id": "b70e697a",
   "metadata": {},
   "source": [
    "https://stackoverflow.com/questions/46510192/change-the-theme-in-jupyter-notebook"
   ]
  },
  {
   "cell_type": "code",
   "execution_count": null,
   "id": "0b2a627b",
   "metadata": {},
   "outputs": [],
   "source": []
  }
 ],
 "metadata": {
  "kernelspec": {
   "display_name": "Python 3 (ipykernel)",
   "language": "python",
   "name": "python3"
  },
  "language_info": {
   "codemirror_mode": {
    "name": "ipython",
    "version": 3
   },
   "file_extension": ".py",
   "mimetype": "text/x-python",
   "name": "python",
   "nbconvert_exporter": "python",
   "pygments_lexer": "ipython3",
   "version": "3.10.5"
  }
 },
 "nbformat": 4,
 "nbformat_minor": 5
}
