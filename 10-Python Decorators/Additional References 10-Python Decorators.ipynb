{
 "cells": [
  {
   "cell_type": "markdown",
   "id": "dirty-leone",
   "metadata": {
    "heading_collapsed": true
   },
   "source": [
    "# Decorator"
   ]
  },
  {
   "cell_type": "markdown",
   "id": "framed-notion",
   "metadata": {
    "hidden": true
   },
   "source": [
    "Decorator syntax\n",
    "\n",
    "    @some_decorator\n",
    "    def simple_function():\n",
    "        #Do simple stuff\n",
    "        return something"
   ]
  },
  {
   "cell_type": "markdown",
   "id": "dominican-essence",
   "metadata": {
    "hidden": true
   },
   "source": [
    "Note :  simple_function(original function) will be passed to some_decorator function ."
   ]
  },
  {
   "cell_type": "markdown",
   "id": "contrary-suffering",
   "metadata": {},
   "source": [
    "# Decorator Example"
   ]
  },
  {
   "cell_type": "code",
   "execution_count": 30,
   "id": "advisory-lightweight",
   "metadata": {},
   "outputs": [],
   "source": [
    "def my_decorator(inputfunction):\n",
    "    def wrapper():\n",
    "        print(f\" Going to decorate function: {inputfunction}\")\n",
    "        inputfunction()\n",
    "    return wrapper\n"
   ]
  },
  {
   "cell_type": "code",
   "execution_count": 31,
   "id": "textile-recycling",
   "metadata": {},
   "outputs": [],
   "source": [
    "@my_decorator\n",
    "def do_this():\n",
    "    print('Doing this')"
   ]
  },
  {
   "cell_type": "code",
   "execution_count": 32,
   "id": "adjacent-intranet",
   "metadata": {},
   "outputs": [],
   "source": [
    "@my_decorator\n",
    "def do_that():\n",
    "    print(\"Doing that \")"
   ]
  },
  {
   "cell_type": "code",
   "execution_count": 33,
   "id": "formal-layer",
   "metadata": {},
   "outputs": [
    {
     "name": "stdout",
     "output_type": "stream",
     "text": [
      " Going to decorate function: <function do_this at 0x00000226FA162670>\n",
      "Doing this\n"
     ]
    }
   ],
   "source": [
    "do_this()"
   ]
  },
  {
   "cell_type": "code",
   "execution_count": 34,
   "id": "alpine-liabilities",
   "metadata": {},
   "outputs": [
    {
     "name": "stdout",
     "output_type": "stream",
     "text": [
      " Going to decorate function: <function do_that at 0x00000226FA162F70>\n",
      "Doing that \n"
     ]
    }
   ],
   "source": [
    "do_that()"
   ]
  },
  {
   "cell_type": "code",
   "execution_count": null,
   "id": "comparative-spanking",
   "metadata": {},
   "outputs": [],
   "source": []
  },
  {
   "cell_type": "code",
   "execution_count": null,
   "id": "fifth-fusion",
   "metadata": {},
   "outputs": [],
   "source": []
  },
  {
   "cell_type": "markdown",
   "id": "simplified-quilt",
   "metadata": {},
   "source": [
    "# Decorator youtube reference \n",
    "https://www.youtube.com/shorts/n-Rf3EJ_WaU?feature=share"
   ]
  },
  {
   "cell_type": "code",
   "execution_count": null,
   "id": "viral-symphony",
   "metadata": {},
   "outputs": [],
   "source": []
  },
  {
   "cell_type": "markdown",
   "id": "authentic-costume",
   "metadata": {},
   "source": []
  },
  {
   "cell_type": "code",
   "execution_count": null,
   "id": "necessary-civilization",
   "metadata": {},
   "outputs": [],
   "source": []
  },
  {
   "cell_type": "code",
   "execution_count": null,
   "id": "native-quest",
   "metadata": {},
   "outputs": [],
   "source": []
  },
  {
   "cell_type": "code",
   "execution_count": null,
   "id": "presidential-ukraine",
   "metadata": {},
   "outputs": [],
   "source": []
  },
  {
   "cell_type": "code",
   "execution_count": null,
   "id": "further-external",
   "metadata": {},
   "outputs": [],
   "source": []
  },
  {
   "cell_type": "code",
   "execution_count": null,
   "id": "connected-peninsula",
   "metadata": {},
   "outputs": [],
   "source": []
  }
 ],
 "metadata": {
  "kernelspec": {
   "display_name": "Python 3",
   "language": "python",
   "name": "python3"
  },
  "language_info": {
   "codemirror_mode": {
    "name": "ipython",
    "version": 3
   },
   "file_extension": ".py",
   "mimetype": "text/x-python",
   "name": "python",
   "nbconvert_exporter": "python",
   "pygments_lexer": "ipython3",
   "version": "3.8.4"
  }
 },
 "nbformat": 4,
 "nbformat_minor": 5
}
