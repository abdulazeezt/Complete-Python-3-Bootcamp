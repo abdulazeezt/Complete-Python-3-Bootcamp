{
 "cells": [
  {
   "cell_type": "markdown",
   "id": "80db93af",
   "metadata": {
    "heading_collapsed": true
   },
   "source": [
    "# Different colors"
   ]
  },
  {
   "cell_type": "markdown",
   "id": "2c1c39e9",
   "metadata": {
    "hidden": true
   },
   "source": [
    "Blue color heading"
   ]
  },
  {
   "cell_type": "markdown",
   "id": "1389d750",
   "metadata": {
    "hidden": true
   },
   "source": [
    "<span style='color:DarkBlue'> Blue is my favorite color.  </span>"
   ]
  },
  {
   "cell_type": "markdown",
   "id": "e605ce3b",
   "metadata": {
    "hidden": true
   },
   "source": [
    "<span style='color:Maroon'> Maroon heading  </span>  Sample."
   ]
  },
  {
   "cell_type": "markdown",
   "id": "f30fde95",
   "metadata": {
    "heading_collapsed": true,
    "hidden": true
   },
   "source": [
    "## Formatting Guide\n",
    "\n",
    "#### https://medium.com/analytics-vidhya/the-jupyter-notebook-formatting-guide-873ab39f765e"
   ]
  },
  {
   "cell_type": "code",
   "execution_count": null,
   "id": "f2382e31",
   "metadata": {
    "hidden": true
   },
   "outputs": [],
   "source": []
  },
  {
   "cell_type": "markdown",
   "id": "d5cd4541",
   "metadata": {
    "heading_collapsed": true
   },
   "source": [
    "# Creating list / Bulltet list in notebook"
   ]
  },
  {
   "cell_type": "markdown",
   "id": "8d4a1202",
   "metadata": {
    "hidden": true
   },
   "source": [
    "* 1\n",
    "* 2\n",
    "* 3"
   ]
  },
  {
   "cell_type": "code",
   "execution_count": null,
   "id": "259e44e5",
   "metadata": {
    "hidden": true
   },
   "outputs": [],
   "source": []
  },
  {
   "cell_type": "code",
   "execution_count": null,
   "id": "5768aa0f",
   "metadata": {
    "hidden": true
   },
   "outputs": [],
   "source": []
  },
  {
   "cell_type": "markdown",
   "id": "3afd25fe",
   "metadata": {
    "heading_collapsed": true
   },
   "source": [
    "# This is a test heading. "
   ]
  },
  {
   "cell_type": "markdown",
   "id": "9bc3827e",
   "metadata": {
    "heading_collapsed": true
   },
   "source": [
    "# Linking to another website image"
   ]
  },
  {
   "cell_type": "markdown",
   "id": "14bf204c",
   "metadata": {
    "hidden": true
   },
   "source": [
    "___\n",
    "\n",
    "<a href='https://www.udemy.com/user/joseportilla/'><img src='../Pierian_Data_Logo.png'/></a>\n",
    "___\n",
    "<center><em>Content Copyright by Pierian Data</em></center>"
   ]
  },
  {
   "cell_type": "code",
   "execution_count": null,
   "id": "a6e1e727",
   "metadata": {
    "hidden": true
   },
   "outputs": [],
   "source": []
  }
 ],
 "metadata": {
  "kernelspec": {
   "display_name": "Python 3 (ipykernel)",
   "language": "python",
   "name": "python3"
  },
  "language_info": {
   "codemirror_mode": {
    "name": "ipython",
    "version": 3
   },
   "file_extension": ".py",
   "mimetype": "text/x-python",
   "name": "python",
   "nbconvert_exporter": "python",
   "pygments_lexer": "ipython3",
   "version": "3.10.5"
  }
 },
 "nbformat": 4,
 "nbformat_minor": 5
}
