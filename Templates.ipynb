{
 "cells": [
  {
   "cell_type": "markdown",
   "id": "colored-pasta",
   "metadata": {
    "heading_collapsed": true
   },
   "source": [
    "# <span style='color:DarkCyan'> Simple Color heading DarkCyan. </span>"
   ]
  },
  {
   "cell_type": "markdown",
   "id": "atmospheric-rouge",
   "metadata": {
    "hidden": true
   },
   "source": [
    "    # <span style='color:DarkCyan'> Simple Color heading DarkCyan. </span>"
   ]
  },
  {
   "cell_type": "markdown",
   "id": "integral-leadership",
   "metadata": {},
   "source": [
    "# <span style='color:SlateGray'> Simple Color heading AquaMarine. </span>"
   ]
  },
  {
   "cell_type": "markdown",
   "id": "immune-cyprus",
   "metadata": {},
   "source": [
    "    #<span style='color:AquaMarine'> Simple Color heading.. </span>"
   ]
  },
  {
   "cell_type": "code",
   "execution_count": null,
   "id": "tribal-radiation",
   "metadata": {},
   "outputs": [],
   "source": []
  },
  {
   "cell_type": "markdown",
   "id": "digital-nigeria",
   "metadata": {},
   "source": [
    "# <span style='color:Orange'> Simple Color heading Orange. </span>"
   ]
  },
  {
   "cell_type": "code",
   "execution_count": null,
   "id": "auburn-commander",
   "metadata": {},
   "outputs": [],
   "source": []
  },
  {
   "cell_type": "markdown",
   "id": "verbal-tradition",
   "metadata": {},
   "source": [
    "    <span style='color:Orange'> Simple Color heading Orange. </span>"
   ]
  },
  {
   "cell_type": "markdown",
   "id": "actual-relative",
   "metadata": {
    "heading_collapsed": true
   },
   "source": [
    "# <span style='color:Brown'> Simple Color heading Brown. </span>"
   ]
  },
  {
   "cell_type": "markdown",
   "id": "missing-level",
   "metadata": {
    "hidden": true
   },
   "source": [
    "    <span style='color:Brown'> Simple Color heading Brown. </span>"
   ]
  },
  {
   "cell_type": "markdown",
   "id": "knowing-melissa",
   "metadata": {
    "heading_collapsed": true
   },
   "source": [
    "# <span style='color:Purple'> Simple Color heading Purple. </span>"
   ]
  },
  {
   "cell_type": "markdown",
   "id": "limited-capitol",
   "metadata": {
    "hidden": true
   },
   "source": [
    "    # <span style='color:Purple'> Simple Color heading Purple. </span>"
   ]
  },
  {
   "cell_type": "markdown",
   "id": "featured-spank",
   "metadata": {},
   "source": [
    "# <span style='color:DarkRed'> Simple Color heading DarkRed. </span>"
   ]
  },
  {
   "cell_type": "markdown",
   "id": "innovative-birthday",
   "metadata": {},
   "source": [
    "# <span style='color:Red'> Simple Color heading Red. </span>"
   ]
  },
  {
   "cell_type": "markdown",
   "id": "signed-angel",
   "metadata": {},
   "source": [
    "    # <span style='color:Red'> Simple Color heading Red. </span>"
   ]
  },
  {
   "cell_type": "markdown",
   "id": "fundamental-foster",
   "metadata": {},
   "source": [
    "# <span style='color:DarkBlue'> Simple Color heading DarkBlue. </span>"
   ]
  },
  {
   "cell_type": "markdown",
   "id": "wrong-potter",
   "metadata": {},
   "source": [
    "    # <span style='color:DarkBlue'> Simple Color heading DarkBlue. </span>"
   ]
  },
  {
   "cell_type": "markdown",
   "id": "exceptional-affair",
   "metadata": {
    "heading_collapsed": true
   },
   "source": [
    "# <span style='color:Blue'> Simple Color heading Blue. </span>"
   ]
  },
  {
   "cell_type": "markdown",
   "id": "voluntary-empire",
   "metadata": {
    "hidden": true
   },
   "source": [
    "    # <span style='color:Blue'> Simple Color heading Blue. </span>"
   ]
  },
  {
   "cell_type": "code",
   "execution_count": null,
   "id": "native-vampire",
   "metadata": {
    "hidden": true
   },
   "outputs": [],
   "source": []
  },
  {
   "cell_type": "markdown",
   "id": "aggressive-discrimination",
   "metadata": {
    "heading_collapsed": true
   },
   "source": [
    "# <span style='color:Yellow'><center> <em>Heading More details</em></center> </span>\n",
    "<h2> <span style='color:Yellow'><center> <em>description</em></center> </span></h2>\n",
    "<center><em>More description.</em></center>"
   ]
  },
  {
   "cell_type": "markdown",
   "id": "accessible-victoria",
   "metadata": {
    "hidden": true
   },
   "source": [
    "    <span style='color:Yellow'><center> <em>Section 14 - 2</em></center> </span>\n",
    "    <h2> <span style='color:Yellow'><center> <em>Shutil and OS Modules</em></center> </span></h2>\n",
    "    <center><em>Video : 105 - 0 Opening And Reading Files And Folders  Python Os Module-1 </em></center>"
   ]
  },
  {
   "cell_type": "markdown",
   "id": "radical-conditioning",
   "metadata": {},
   "source": [
    "# Simple Font Coloring "
   ]
  },
  {
   "cell_type": "code",
   "execution_count": 2,
   "id": "gothic-throw",
   "metadata": {},
   "outputs": [
    {
     "ename": "SyntaxError",
     "evalue": "invalid syntax (<ipython-input-2-ec13a3b774d3>, line 1)",
     "output_type": "error",
     "traceback": [
      "\u001b[1;36m  File \u001b[1;32m\"<ipython-input-2-ec13a3b774d3>\"\u001b[1;36m, line \u001b[1;32m1\u001b[0m\n\u001b[1;33m    <font color='red'>bar</font>\u001b[0m\n\u001b[1;37m    ^\u001b[0m\n\u001b[1;31mSyntaxError\u001b[0m\u001b[1;31m:\u001b[0m invalid syntax\n"
     ]
    }
   ],
   "source": [
    "<font color='red'>bar</font>"
   ]
  },
  {
   "cell_type": "code",
   "execution_count": null,
   "id": "nearby-howard",
   "metadata": {},
   "outputs": [],
   "source": []
  },
  {
   "cell_type": "code",
   "execution_count": null,
   "id": "attempted-tomorrow",
   "metadata": {},
   "outputs": [],
   "source": []
  },
  {
   "cell_type": "markdown",
   "id": "thermal-richardson",
   "metadata": {
    "heading_collapsed": true
   },
   "source": [
    "# Different colors"
   ]
  },
  {
   "cell_type": "markdown",
   "id": "stone-portsmouth",
   "metadata": {
    "hidden": true
   },
   "source": [
    "Blue color heading"
   ]
  },
  {
   "cell_type": "markdown",
   "id": "miniature-chrome",
   "metadata": {
    "hidden": true
   },
   "source": [
    "<span style='color:DarkBlue'> Blue is my favorite color.  </span>"
   ]
  },
  {
   "cell_type": "markdown",
   "id": "floppy-specific",
   "metadata": {
    "hidden": true
   },
   "source": [
    "<span style='color:Maroon'> Maroon heading  </span>  Sample."
   ]
  },
  {
   "cell_type": "code",
   "execution_count": null,
   "id": "intermediate-occupation",
   "metadata": {
    "hidden": true
   },
   "outputs": [],
   "source": []
  },
  {
   "cell_type": "markdown",
   "id": "outstanding-information",
   "metadata": {
    "heading_collapsed": true
   },
   "source": [
    "# Heading Styles , Page title"
   ]
  },
  {
   "cell_type": "code",
   "execution_count": 1,
   "id": "involved-sympathy",
   "metadata": {
    "hidden": true
   },
   "outputs": [
    {
     "ename": "SyntaxError",
     "evalue": "invalid syntax (<ipython-input-1-cb2b471de7da>, line 3)",
     "output_type": "error",
     "traceback": [
      "\u001b[1;36m  File \u001b[1;32m\"<ipython-input-1-cb2b471de7da>\"\u001b[1;36m, line \u001b[1;32m3\u001b[0m\n\u001b[1;33m    <a href='https://www.udemy.com/user/joseportilla/'><img src='../Pierian_Data_Logo.png'/></a>\u001b[0m\n\u001b[1;37m    ^\u001b[0m\n\u001b[1;31mSyntaxError\u001b[0m\u001b[1;31m:\u001b[0m invalid syntax\n"
     ]
    }
   ],
   "source": [
    "___\n",
    "\n",
    "<a href='https://www.udemy.com/user/joseportilla/'><img src='../Pierian_Data_Logo.png'/></a>\n",
    "___\n",
    "<center><em>Content Copyright by Pierian Data</em></center>\n",
    "<h1><center><em>Collections Module</em></center></h1>\n",
    "<h3><center><em>Video: Section 14 Advanced Python Modules</em></center></h3>"
   ]
  },
  {
   "cell_type": "code",
   "execution_count": 5,
   "id": "working-nowhere",
   "metadata": {
    "hidden": true
   },
   "outputs": [
    {
     "ename": "SyntaxError",
     "evalue": "invalid syntax (586788955.py, line 1)",
     "output_type": "error",
     "traceback": [
      "\u001b[1;36m  Input \u001b[1;32mIn [5]\u001b[1;36m\u001b[0m\n\u001b[1;33m    <h1> <span style='color:Yellow'><center> <em>Collections Module</em></center> </span></h1>\u001b[0m\n\u001b[1;37m    ^\u001b[0m\n\u001b[1;31mSyntaxError\u001b[0m\u001b[1;31m:\u001b[0m invalid syntax\n"
     ]
    }
   ],
   "source": [
    "<h1> <span style='color:Yellow'><center> <em>Collections Module</em></center> </span></h1>"
   ]
  },
  {
   "cell_type": "markdown",
   "id": "common-share",
   "metadata": {
    "hidden": true
   },
   "source": [
    "## Formatting Guide\n",
    "\n",
    "#### https://medium.com/analytics-vidhya/the-jupyter-notebook-formatting-guide-873ab39f765e"
   ]
  },
  {
   "cell_type": "code",
   "execution_count": null,
   "id": "injured-boutique",
   "metadata": {
    "hidden": true
   },
   "outputs": [],
   "source": []
  },
  {
   "cell_type": "code",
   "execution_count": null,
   "id": "suited-strap",
   "metadata": {
    "hidden": true
   },
   "outputs": [],
   "source": []
  },
  {
   "cell_type": "markdown",
   "id": "homeless-brain",
   "metadata": {
    "heading_collapsed": true
   },
   "source": [
    "# Creating list / Bulltet list in notebook"
   ]
  },
  {
   "cell_type": "markdown",
   "id": "dependent-cream",
   "metadata": {
    "hidden": true
   },
   "source": [
    "* 1\n",
    "* 2\n",
    "* 3"
   ]
  },
  {
   "cell_type": "code",
   "execution_count": null,
   "id": "adjusted-portfolio",
   "metadata": {
    "hidden": true
   },
   "outputs": [],
   "source": []
  },
  {
   "cell_type": "code",
   "execution_count": null,
   "id": "possible-diploma",
   "metadata": {
    "hidden": true
   },
   "outputs": [],
   "source": []
  },
  {
   "cell_type": "markdown",
   "id": "accredited-clearance",
   "metadata": {
    "heading_collapsed": true
   },
   "source": [
    "# This is a test heading. "
   ]
  },
  {
   "cell_type": "markdown",
   "id": "acute-brooklyn",
   "metadata": {
    "heading_collapsed": true
   },
   "source": [
    "# Linking to another website image"
   ]
  },
  {
   "cell_type": "markdown",
   "id": "utility-tiger",
   "metadata": {
    "hidden": true
   },
   "source": [
    "___\n",
    "\n",
    "<a href='https://www.udemy.com/user/joseportilla/'><img src='../Pierian_Data_Logo.png'/></a>\n",
    "___\n",
    "<center><em>Content Copyright by Pierian Data</em></center>"
   ]
  },
  {
   "cell_type": "code",
   "execution_count": null,
   "id": "false-techno",
   "metadata": {
    "hidden": true
   },
   "outputs": [],
   "source": []
  },
  {
   "cell_type": "markdown",
   "id": "amino-dress",
   "metadata": {
    "heading_collapsed": true
   },
   "source": [
    "# Adding HTML Information "
   ]
  },
  {
   "cell_type": "code",
   "execution_count": null,
   "id": "trained-french",
   "metadata": {
    "hidden": true
   },
   "outputs": [],
   "source": []
  },
  {
   "cell_type": "markdown",
   "id": "written-programming",
   "metadata": {
    "hidden": true
   },
   "source": [
    "<table>\n",
    "\n",
    "<thead >\n",
    "<tr>\n",
    "<th>\n",
    "<p>Syntax to pass to the .select() method</p>\n",
    "</th>\n",
    "<th>\n",
    "<p>Match Results</p>\n",
    "</th>\n",
    "</tr>\n",
    "</thead>\n",
    "<tbody>\n",
    "<tr>\n",
    "<td>\n",
    "<p><code>soup.select('div')</code></p>\n",
    "</td>\n",
    "<td>\n",
    "<p>All elements with the <code>&lt;div&gt;</code> tag</p>\n",
    "</td>\n",
    "</tr>\n",
    "<tr>\n",
    "<td>\n",
    "<p><code>soup.select('#some_id')</code></p>\n",
    "</td>\n",
    "<td>\n",
    "<p>The HTML element containing the <code>id</code> attribute of <code>some_id</code></p>\n",
    "</td>\n",
    "</tr>\n",
    "<tr>\n",
    "<td>\n",
    "<p><code>soup.select('.notice')</code></p>\n",
    "</td>\n",
    "<td>\n",
    "<p>All the HTML elements with the CSS <code>class</code> named <code>notice</code></p>\n",
    "</td>\n",
    "</tr>\n",
    "<tr>\n",
    "<td>\n",
    "<p><code>soup.select('div span')</code></p>\n",
    "</td>\n",
    "<td>\n",
    "<p>Any elements named <code>&lt;span&gt;</code> that are within an element named <code>&lt;div&gt;</code></p>\n",
    "</td>\n",
    "</tr>\n",
    "<tr>\n",
    "<td>\n",
    "<p><code>soup.select('div &gt; span')</code></p>\n",
    "</td>\n",
    "<td>\n",
    "<p>Any elements named <code class=\"literal2\">&lt;span&gt;</code> that are <span><em >directly</em></span> within an element named <code class=\"literal2\">&lt;div&gt;</code>, with no other element in between</p>\n",
    "</td>\n",
    "</tr>\n",
    "<tr>\n",
    "\n",
    "</tr>\n",
    "</tbody>\n",
    "</table>"
   ]
  },
  {
   "cell_type": "code",
   "execution_count": null,
   "id": "affected-personality",
   "metadata": {
    "hidden": true
   },
   "outputs": [],
   "source": []
  },
  {
   "cell_type": "markdown",
   "id": "respiratory-buying",
   "metadata": {
    "heading_collapsed": true
   },
   "source": [
    "# Increase the cell width of the Jupyter/ipython notebook"
   ]
  },
  {
   "cell_type": "markdown",
   "id": "improved-longitude",
   "metadata": {
    "hidden": true
   },
   "source": [
    "https://stackoverflow.com/questions/21971449/how-do-i-increase-the-cell-width-of-the-jupyter-ipython-notebook-in-my-browser\n",
    "\n",
    "If you don't want to change your default settings, \n",
    "and you only want to change the width of the current notebook you're working on,\n",
    "you can enter the following into a cell:\n",
    "\n",
    "    from IPython.display import display, HTML\n",
    "    display(HTML(\"<style>.container { width:100% !important; }</style>\"))\n",
    "    \n",
    "For permanent solution visit the above link"
   ]
  },
  {
   "cell_type": "code",
   "execution_count": null,
   "id": "compound-specialist",
   "metadata": {
    "hidden": true
   },
   "outputs": [],
   "source": []
  }
 ],
 "metadata": {
  "kernelspec": {
   "display_name": "Python 3",
   "language": "python",
   "name": "python3"
  },
  "language_info": {
   "codemirror_mode": {
    "name": "ipython",
    "version": 3
   },
   "file_extension": ".py",
   "mimetype": "text/x-python",
   "name": "python",
   "nbconvert_exporter": "python",
   "pygments_lexer": "ipython3",
   "version": "3.8.4"
  }
 },
 "nbformat": 4,
 "nbformat_minor": 5
}
