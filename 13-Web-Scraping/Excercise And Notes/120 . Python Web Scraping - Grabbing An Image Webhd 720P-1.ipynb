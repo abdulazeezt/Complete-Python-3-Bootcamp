{
 "cells": [
  {
   "cell_type": "markdown",
   "id": "skilled-record",
   "metadata": {},
   "source": [
    "# <span style='color:Yellow'><center> <em>Section 15  Video 119 - Grabbing a Class</em></center> </span>"
   ]
  },
  {
   "cell_type": "markdown",
   "id": "6c7dd8a3",
   "metadata": {
    "heading_collapsed": true
   },
   "source": [
    "## 120 . Python Web Scraping - Grabbing An Image"
   ]
  },
  {
   "cell_type": "markdown",
   "id": "2db9044f",
   "metadata": {
    "hidden": true
   },
   "source": [
    "Need to scan a page and locate <img> tags"
   ]
  },
  {
   "cell_type": "code",
   "execution_count": 37,
   "id": "fd7e781b",
   "metadata": {
    "hidden": true
   },
   "outputs": [],
   "source": [
    "import requests\n",
    "myrequest = requests.get(\"https://en.wikipedia.org/wiki/Deep_Blue_(chess_computer)\")"
   ]
  },
  {
   "cell_type": "code",
   "execution_count": 38,
   "id": "a7c5031f",
   "metadata": {
    "hidden": true
   },
   "outputs": [],
   "source": [
    "# myrequest.text"
   ]
  },
  {
   "cell_type": "code",
   "execution_count": 39,
   "id": "d79a7ff4",
   "metadata": {
    "hidden": true
   },
   "outputs": [],
   "source": [
    "import bs4"
   ]
  },
  {
   "cell_type": "code",
   "execution_count": 40,
   "id": "ecaffc15",
   "metadata": {
    "hidden": true
   },
   "outputs": [],
   "source": [
    "mysoup = bs4.BeautifulSoup(myrequest.text,\"lxml\")"
   ]
  },
  {
   "cell_type": "code",
   "execution_count": null,
   "id": "4e07f560",
   "metadata": {
    "hidden": true
   },
   "outputs": [],
   "source": []
  },
  {
   "cell_type": "code",
   "execution_count": null,
   "id": "5897fc65",
   "metadata": {
    "hidden": true
   },
   "outputs": [],
   "source": []
  },
  {
   "cell_type": "code",
   "execution_count": null,
   "id": "3b0ba45c",
   "metadata": {
    "hidden": true
   },
   "outputs": [],
   "source": []
  },
  {
   "cell_type": "code",
   "execution_count": 19,
   "id": "9f638a30",
   "metadata": {
    "hidden": true
   },
   "outputs": [],
   "source": [
    "# imgsoup = mysoup.select('.mw-file-element' )\n",
    "soupimages = mysoup.select('img')[0]\n",
    "\n",
    "# firstimage = mysoup.select('.mw-file-description')[0]"
   ]
  },
  {
   "cell_type": "code",
   "execution_count": null,
   "id": "3fad0d98",
   "metadata": {
    "hidden": true
   },
   "outputs": [],
   "source": []
  },
  {
   "cell_type": "code",
   "execution_count": null,
   "id": "5306c492",
   "metadata": {
    "hidden": true
   },
   "outputs": [],
   "source": []
  },
  {
   "cell_type": "code",
   "execution_count": null,
   "id": "805b472c",
   "metadata": {
    "hidden": true
   },
   "outputs": [],
   "source": []
  },
  {
   "cell_type": "code",
   "execution_count": null,
   "id": "53fb6c25",
   "metadata": {
    "hidden": true
   },
   "outputs": [],
   "source": []
  },
  {
   "cell_type": "code",
   "execution_count": 35,
   "id": "2f2aabf2",
   "metadata": {
    "hidden": true
   },
   "outputs": [],
   "source": [
    "for i in soupimages:\n",
    "    print (\"###########################################################\")\n",
    "#     print(soupimages[0])\n",
    "    print(i.gettext )\n",
    "#     i.text\n",
    "    "
   ]
  },
  {
   "cell_type": "code",
   "execution_count": null,
   "id": "2b9e8ef1",
   "metadata": {
    "hidden": true
   },
   "outputs": [],
   "source": []
  },
  {
   "cell_type": "code",
   "execution_count": null,
   "id": "c5923b39",
   "metadata": {
    "hidden": true
   },
   "outputs": [],
   "source": []
  },
  {
   "cell_type": "code",
   "execution_count": 13,
   "id": "1e98fa2c",
   "metadata": {
    "hidden": true
   },
   "outputs": [],
   "source": [
    "# firstimage"
   ]
  },
  {
   "cell_type": "code",
   "execution_count": 44,
   "id": "28f5ce18",
   "metadata": {
    "hidden": true
   },
   "outputs": [
    {
     "ename": "NameError",
     "evalue": "name 'firstimage' is not defined",
     "output_type": "error",
     "traceback": [
      "\u001b[1;31m---------------------------------------------------------------------------\u001b[0m",
      "\u001b[1;31mNameError\u001b[0m                                 Traceback (most recent call last)",
      "Input \u001b[1;32mIn [44]\u001b[0m, in \u001b[0;36m<cell line: 1>\u001b[1;34m()\u001b[0m\n\u001b[1;32m----> 1\u001b[0m \u001b[38;5;28mtype\u001b[39m(\u001b[43mfirstimage\u001b[49m)\n",
      "\u001b[1;31mNameError\u001b[0m: name 'firstimage' is not defined"
     ]
    }
   ],
   "source": [
    "type(firstimage)"
   ]
  },
  {
   "cell_type": "code",
   "execution_count": null,
   "id": "2db686a3",
   "metadata": {
    "hidden": true
   },
   "outputs": [],
   "source": []
  },
  {
   "cell_type": "code",
   "execution_count": null,
   "id": "5d131554",
   "metadata": {
    "hidden": true
   },
   "outputs": [],
   "source": []
  },
  {
   "cell_type": "markdown",
   "id": "ec49510a",
   "metadata": {},
   "source": [
    "## Downloading an Image"
   ]
  },
  {
   "cell_type": "code",
   "execution_count": 45,
   "id": "e8b651c6",
   "metadata": {},
   "outputs": [],
   "source": [
    "import requests\n",
    "import bs4 "
   ]
  },
  {
   "cell_type": "code",
   "execution_count": 46,
   "id": "edeeb5b9",
   "metadata": {},
   "outputs": [],
   "source": [
    "myrequest = requests.get(\"https://en.wikipedia.org/wiki/Deep_Blue_(chess_computer)\")"
   ]
  },
  {
   "cell_type": "code",
   "execution_count": 47,
   "id": "ea60872f",
   "metadata": {},
   "outputs": [],
   "source": [
    "sitesoup = bs4.BeautifulSoup(myrequest.text,'lxml')"
   ]
  },
  {
   "cell_type": "code",
   "execution_count": 48,
   "id": "06e67f98",
   "metadata": {},
   "outputs": [],
   "source": [
    "imgsoup = sitesoup.select('.mw-file-element')[1]"
   ]
  },
  {
   "cell_type": "code",
   "execution_count": 115,
   "id": "63b0af19",
   "metadata": {},
   "outputs": [],
   "source": [
    "# computer = sitesoup.select('https://upload.wikimedia.org/wikipedia/commons/thumb/b/be/Deep_Blue.jpg/220px-Deep_Blue.jpg')"
   ]
  },
  {
   "cell_type": "code",
   "execution_count": 49,
   "id": "943152d2",
   "metadata": {},
   "outputs": [
    {
     "data": {
      "text/plain": [
       "bs4.element.Tag"
      ]
     },
     "execution_count": 49,
     "metadata": {},
     "output_type": "execute_result"
    }
   ],
   "source": [
    "type(imgsoup)"
   ]
  },
  {
   "cell_type": "code",
   "execution_count": 50,
   "id": "3245970c",
   "metadata": {},
   "outputs": [
    {
     "data": {
      "text/plain": [
       "'//upload.wikimedia.org/wikipedia/commons/thumb/b/be/Deep_Blue.jpg/220px-Deep_Blue.jpg'"
      ]
     },
     "execution_count": 50,
     "metadata": {},
     "output_type": "execute_result"
    }
   ],
   "source": [
    "imgsoup['src']"
   ]
  },
  {
   "cell_type": "code",
   "execution_count": 28,
   "id": "e0b39ba3",
   "metadata": {},
   "outputs": [
    {
     "data": {
      "text/plain": [
       "<img class=\"mw-file-element\" data-file-height=\"601\" data-file-width=\"400\" decoding=\"async\" height=\"331\" src=\"//upload.wikimedia.org/wikipedia/commons/thumb/b/be/Deep_Blue.jpg/220px-Deep_Blue.jpg\" srcset=\"//upload.wikimedia.org/wikipedia/commons/thumb/b/be/Deep_Blue.jpg/330px-Deep_Blue.jpg 1.5x, //upload.wikimedia.org/wikipedia/commons/b/be/Deep_Blue.jpg 2x\" width=\"220\"/>"
      ]
     },
     "execution_count": 28,
     "metadata": {},
     "output_type": "execute_result"
    }
   ],
   "source": [
    "imgsoup"
   ]
  },
  {
   "cell_type": "code",
   "execution_count": 29,
   "id": "27745383",
   "metadata": {},
   "outputs": [
    {
     "ename": "SyntaxError",
     "evalue": "invalid syntax (2920438558.py, line 1)",
     "output_type": "error",
     "traceback": [
      "\u001b[1;36m  Input \u001b[1;32mIn [29]\u001b[1;36m\u001b[0m\n\u001b[1;33m    <img\u001b[0m\n\u001b[1;37m    ^\u001b[0m\n\u001b[1;31mSyntaxError\u001b[0m\u001b[1;31m:\u001b[0m invalid syntax\n"
     ]
    }
   ],
   "source": [
    "<img \n",
    "src=\"//upload.wikimedia.org/wikipedia/commons/thumb/b/be/Deep_Blue.jpg/220px-Deep_Blue.jpg\" >"
   ]
  },
  {
   "cell_type": "code",
   "execution_count": 51,
   "id": "a0eee9bf",
   "metadata": {},
   "outputs": [],
   "source": [
    "# url = \"//upload.wikimedia.org/wikipedia/commons/thumb/b/be/Deep_Blue.jpg/220px-Deep_Blue.jpg\"\n",
    "imgtodownload = requests.get('https://\\\n",
    "upload.wikimedia.org/wikipedia/commons/thumb/b/be/Deep_Blue.jpg/220px-Deep_Blue.jpg')"
   ]
  },
  {
   "cell_type": "code",
   "execution_count": 52,
   "id": "ed159ab0",
   "metadata": {},
   "outputs": [
    {
     "data": {
      "text/plain": [
       "requests.models.Response"
      ]
     },
     "execution_count": 52,
     "metadata": {},
     "output_type": "execute_result"
    }
   ],
   "source": [
    "type(imgtodownload)"
   ]
  },
  {
   "cell_type": "code",
   "execution_count": 38,
   "id": "72e2568f",
   "metadata": {},
   "outputs": [],
   "source": [
    "# imgtodownload.content"
   ]
  },
  {
   "cell_type": "code",
   "execution_count": 54,
   "id": "aabe6dfb",
   "metadata": {},
   "outputs": [],
   "source": [
    "f = open('my_bluecompimage.jpg','wb')"
   ]
  },
  {
   "cell_type": "code",
   "execution_count": 55,
   "id": "3dc4696c",
   "metadata": {},
   "outputs": [
    {
     "data": {
      "text/plain": [
       "16806"
      ]
     },
     "execution_count": 55,
     "metadata": {},
     "output_type": "execute_result"
    }
   ],
   "source": [
    "f.write(imgtodownload.content)"
   ]
  },
  {
   "cell_type": "code",
   "execution_count": 56,
   "id": "7fc0f4b3",
   "metadata": {},
   "outputs": [],
   "source": [
    "f.close()"
   ]
  },
  {
   "cell_type": "markdown",
   "id": "valid-brief",
   "metadata": {},
   "source": [
    "## Write Binary"
   ]
  },
  {
   "cell_type": "markdown",
   "id": "retained-kennedy",
   "metadata": {},
   "source": [
    "open('my_bluecompimage.jpg','wb')"
   ]
  },
  {
   "cell_type": "markdown",
   "id": "designing-crisis",
   "metadata": {
    "heading_collapsed": true
   },
   "source": [
    "# <span style='color:Yellow'><center> <em>Excercise</em></center> </span>"
   ]
  },
  {
   "cell_type": "code",
   "execution_count": 11,
   "id": "considered-terminal",
   "metadata": {
    "hidden": true
   },
   "outputs": [],
   "source": [
    "import requests\n",
    "import bs4\n",
    "\n",
    "myrequest = requests.get(\"https://en.wikipedia.org/wiki/Deep_Blue_(chess_computer)\")"
   ]
  },
  {
   "cell_type": "code",
   "execution_count": 12,
   "id": "hazardous-applicant",
   "metadata": {
    "hidden": true
   },
   "outputs": [],
   "source": [
    "mysoup = bs4.BeautifulSoup(myrequest.text,'lxml')\n"
   ]
  },
  {
   "cell_type": "code",
   "execution_count": 7,
   "id": "legislative-small",
   "metadata": {
    "hidden": true
   },
   "outputs": [],
   "source": [
    "# mysoup"
   ]
  },
  {
   "cell_type": "code",
   "execution_count": 21,
   "id": "generous-jenny",
   "metadata": {
    "hidden": true
   },
   "outputs": [],
   "source": [
    "result =mysoup.select( '.mw-file-element' )[1]"
   ]
  },
  {
   "cell_type": "code",
   "execution_count": 23,
   "id": "controlled-footage",
   "metadata": {
    "hidden": true
   },
   "outputs": [
    {
     "data": {
      "text/plain": [
       "bs4.element.Tag"
      ]
     },
     "execution_count": 23,
     "metadata": {},
     "output_type": "execute_result"
    }
   ],
   "source": [
    "type (result)"
   ]
  },
  {
   "cell_type": "code",
   "execution_count": 18,
   "id": "backed-scheme",
   "metadata": {
    "hidden": true
   },
   "outputs": [],
   "source": [
    "# mysoup"
   ]
  },
  {
   "cell_type": "code",
   "execution_count": 19,
   "id": "infinite-difficulty",
   "metadata": {
    "hidden": true
   },
   "outputs": [
    {
     "data": {
      "text/plain": [
       "<img alt=\"This is a good article. Click here for more information.\" class=\"mw-file-element\" data-file-height=\"185\" data-file-width=\"180\" decoding=\"async\" height=\"20\" src=\"//upload.wikimedia.org/wikipedia/en/thumb/9/94/Symbol_support_vote.svg/19px-Symbol_support_vote.svg.png\" srcset=\"//upload.wikimedia.org/wikipedia/en/thumb/9/94/Symbol_support_vote.svg/29px-Symbol_support_vote.svg.png 1.5x, //upload.wikimedia.org/wikipedia/en/thumb/9/94/Symbol_support_vote.svg/39px-Symbol_support_vote.svg.png 2x\" width=\"19\"/>"
      ]
     },
     "execution_count": 19,
     "metadata": {},
     "output_type": "execute_result"
    }
   ],
   "source": [
    "result"
   ]
  },
  {
   "cell_type": "code",
   "execution_count": 24,
   "id": "assisted-enough",
   "metadata": {
    "hidden": true
   },
   "outputs": [
    {
     "data": {
      "text/plain": [
       "'//upload.wikimedia.org/wikipedia/commons/thumb/b/be/Deep_Blue.jpg/220px-Deep_Blue.jpg'"
      ]
     },
     "execution_count": 24,
     "metadata": {},
     "output_type": "execute_result"
    }
   ],
   "source": [
    "result['src']"
   ]
  },
  {
   "cell_type": "code",
   "execution_count": null,
   "id": "beginning-breakdown",
   "metadata": {
    "hidden": true
   },
   "outputs": [],
   "source": []
  },
  {
   "cell_type": "code",
   "execution_count": 32,
   "id": "preceding-statement",
   "metadata": {
    "hidden": true
   },
   "outputs": [],
   "source": [
    "image_link = requests.get(\"https://upload.wikimedia.org/wikipedia/\\\n",
    "commons/thumb/b/be/Deep_Blue.jpg/220px-Deep_Blue.jpg\")"
   ]
  },
  {
   "cell_type": "code",
   "execution_count": 35,
   "id": "dated-definition",
   "metadata": {
    "hidden": true
   },
   "outputs": [],
   "source": [
    "f = open('myIBM.jpg','wb')\n"
   ]
  },
  {
   "cell_type": "code",
   "execution_count": 36,
   "id": "metric-programming",
   "metadata": {
    "hidden": true
   },
   "outputs": [
    {
     "data": {
      "text/plain": [
       "16806"
      ]
     },
     "execution_count": 36,
     "metadata": {},
     "output_type": "execute_result"
    }
   ],
   "source": [
    "f.write(image_link.content)"
   ]
  },
  {
   "cell_type": "code",
   "execution_count": 37,
   "id": "forty-carrier",
   "metadata": {
    "hidden": true
   },
   "outputs": [],
   "source": [
    "f.close()"
   ]
  },
  {
   "cell_type": "code",
   "execution_count": null,
   "id": "certified-member",
   "metadata": {
    "hidden": true
   },
   "outputs": [],
   "source": []
  },
  {
   "cell_type": "code",
   "execution_count": null,
   "id": "enclosed-category",
   "metadata": {
    "hidden": true
   },
   "outputs": [],
   "source": []
  },
  {
   "cell_type": "code",
   "execution_count": null,
   "id": "stainless-latin",
   "metadata": {
    "hidden": true
   },
   "outputs": [],
   "source": []
  },
  {
   "cell_type": "code",
   "execution_count": null,
   "id": "musical-clinic",
   "metadata": {
    "hidden": true
   },
   "outputs": [],
   "source": []
  }
 ],
 "metadata": {
  "kernelspec": {
   "display_name": "Python 3",
   "language": "python",
   "name": "python3"
  },
  "language_info": {
   "codemirror_mode": {
    "name": "ipython",
    "version": 3
   },
   "file_extension": ".py",
   "mimetype": "text/x-python",
   "name": "python",
   "nbconvert_exporter": "python",
   "pygments_lexer": "ipython3",
   "version": "3.8.4"
  }
 },
 "nbformat": 4,
 "nbformat_minor": 5
}
