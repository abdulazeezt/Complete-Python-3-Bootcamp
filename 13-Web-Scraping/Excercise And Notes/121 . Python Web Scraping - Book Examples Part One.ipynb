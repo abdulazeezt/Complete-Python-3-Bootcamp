{
 "cells": [
  {
   "cell_type": "markdown",
   "id": "16e995c0",
   "metadata": {},
   "source": [
    "# 121 . Python Web Scraping - Book Examples Part One Webhd"
   ]
  },
  {
   "cell_type": "code",
   "execution_count": 1,
   "id": "27496314",
   "metadata": {},
   "outputs": [],
   "source": [
    "\n",
    "import requests"
   ]
  },
  {
   "cell_type": "code",
   "execution_count": 2,
   "id": "d33703ee",
   "metadata": {},
   "outputs": [],
   "source": [
    "import bs4"
   ]
  },
  {
   "cell_type": "code",
   "execution_count": 6,
   "id": "4c11b945",
   "metadata": {},
   "outputs": [],
   "source": [
    "baseurl = 'http://books.toscrape.com\\\n",
    "/catalogue/page-{}.html'"
   ]
  },
  {
   "cell_type": "code",
   "execution_count": 7,
   "id": "99cb8b4d",
   "metadata": {},
   "outputs": [
    {
     "data": {
      "text/plain": [
       "str"
      ]
     },
     "execution_count": 7,
     "metadata": {},
     "output_type": "execute_result"
    }
   ],
   "source": [
    "type(baseurl)"
   ]
  },
  {
   "cell_type": "code",
   "execution_count": 8,
   "id": "61848f61",
   "metadata": {},
   "outputs": [
    {
     "data": {
      "text/plain": [
       "'http://books.toscrape.com/catalogue/page-{}.html'"
      ]
     },
     "execution_count": 8,
     "metadata": {},
     "output_type": "execute_result"
    }
   ],
   "source": [
    "baseurl"
   ]
  },
  {
   "cell_type": "code",
   "execution_count": 9,
   "id": "e6772177",
   "metadata": {},
   "outputs": [],
   "source": [
    "res = requests.get(baseurl.format(1))"
   ]
  },
  {
   "cell_type": "code",
   "execution_count": null,
   "id": "3432643e",
   "metadata": {},
   "outputs": [],
   "source": []
  }
 ],
 "metadata": {
  "kernelspec": {
   "display_name": "Python 3 (ipykernel)",
   "language": "python",
   "name": "python3"
  },
  "language_info": {
   "codemirror_mode": {
    "name": "ipython",
    "version": 3
   },
   "file_extension": ".py",
   "mimetype": "text/x-python",
   "name": "python",
   "nbconvert_exporter": "python",
   "pygments_lexer": "ipython3",
   "version": "3.10.5"
  }
 },
 "nbformat": 4,
 "nbformat_minor": 5
}
