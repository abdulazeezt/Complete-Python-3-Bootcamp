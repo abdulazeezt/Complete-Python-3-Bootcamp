{
 "cells": [
  {
   "cell_type": "markdown",
   "id": "automatic-control",
   "metadata": {
    "heading_collapsed": true
   },
   "source": [
    "# <h2    > <span style='color:Yellow'><center> <em>Web Scraping Book Examples. Section 15 Videos 121 and 122     </em></center> </span></h2>"
   ]
  },
  {
   "cell_type": "markdown",
   "id": "16e995c0",
   "metadata": {
    "heading_collapsed": true,
    "hidden": true
   },
   "source": [
    "## \n",
    "# 121 . Python Web Scraping - Book Examples Part One Webhd"
   ]
  },
  {
   "cell_type": "code",
   "execution_count": 16,
   "id": "27496314",
   "metadata": {
    "hidden": true
   },
   "outputs": [],
   "source": [
    "import requests"
   ]
  },
  {
   "cell_type": "code",
   "execution_count": 17,
   "id": "d33703ee",
   "metadata": {
    "hidden": true
   },
   "outputs": [],
   "source": [
    "import bs4"
   ]
  },
  {
   "cell_type": "code",
   "execution_count": 18,
   "id": "4c11b945",
   "metadata": {
    "hidden": true
   },
   "outputs": [],
   "source": [
    "baseurl = 'http://books.toscrape.com\\\n",
    "/catalogue/page-{}.html'"
   ]
  },
  {
   "cell_type": "code",
   "execution_count": 19,
   "id": "99cb8b4d",
   "metadata": {
    "hidden": true
   },
   "outputs": [
    {
     "data": {
      "text/plain": [
       "str"
      ]
     },
     "execution_count": 19,
     "metadata": {},
     "output_type": "execute_result"
    }
   ],
   "source": [
    "type(baseurl)"
   ]
  },
  {
   "cell_type": "code",
   "execution_count": 20,
   "id": "61848f61",
   "metadata": {
    "hidden": true
   },
   "outputs": [
    {
     "data": {
      "text/plain": [
       "'http://books.toscrape.com/catalogue/page-{}.html'"
      ]
     },
     "execution_count": 20,
     "metadata": {},
     "output_type": "execute_result"
    }
   ],
   "source": [
    "baseurl"
   ]
  },
  {
   "cell_type": "code",
   "execution_count": 21,
   "id": "e6772177",
   "metadata": {
    "hidden": true
   },
   "outputs": [],
   "source": [
    "res = requests.get(baseurl.format(1))"
   ]
  },
  {
   "cell_type": "code",
   "execution_count": 22,
   "id": "3432643e",
   "metadata": {
    "hidden": true
   },
   "outputs": [],
   "source": [
    "mysoup = bs4.BeautifulSoup(res.text,'lxml')"
   ]
  },
  {
   "cell_type": "code",
   "execution_count": 42,
   "id": "8bfaaad0",
   "metadata": {
    "hidden": true
   },
   "outputs": [],
   "source": [
    "# mysoup"
   ]
  },
  {
   "cell_type": "code",
   "execution_count": 24,
   "id": "b389b35a",
   "metadata": {
    "hidden": true
   },
   "outputs": [
    {
     "data": {
      "text/plain": [
       "20"
      ]
     },
     "execution_count": 24,
     "metadata": {},
     "output_type": "execute_result"
    }
   ],
   "source": [
    "len(mysoup.select(\".product_pod\"))"
   ]
  },
  {
   "cell_type": "code",
   "execution_count": null,
   "id": "b9775a37",
   "metadata": {
    "hidden": true
   },
   "outputs": [],
   "source": []
  },
  {
   "cell_type": "code",
   "execution_count": 25,
   "id": "7cd9ae99",
   "metadata": {
    "hidden": true
   },
   "outputs": [],
   "source": [
    "products = mysoup.select(\".product_pod\")"
   ]
  },
  {
   "cell_type": "code",
   "execution_count": 26,
   "id": "b8d69971",
   "metadata": {
    "hidden": true
   },
   "outputs": [
    {
     "data": {
      "text/plain": [
       "bs4.element.ResultSet"
      ]
     },
     "execution_count": 26,
     "metadata": {},
     "output_type": "execute_result"
    }
   ],
   "source": [
    "type(products)"
   ]
  },
  {
   "cell_type": "code",
   "execution_count": 43,
   "id": "domestic-heart",
   "metadata": {
    "hidden": true
   },
   "outputs": [],
   "source": [
    "example = products[0]"
   ]
  },
  {
   "cell_type": "code",
   "execution_count": 51,
   "id": "subsequent-horizon",
   "metadata": {
    "hidden": true
   },
   "outputs": [
    {
     "data": {
      "text/plain": [
       "[<p class=\"star-rating Three\">\n",
       " <i class=\"icon-star\"></i>\n",
       " <i class=\"icon-star\"></i>\n",
       " <i class=\"icon-star\"></i>\n",
       " <i class=\"icon-star\"></i>\n",
       " <i class=\"icon-star\"></i>\n",
       " </p>]"
      ]
     },
     "execution_count": 51,
     "metadata": {},
     "output_type": "execute_result"
    }
   ],
   "source": [
    "example.select(\".star-rating\" )"
   ]
  },
  {
   "cell_type": "code",
   "execution_count": null,
   "id": "pointed-evidence",
   "metadata": {
    "hidden": true
   },
   "outputs": [],
   "source": []
  },
  {
   "cell_type": "code",
   "execution_count": null,
   "id": "silent-system",
   "metadata": {
    "hidden": true
   },
   "outputs": [],
   "source": []
  },
  {
   "cell_type": "code",
   "execution_count": null,
   "id": "liberal-prescription",
   "metadata": {
    "hidden": true
   },
   "outputs": [],
   "source": []
  },
  {
   "cell_type": "code",
   "execution_count": 39,
   "id": "7f1c83be",
   "metadata": {
    "hidden": true
   },
   "outputs": [],
   "source": [
    "products[0]\n",
    "\n",
    "prodstr = str(products[0])"
   ]
  },
  {
   "cell_type": "code",
   "execution_count": 40,
   "id": "6ec3f8ab",
   "metadata": {
    "hidden": true
   },
   "outputs": [],
   "source": [
    "# prodstr"
   ]
  },
  {
   "cell_type": "code",
   "execution_count": 41,
   "id": "85c0283e",
   "metadata": {
    "hidden": true
   },
   "outputs": [],
   "source": [
    "import re"
   ]
  },
  {
   "cell_type": "code",
   "execution_count": 37,
   "id": "52289f3d",
   "metadata": {
    "hidden": true
   },
   "outputs": [],
   "source": [
    "# \n",
    "# twostar = re.search(r'star-rating Three',prodstr)\n",
    "# twostar = re.search(r'\\w{4}-\\w{6}',prodstr)"
   ]
  },
  {
   "cell_type": "code",
   "execution_count": 36,
   "id": "72eb6e56",
   "metadata": {
    "hidden": true
   },
   "outputs": [],
   "source": [
    "# type(twostar)"
   ]
  },
  {
   "cell_type": "code",
   "execution_count": 34,
   "id": "f50e9818",
   "metadata": {
    "hidden": true
   },
   "outputs": [],
   "source": [
    "# twostar.string"
   ]
  },
  {
   "cell_type": "code",
   "execution_count": null,
   "id": "ff0ff952",
   "metadata": {
    "hidden": true
   },
   "outputs": [],
   "source": [
    "products.source"
   ]
  },
  {
   "cell_type": "code",
   "execution_count": null,
   "id": "informative-bishop",
   "metadata": {
    "hidden": true
   },
   "outputs": [],
   "source": []
  },
  {
   "cell_type": "code",
   "execution_count": null,
   "id": "revolutionary-karaoke",
   "metadata": {
    "hidden": true
   },
   "outputs": [],
   "source": []
  },
  {
   "cell_type": "code",
   "execution_count": 56,
   "id": "fancy-lemon",
   "metadata": {
    "hidden": true
   },
   "outputs": [
    {
     "data": {
      "text/plain": [
       "['Starving Hearts (Triangular Trade Trilogy, #1)',\n",
       " 'Libertarianism for Beginners',\n",
       " \"It's Only the Himalayas\",\n",
       " 'Starving Hearts (Triangular Trade Trilogy, #1)',\n",
       " 'Libertarianism for Beginners',\n",
       " \"It's Only the Himalayas\",\n",
       " 'Starving Hearts (Triangular Trade Trilogy, #1)',\n",
       " 'Libertarianism for Beginners',\n",
       " \"It's Only the Himalayas\",\n",
       " 'Starving Hearts (Triangular Trade Trilogy, #1)',\n",
       " 'Libertarianism for Beginners',\n",
       " \"It's Only the Himalayas\",\n",
       " 'Starving Hearts (Triangular Trade Trilogy, #1)',\n",
       " 'Libertarianism for Beginners',\n",
       " \"It's Only the Himalayas\",\n",
       " 'Starving Hearts (Triangular Trade Trilogy, #1)',\n",
       " 'Libertarianism for Beginners',\n",
       " \"It's Only the Himalayas\",\n",
       " 'Starving Hearts (Triangular Trade Trilogy, #1)',\n",
       " 'Libertarianism for Beginners',\n",
       " \"It's Only the Himalayas\",\n",
       " 'Starving Hearts (Triangular Trade Trilogy, #1)',\n",
       " 'Libertarianism for Beginners',\n",
       " \"It's Only the Himalayas\",\n",
       " 'Starving Hearts (Triangular Trade Trilogy, #1)',\n",
       " 'Libertarianism for Beginners',\n",
       " \"It's Only the Himalayas\",\n",
       " 'Starving Hearts (Triangular Trade Trilogy, #1)',\n",
       " 'Libertarianism for Beginners',\n",
       " \"It's Only the Himalayas\",\n",
       " 'Starving Hearts (Triangular Trade Trilogy, #1)',\n",
       " 'Libertarianism for Beginners',\n",
       " \"It's Only the Himalayas\",\n",
       " 'Starving Hearts (Triangular Trade Trilogy, #1)',\n",
       " 'Libertarianism for Beginners',\n",
       " \"It's Only the Himalayas\",\n",
       " 'Starving Hearts (Triangular Trade Trilogy, #1)',\n",
       " 'Libertarianism for Beginners',\n",
       " \"It's Only the Himalayas\",\n",
       " 'Starving Hearts (Triangular Trade Trilogy, #1)',\n",
       " 'Libertarianism for Beginners',\n",
       " \"It's Only the Himalayas\",\n",
       " 'Starving Hearts (Triangular Trade Trilogy, #1)',\n",
       " 'Libertarianism for Beginners',\n",
       " \"It's Only the Himalayas\",\n",
       " 'Starving Hearts (Triangular Trade Trilogy, #1)',\n",
       " 'Libertarianism for Beginners',\n",
       " \"It's Only the Himalayas\",\n",
       " 'Starving Hearts (Triangular Trade Trilogy, #1)',\n",
       " 'Libertarianism for Beginners',\n",
       " \"It's Only the Himalayas\",\n",
       " 'Starving Hearts (Triangular Trade Trilogy, #1)',\n",
       " 'Libertarianism for Beginners',\n",
       " \"It's Only the Himalayas\",\n",
       " 'Starving Hearts (Triangular Trade Trilogy, #1)',\n",
       " 'Libertarianism for Beginners',\n",
       " \"It's Only the Himalayas\",\n",
       " 'Starving Hearts (Triangular Trade Trilogy, #1)',\n",
       " 'Libertarianism for Beginners',\n",
       " \"It's Only the Himalayas\",\n",
       " 'Starving Hearts (Triangular Trade Trilogy, #1)',\n",
       " 'Libertarianism for Beginners',\n",
       " \"It's Only the Himalayas\",\n",
       " 'Starving Hearts (Triangular Trade Trilogy, #1)',\n",
       " 'Libertarianism for Beginners',\n",
       " \"It's Only the Himalayas\",\n",
       " 'Starving Hearts (Triangular Trade Trilogy, #1)',\n",
       " 'Libertarianism for Beginners',\n",
       " \"It's Only the Himalayas\",\n",
       " 'Starving Hearts (Triangular Trade Trilogy, #1)',\n",
       " 'Libertarianism for Beginners',\n",
       " \"It's Only the Himalayas\",\n",
       " 'Starving Hearts (Triangular Trade Trilogy, #1)',\n",
       " 'Libertarianism for Beginners',\n",
       " \"It's Only the Himalayas\",\n",
       " 'Starving Hearts (Triangular Trade Trilogy, #1)',\n",
       " 'Libertarianism for Beginners',\n",
       " \"It's Only the Himalayas\",\n",
       " 'Starving Hearts (Triangular Trade Trilogy, #1)',\n",
       " 'Libertarianism for Beginners',\n",
       " \"It's Only the Himalayas\",\n",
       " 'Starving Hearts (Triangular Trade Trilogy, #1)',\n",
       " 'Libertarianism for Beginners',\n",
       " \"It's Only the Himalayas\",\n",
       " 'Starving Hearts (Triangular Trade Trilogy, #1)',\n",
       " 'Libertarianism for Beginners',\n",
       " \"It's Only the Himalayas\",\n",
       " 'Starving Hearts (Triangular Trade Trilogy, #1)',\n",
       " 'Libertarianism for Beginners',\n",
       " \"It's Only the Himalayas\",\n",
       " 'Starving Hearts (Triangular Trade Trilogy, #1)',\n",
       " 'Libertarianism for Beginners',\n",
       " \"It's Only the Himalayas\",\n",
       " 'Starving Hearts (Triangular Trade Trilogy, #1)',\n",
       " 'Libertarianism for Beginners',\n",
       " \"It's Only the Himalayas\",\n",
       " 'Starving Hearts (Triangular Trade Trilogy, #1)',\n",
       " 'Libertarianism for Beginners',\n",
       " \"It's Only the Himalayas\",\n",
       " 'Starving Hearts (Triangular Trade Trilogy, #1)',\n",
       " 'Libertarianism for Beginners',\n",
       " \"It's Only the Himalayas\",\n",
       " 'Starving Hearts (Triangular Trade Trilogy, #1)',\n",
       " 'Libertarianism for Beginners',\n",
       " \"It's Only the Himalayas\",\n",
       " 'Starving Hearts (Triangular Trade Trilogy, #1)',\n",
       " 'Libertarianism for Beginners',\n",
       " \"It's Only the Himalayas\",\n",
       " 'Starving Hearts (Triangular Trade Trilogy, #1)',\n",
       " 'Libertarianism for Beginners',\n",
       " \"It's Only the Himalayas\",\n",
       " 'Starving Hearts (Triangular Trade Trilogy, #1)',\n",
       " 'Libertarianism for Beginners',\n",
       " \"It's Only the Himalayas\",\n",
       " 'Starving Hearts (Triangular Trade Trilogy, #1)',\n",
       " 'Libertarianism for Beginners',\n",
       " \"It's Only the Himalayas\",\n",
       " 'Starving Hearts (Triangular Trade Trilogy, #1)',\n",
       " 'Libertarianism for Beginners',\n",
       " \"It's Only the Himalayas\",\n",
       " 'Starving Hearts (Triangular Trade Trilogy, #1)',\n",
       " 'Libertarianism for Beginners',\n",
       " \"It's Only the Himalayas\",\n",
       " 'Starving Hearts (Triangular Trade Trilogy, #1)',\n",
       " 'Libertarianism for Beginners',\n",
       " \"It's Only the Himalayas\",\n",
       " 'Starving Hearts (Triangular Trade Trilogy, #1)',\n",
       " 'Libertarianism for Beginners',\n",
       " \"It's Only the Himalayas\",\n",
       " 'Starving Hearts (Triangular Trade Trilogy, #1)',\n",
       " 'Libertarianism for Beginners',\n",
       " \"It's Only the Himalayas\",\n",
       " 'Starving Hearts (Triangular Trade Trilogy, #1)',\n",
       " 'Libertarianism for Beginners',\n",
       " \"It's Only the Himalayas\",\n",
       " 'Starving Hearts (Triangular Trade Trilogy, #1)',\n",
       " 'Libertarianism for Beginners',\n",
       " \"It's Only the Himalayas\",\n",
       " 'Starving Hearts (Triangular Trade Trilogy, #1)',\n",
       " 'Libertarianism for Beginners',\n",
       " \"It's Only the Himalayas\",\n",
       " 'Starving Hearts (Triangular Trade Trilogy, #1)',\n",
       " 'Libertarianism for Beginners',\n",
       " \"It's Only the Himalayas\",\n",
       " 'Starving Hearts (Triangular Trade Trilogy, #1)',\n",
       " 'Libertarianism for Beginners',\n",
       " \"It's Only the Himalayas\",\n",
       " 'Starving Hearts (Triangular Trade Trilogy, #1)',\n",
       " 'Libertarianism for Beginners',\n",
       " \"It's Only the Himalayas\"]"
      ]
     },
     "execution_count": 56,
     "metadata": {},
     "output_type": "execute_result"
    }
   ],
   "source": [
    "two_star_titles = []\n",
    "for n in range(1,51):\n",
    "    scrape_url = baseurl.format(n)\n",
    "    res = requests.get(scrape_url )\n",
    "    soup = bs4.BeautifulSoup(res.text,  'lxml' )\n",
    "    books = mysoup.select(\".product_pod\")\n",
    "    for book in books:\n",
    "        if len(book.select('.star-rating.Two')) != 0:\n",
    "            book_title = book.select('a')[1]['title']\n",
    "            two_star_titles.append(book_title)\n",
    "            \n",
    "two_star_titles"
   ]
  },
  {
   "cell_type": "code",
   "execution_count": null,
   "id": "announced-warren",
   "metadata": {
    "hidden": true
   },
   "outputs": [],
   "source": [
    "two"
   ]
  },
  {
   "cell_type": "code",
   "execution_count": null,
   "id": "british-colors",
   "metadata": {
    "hidden": true
   },
   "outputs": [],
   "source": []
  },
  {
   "cell_type": "markdown",
   "id": "average-wages",
   "metadata": {},
   "source": [
    "# <h2    > <span style='color:Yellow'><center> <em>Excercise.</em></center> </span></h2>"
   ]
  },
  {
   "cell_type": "code",
   "execution_count": 2,
   "id": "missing-rolling",
   "metadata": {},
   "outputs": [],
   "source": [
    "import requests\n",
    "import bs4\n",
    "base_url = \"http://books.toscrape.com/catalogue/page-{}.html\""
   ]
  },
  {
   "cell_type": "code",
   "execution_count": 3,
   "id": "composed-portugal",
   "metadata": {},
   "outputs": [],
   "source": [
    "page_num = 1\n",
    "myrequests = requests.get(base_url.format(page_num)  )"
   ]
  },
  {
   "cell_type": "code",
   "execution_count": 4,
   "id": "integral-romantic",
   "metadata": {},
   "outputs": [],
   "source": [
    "soup = bs4.BeautifulSoup(myrequests.text,'lxml')"
   ]
  },
  {
   "cell_type": "code",
   "execution_count": 5,
   "id": "animal-edmonton",
   "metadata": {},
   "outputs": [],
   "source": [
    "# soup"
   ]
  },
  {
   "cell_type": "code",
   "execution_count": 6,
   "id": "entitled-victory",
   "metadata": {},
   "outputs": [],
   "source": [
    "\n",
    "# soup.select(\".product_pod\")"
   ]
  },
  {
   "cell_type": "code",
   "execution_count": 7,
   "id": "ethical-commons",
   "metadata": {},
   "outputs": [],
   "source": [
    "prd_pod =  soup.select(\".product_pod\")"
   ]
  },
  {
   "cell_type": "code",
   "execution_count": 8,
   "id": "august-causing",
   "metadata": {},
   "outputs": [
    {
     "data": {
      "text/plain": [
       "bs4.element.ResultSet"
      ]
     },
     "execution_count": 8,
     "metadata": {},
     "output_type": "execute_result"
    }
   ],
   "source": [
    "type(prd_pod)"
   ]
  },
  {
   "cell_type": "code",
   "execution_count": 9,
   "id": "consolidated-display",
   "metadata": {},
   "outputs": [
    {
     "data": {
      "text/plain": [
       "20"
      ]
     },
     "execution_count": 9,
     "metadata": {},
     "output_type": "execute_result"
    }
   ],
   "source": [
    "len(prd_pod)"
   ]
  },
  {
   "cell_type": "code",
   "execution_count": 10,
   "id": "varying-lawrence",
   "metadata": {},
   "outputs": [],
   "source": [
    "# prd_pod"
   ]
  },
  {
   "cell_type": "code",
   "execution_count": 12,
   "id": "increasing-sudan",
   "metadata": {},
   "outputs": [],
   "source": [
    "example = prd_pod[1]"
   ]
  },
  {
   "cell_type": "code",
   "execution_count": 13,
   "id": "enclosed-lambda",
   "metadata": {},
   "outputs": [],
   "source": [
    "# str(example)"
   ]
  },
  {
   "cell_type": "code",
   "execution_count": 14,
   "id": "pursuant-colleague",
   "metadata": {},
   "outputs": [],
   "source": [
    "# example.select(\".star-rating\")"
   ]
  },
  {
   "cell_type": "code",
   "execution_count": 15,
   "id": "lasting-tobacco",
   "metadata": {},
   "outputs": [
    {
     "name": "stdout",
     "output_type": "stream",
     "text": [
      "No match ----------------------------------------------------------------\n",
      "No match ----------------------------------------------------------------\n",
      "No match ----------------------------------------------------------------\n",
      "No match ----------------------------------------------------------------\n",
      "No match ----------------------------------------------------------------\n",
      "No match ----------------------------------------------------------------\n",
      "No match ----------------------------------------------------------------\n",
      "No match ----------------------------------------------------------------\n",
      "No match ----------------------------------------------------------------\n",
      "No match ----------------------------------------------------------------\n",
      "\n",
      " ######### Currently at page : 1 ###################################\n",
      "\n",
      "No match ----------------------------------------------------------------\n",
      "No match ----------------------------------------------------------------\n",
      "No match ----------------------------------------------------------------\n",
      "No match ----------------------------------------------------------------\n",
      "No match ----------------------------------------------------------------\n",
      "No match ----------------------------------------------------------------\n",
      "No match ----------------------------------------------------------------\n",
      "\n",
      " ######### Currently at page : 1 ###################################\n",
      "\n",
      "\n",
      " ######### Currently at page : 1 ###################################\n",
      "\n",
      "No match ----------------------------------------------------------------\n",
      "\n",
      " ######### Currently at page : 2 ###################################\n",
      "\n",
      "No match ----------------------------------------------------------------\n",
      "No match ----------------------------------------------------------------\n",
      "No match ----------------------------------------------------------------\n",
      "No match ----------------------------------------------------------------\n",
      "No match ----------------------------------------------------------------\n",
      "No match ----------------------------------------------------------------\n",
      "No match ----------------------------------------------------------------\n",
      "No match ----------------------------------------------------------------\n",
      "No match ----------------------------------------------------------------\n",
      "No match ----------------------------------------------------------------\n",
      "No match ----------------------------------------------------------------\n",
      "No match ----------------------------------------------------------------\n",
      "No match ----------------------------------------------------------------\n",
      "No match ----------------------------------------------------------------\n",
      "\n",
      " ######### Currently at page : 2 ###################################\n",
      "\n",
      "No match ----------------------------------------------------------------\n",
      "No match ----------------------------------------------------------------\n",
      "\n",
      " ######### Currently at page : 2 ###################################\n",
      "\n",
      "No match ----------------------------------------------------------------\n",
      "\n",
      " ######### Currently at page : 3 ###################################\n",
      "\n",
      "No match ----------------------------------------------------------------\n",
      "No match ----------------------------------------------------------------\n",
      "\n",
      " ######### Currently at page : 3 ###################################\n",
      "\n",
      "No match ----------------------------------------------------------------\n",
      "No match ----------------------------------------------------------------\n",
      "No match ----------------------------------------------------------------\n",
      "No match ----------------------------------------------------------------\n",
      "No match ----------------------------------------------------------------\n",
      "No match ----------------------------------------------------------------\n",
      "No match ----------------------------------------------------------------\n",
      "No match ----------------------------------------------------------------\n",
      "No match ----------------------------------------------------------------\n",
      "No match ----------------------------------------------------------------\n",
      "No match ----------------------------------------------------------------\n",
      "No match ----------------------------------------------------------------\n",
      "No match ----------------------------------------------------------------\n",
      "No match ----------------------------------------------------------------\n",
      "No match ----------------------------------------------------------------\n",
      "No match ----------------------------------------------------------------\n",
      "No match ----------------------------------------------------------------\n",
      "No match ----------------------------------------------------------------\n",
      "No match ----------------------------------------------------------------\n",
      "No match ----------------------------------------------------------------\n",
      "No match ----------------------------------------------------------------\n",
      "No match ----------------------------------------------------------------\n",
      "No match ----------------------------------------------------------------\n",
      "No match ----------------------------------------------------------------\n",
      "No match ----------------------------------------------------------------\n",
      "No match ----------------------------------------------------------------\n",
      "No match ----------------------------------------------------------------\n",
      "No match ----------------------------------------------------------------\n",
      "No match ----------------------------------------------------------------\n",
      "\n",
      " ######### Currently at page : 4 ###################################\n",
      "\n",
      "\n",
      " ######### Currently at page : 4 ###################################\n",
      "\n",
      "No match ----------------------------------------------------------------\n",
      "\n",
      " ######### Currently at page : 4 ###################################\n",
      "\n",
      "\n",
      " ######### Currently at page : 4 ###################################\n",
      "\n",
      "No match ----------------------------------------------------------------\n",
      "No match ----------------------------------------------------------------\n",
      "No match ----------------------------------------------------------------\n",
      "No match ----------------------------------------------------------------\n",
      "\n",
      " ######### Currently at page : 5 ###################################\n",
      "\n",
      "No match ----------------------------------------------------------------\n",
      "No match ----------------------------------------------------------------\n",
      "No match ----------------------------------------------------------------\n",
      "No match ----------------------------------------------------------------\n",
      "No match ----------------------------------------------------------------\n",
      "\n",
      " ######### Currently at page : 5 ###################################\n",
      "\n",
      "\n",
      " ######### Currently at page : 5 ###################################\n",
      "\n",
      "\n",
      " ######### Currently at page : 5 ###################################\n",
      "\n",
      "No match ----------------------------------------------------------------\n",
      "\n",
      " ######### Currently at page : 5 ###################################\n",
      "\n",
      "No match ----------------------------------------------------------------\n",
      "\n",
      " ######### Currently at page : 5 ###################################\n",
      "\n",
      "No match ----------------------------------------------------------------\n",
      "\n",
      " ######### Currently at page : 5 ###################################\n",
      "\n",
      "No match ----------------------------------------------------------------\n",
      "No match ----------------------------------------------------------------\n",
      "No match ----------------------------------------------------------------\n",
      "\n",
      " ######### Currently at page : 6 ###################################\n",
      "\n",
      "No match ----------------------------------------------------------------\n",
      "No match ----------------------------------------------------------------\n",
      "No match ----------------------------------------------------------------\n",
      "\n",
      " ######### Currently at page : 6 ###################################\n",
      "\n",
      "No match ----------------------------------------------------------------\n",
      "No match ----------------------------------------------------------------\n",
      "No match ----------------------------------------------------------------\n",
      "\n",
      " ######### Currently at page : 6 ###################################\n",
      "\n",
      "\n",
      " ######### Currently at page : 6 ###################################\n",
      "\n",
      "No match ----------------------------------------------------------------\n",
      "No match ----------------------------------------------------------------\n",
      "No match ----------------------------------------------------------------\n",
      "No match ----------------------------------------------------------------\n",
      "No match ----------------------------------------------------------------\n",
      "No match ----------------------------------------------------------------\n",
      "\n",
      " ######### Currently at page : 6 ###################################\n",
      "\n",
      "\n",
      " ######### Currently at page : 6 ###################################\n",
      "\n",
      "\n",
      " ######### Currently at page : 6 ###################################\n",
      "\n"
     ]
    },
    {
     "name": "stdout",
     "output_type": "stream",
     "text": [
      "No match ----------------------------------------------------------------\n",
      "No match ----------------------------------------------------------------\n",
      "No match ----------------------------------------------------------------\n",
      "No match ----------------------------------------------------------------\n",
      "No match ----------------------------------------------------------------\n",
      "No match ----------------------------------------------------------------\n",
      "No match ----------------------------------------------------------------\n",
      "No match ----------------------------------------------------------------\n",
      "No match ----------------------------------------------------------------\n",
      "No match ----------------------------------------------------------------\n",
      "\n",
      " ######### Currently at page : 7 ###################################\n",
      "\n",
      "No match ----------------------------------------------------------------\n",
      "No match ----------------------------------------------------------------\n",
      "No match ----------------------------------------------------------------\n",
      "No match ----------------------------------------------------------------\n",
      "No match ----------------------------------------------------------------\n",
      "No match ----------------------------------------------------------------\n",
      "No match ----------------------------------------------------------------\n",
      "No match ----------------------------------------------------------------\n",
      "No match ----------------------------------------------------------------\n",
      "No match ----------------------------------------------------------------\n",
      "No match ----------------------------------------------------------------\n",
      "No match ----------------------------------------------------------------\n",
      "\n",
      " ######### Currently at page : 8 ###################################\n",
      "\n",
      "No match ----------------------------------------------------------------\n",
      "\n",
      " ######### Currently at page : 8 ###################################\n",
      "\n",
      "\n",
      " ######### Currently at page : 8 ###################################\n",
      "\n",
      "No match ----------------------------------------------------------------\n",
      "No match ----------------------------------------------------------------\n",
      "No match ----------------------------------------------------------------\n",
      "No match ----------------------------------------------------------------\n",
      "\n",
      " ######### Currently at page : 8 ###################################\n",
      "\n",
      "No match ----------------------------------------------------------------\n",
      "No match ----------------------------------------------------------------\n",
      "No match ----------------------------------------------------------------\n",
      "No match ----------------------------------------------------------------\n",
      "\n",
      " ######### Currently at page : 8 ###################################\n",
      "\n",
      "No match ----------------------------------------------------------------\n",
      "\n",
      " ######### Currently at page : 8 ###################################\n",
      "\n",
      "No match ----------------------------------------------------------------\n"
     ]
    }
   ],
   "source": [
    "prdlength = len(prd_pod)\n",
    "twostarprdlist = []\n",
    "import re\n",
    "for page_num in range(1,9):\n",
    "    \n",
    "    \n",
    "    myrequests = requests.get(base_url.format(page_num))\n",
    "    soup = bs4.BeautifulSoup(myrequests.text,'lxml')\n",
    "    prd_pod =  soup.select(\".product_pod\")\n",
    "    \n",
    "    \n",
    "    for i in range(prdlength):\n",
    "\n",
    "    #     print(example.select(\".star-rating\"))\n",
    "        book = prd_pod[i]  \n",
    "    #     print(f\"\\n value of  i ############################## : {i} and result is :::::\\n {result}\")\n",
    "\n",
    "        ans = re.findall(\"star-rating Two|two\", str(book))\n",
    "    #     print(ans)\n",
    "\n",
    "        if (ans):\n",
    "    #       print(\"Yessssssssssssssssssssss, there is at least one match!\")\n",
    "#           print(f\"\\n value of  i ############################## : {i} and result is :::::\\n {result}\")\n",
    "            print(f\"\\n ######### Currently at page : {page_num} ###################################\\n\")\n",
    "\n",
    "            twostarprdlist.append(result.select('a')[1].text)\n",
    "        else:\n",
    "            print(\"No match ----------------------------------------------------------------\")"
   ]
  },
  {
   "cell_type": "code",
   "execution_count": null,
   "id": "female-wound",
   "metadata": {},
   "outputs": [],
   "source": []
  },
  {
   "cell_type": "code",
   "execution_count": 106,
   "id": "posted-welcome",
   "metadata": {},
   "outputs": [],
   "source": [
    "# for i in range(prdlength):\n",
    "#     print(\"asfafa\")"
   ]
  },
  {
   "cell_type": "code",
   "execution_count": null,
   "id": "natural-glenn",
   "metadata": {},
   "outputs": [],
   "source": []
  },
  {
   "cell_type": "code",
   "execution_count": null,
   "id": "atomic-elimination",
   "metadata": {},
   "outputs": [],
   "source": []
  },
  {
   "cell_type": "code",
   "execution_count": 37,
   "id": "weighted-cookbook",
   "metadata": {},
   "outputs": [
    {
     "data": {
      "text/plain": [
       "['Starving Hearts (Triangular Trade ...',\n",
       " 'Libertarianism for Beginners',\n",
       " \"It's Only the Himalayas\"]"
      ]
     },
     "execution_count": 37,
     "metadata": {},
     "output_type": "execute_result"
    }
   ],
   "source": [
    "twostarprdlist"
   ]
  },
  {
   "cell_type": "code",
   "execution_count": 35,
   "id": "cosmetic-growth",
   "metadata": {},
   "outputs": [
    {
     "data": {
      "text/plain": [
       "\"It's Only the Himalayas\""
      ]
     },
     "execution_count": 35,
     "metadata": {},
     "output_type": "execute_result"
    }
   ],
   "source": [
    "result.select('a')[1].text"
   ]
  },
  {
   "cell_type": "code",
   "execution_count": 16,
   "id": "instrumental-psychology",
   "metadata": {},
   "outputs": [
    {
     "data": {
      "text/plain": [
       "['Starving Hearts (Triangular Trade ...',\n",
       " 'Libertarianism for Beginners',\n",
       " \"It's Only the Himalayas\",\n",
       " 'How Music Works',\n",
       " 'Maude (1883-1993):She Grew Up ...',\n",
       " \"You can't bury them ...\",\n",
       " 'Reasons to Stay Alive',\n",
       " 'Without Borders (Wanderlove #1)',\n",
       " 'Soul Reader',\n",
       " 'Security',\n",
       " 'Saga, Volume 5 (Saga ...',\n",
       " 'Reskilling America: Learning to ...',\n",
       " 'Political Suicide: Missteps, Peccadilloes, ...',\n",
       " 'Obsidian (Lux #1)',\n",
       " 'My Paris Kitchen: Recipes ...',\n",
       " 'Masks and Shadows',\n",
       " 'Lumberjanes, Vol. 2: Friendship ...',\n",
       " 'Lumberjanes Vol. 3: A ...',\n",
       " 'Judo: Seven Steps to ...',\n",
       " 'I Hate Fairyland, Vol. ...',\n",
       " 'Giant Days, Vol. 2 ...',\n",
       " 'Everydata: The Misinformation Hidden ...',\n",
       " \"Don't Be a Jerk: ...\",\n",
       " 'Bossypants',\n",
       " 'Bitch Planet, Vol. 1: ...',\n",
       " 'Avatar: The Last Airbender: ...',\n",
       " 'Tuesday Nights in 1980',\n",
       " 'The Psychopath Test: A ...',\n",
       " 'The Power of Now: ...',\n",
       " \"The Omnivore's Dilemma: A ...\",\n",
       " 'The Love and Lemons ...',\n",
       " 'The Girl on the ...',\n",
       " 'The Emerald Mystery']"
      ]
     },
     "execution_count": 16,
     "metadata": {},
     "output_type": "execute_result"
    }
   ],
   "source": [
    "twostarprdlist"
   ]
  },
  {
   "cell_type": "code",
   "execution_count": null,
   "id": "static-ukraine",
   "metadata": {},
   "outputs": [],
   "source": []
  },
  {
   "cell_type": "code",
   "execution_count": null,
   "id": "circular-withdrawal",
   "metadata": {},
   "outputs": [],
   "source": []
  },
  {
   "cell_type": "code",
   "execution_count": null,
   "id": "silver-shore",
   "metadata": {},
   "outputs": [],
   "source": []
  },
  {
   "cell_type": "code",
   "execution_count": null,
   "id": "developing-encoding",
   "metadata": {},
   "outputs": [],
   "source": []
  }
 ],
 "metadata": {
  "kernelspec": {
   "display_name": "Python 3",
   "language": "python",
   "name": "python3"
  },
  "language_info": {
   "codemirror_mode": {
    "name": "ipython",
    "version": 3
   },
   "file_extension": ".py",
   "mimetype": "text/x-python",
   "name": "python",
   "nbconvert_exporter": "python",
   "pygments_lexer": "ipython3",
   "version": "3.8.4"
  }
 },
 "nbformat": 4,
 "nbformat_minor": 5
}
