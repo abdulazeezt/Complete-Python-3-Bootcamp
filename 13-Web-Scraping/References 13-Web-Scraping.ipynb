{
 "cells": [
  {
   "cell_type": "markdown",
   "metadata": {},
   "source": [
    "# Requests Library\n",
    "\n",
    "    import requests\n",
    "    myrequest = requests.get(\"http://example.com\")\n",
    "    myrequest.text\n",
    "\n",
    "# bs4 Library ( BeautifulSoup)\n",
    "    import bs4\n",
    "    soup = bs4.BeautifulSoup(myrequest.text,\"lxml\")\n",
    "    for i in soup.select('p'):\n",
    "        print (f\" Paragraph : ----- {n}\")\n",
    "        print(i)\n",
    "        n = n+1\n",
    "## To select a text only. \n",
    "    soup.select('title')[0].getText()\n",
    "\n",
    "\n",
    "\n",
    "\n"
   ]
  },
  {
   "cell_type": "code",
   "execution_count": null,
   "metadata": {},
   "outputs": [],
   "source": []
  },
  {
   "cell_type": "markdown",
   "metadata": {},
   "source": [
    "# To Grab pages using index variable "
   ]
  },
  {
   "cell_type": "markdown",
   "metadata": {},
   "source": [
    "    ##### baseurl = \"http://books.toscrape.com/catalogue/page-{}.html\"\n",
    "\n",
    "    baseurl.format('1')\n",
    "    'http://books.toscrape.com/catalogue/page-1.html'\n",
    "\n",
    "    myrequest = requests.get(baseurl.format(1))"
   ]
  },
  {
   "cell_type": "code",
   "execution_count": null,
   "metadata": {},
   "outputs": [],
   "source": []
  },
  {
   "cell_type": "markdown",
   "metadata": {},
   "source": [
    "# References"
   ]
  },
  {
   "cell_type": "markdown",
   "metadata": {},
   "source": [
    "#### Python Tutorial: Web Scraping with BeautifulSoup and Requests\n",
    "\n",
    "https://www.youtube.com/watch?v=ng2o98k983k\n",
    "\n",
    "Python Tutorial: Web Scraping with BeautifulSoup and Requests\n",
    "\n",
    "Corey Schafer\n",
    "987K subscribers"
   ]
  },
  {
   "cell_type": "code",
   "execution_count": null,
   "metadata": {},
   "outputs": [],
   "source": []
  },
  {
   "cell_type": "code",
   "execution_count": null,
   "metadata": {},
   "outputs": [],
   "source": []
  },
  {
   "cell_type": "markdown",
   "metadata": {},
   "source": []
  },
  {
   "cell_type": "markdown",
   "metadata": {},
   "source": []
  },
  {
   "cell_type": "markdown",
   "metadata": {},
   "source": []
  },
  {
   "cell_type": "markdown",
   "metadata": {},
   "source": []
  }
 ],
 "metadata": {
  "kernelspec": {
   "display_name": "Python 3 (ipykernel)",
   "language": "python",
   "name": "python3"
  },
  "language_info": {
   "codemirror_mode": {
    "name": "ipython",
    "version": 3
   },
   "file_extension": ".py",
   "mimetype": "text/x-python",
   "name": "python",
   "nbconvert_exporter": "python",
   "pygments_lexer": "ipython3",
   "version": "3.10.5"
  }
 },
 "nbformat": 4,
 "nbformat_minor": 2
}
