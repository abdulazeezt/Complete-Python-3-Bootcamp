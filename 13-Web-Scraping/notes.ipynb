{
 "cells": [
  {
   "cell_type": "markdown",
   "metadata": {},
   "source": [
    "# Requests Library\n",
    "\n",
    "    import requests\n",
    "    myrequest = requests.get(\"http://example.com\")\n",
    "    myrequest.text\n",
    "\n",
    "# bs4 Library ( BeautifulSoup)\n",
    "    import bs4\n",
    "    soup = bs4.BeautifulSoup(myrequest.text,\"lxml\")\n",
    "    for i in soup.select('p'):\n",
    "        print (f\" Paragraph : ----- {n}\")\n",
    "        print(i)\n",
    "        n = n+1\n",
    "## To select a text only. \n",
    "    soup.select('title')[0].getText()\n",
    "\n",
    "\n",
    "\n",
    "\n"
   ]
  },
  {
   "cell_type": "markdown",
   "metadata": {},
   "source": []
  },
  {
   "cell_type": "markdown",
   "metadata": {},
   "source": []
  },
  {
   "cell_type": "markdown",
   "metadata": {},
   "source": []
  },
  {
   "cell_type": "markdown",
   "metadata": {},
   "source": []
  }
 ],
 "metadata": {
  "language_info": {
   "name": "python"
  },
  "orig_nbformat": 4
 },
 "nbformat": 4,
 "nbformat_minor": 2
}
