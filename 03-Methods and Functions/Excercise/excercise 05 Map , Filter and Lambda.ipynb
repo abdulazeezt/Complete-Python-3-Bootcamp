{
 "cells": [
  {
   "cell_type": "markdown",
   "metadata": {},
   "source": [
    "## map function\n",
    "\n",
    "The **map** function allows you to \"map\" a function to an iterable object. That is to say you can quickly call the same function to every item in an iterable, such as a list. For example:"
   ]
  },
  {
   "cell_type": "code",
   "execution_count": 4,
   "metadata": {
    "vscode": {
     "languageId": "plaintext"
    }
   },
   "outputs": [
    {
     "name": "stdout",
     "output_type": "stream",
     "text": [
      "4\n",
      "100\n",
      "10000\n",
      "1000000\n"
     ]
    },
    {
     "data": {
      "text/plain": [
       "[None, None, None, None]"
      ]
     },
     "execution_count": 4,
     "metadata": {},
     "output_type": "execute_result"
    }
   ],
   "source": [
    "\n",
    "mylist = [2,10,100,1000]\n",
    "\n",
    "def squire(nums):\n",
    "    #return nums ** 2\n",
    "    print (nums ** 2)\n",
    "\n",
    "list(map(squire,mylist))"
   ]
  },
  {
   "cell_type": "code",
   "execution_count": null,
   "metadata": {
    "vscode": {
     "languageId": "plaintext"
    }
   },
   "outputs": [],
   "source": [
    " "
   ]
  },
  {
   "cell_type": "code",
   "execution_count": null,
   "metadata": {
    "vscode": {
     "languageId": "plaintext"
    }
   },
   "outputs": [],
   "source": [
    "## Splicer Functions"
   ]
  },
  {
   "cell_type": "markdown",
   "metadata": {
    "vscode": {
     "languageId": "plaintext"
    }
   },
   "source": [
    "## filter function\n"
   ]
  },
  {
   "cell_type": "code",
   "execution_count": 6,
   "metadata": {},
   "outputs": [
    {
     "data": {
      "text/plain": [
       "True"
      ]
     },
     "execution_count": 6,
     "metadata": {},
     "output_type": "execute_result"
    }
   ],
   "source": [
    "def CheckEven(mynums):\n",
    "    return int(mynums) % 2 == 0\n",
    "#         print(\"You have entered even number\")\n",
    "        \n",
    "CheckEven(\"2\")"
   ]
  },
  {
   "cell_type": "code",
   "execution_count": 7,
   "metadata": {},
   "outputs": [
    {
     "data": {
      "text/plain": [
       "[4, 30, 20]"
      ]
     },
     "execution_count": 7,
     "metadata": {},
     "output_type": "execute_result"
    }
   ],
   "source": [
    "mylist = [4,30,3,5,20,13,65]\n",
    "list(filter(CheckEven,mylist))"
   ]
  },
  {
   "cell_type": "markdown",
   "metadata": {},
   "source": [
    "# Lambda "
   ]
  },
  {
   "cell_type": "code",
   "execution_count": 3,
   "metadata": {},
   "outputs": [],
   "source": [
    "# ###################Original function\n",
    "def mysquire(nums): return nums ** 2\n",
    "\n",
    "###################### When converting to lambda remove the def and funcname with lambda1\n",
    "nums = 100\n",
    "mysquire = lambda nums: nums ** 2\n",
    "\n"
   ]
  },
  {
   "cell_type": "code",
   "execution_count": 4,
   "metadata": {},
   "outputs": [
    {
     "data": {
      "text/plain": [
       "10000"
      ]
     },
     "execution_count": 4,
     "metadata": {},
     "output_type": "execute_result"
    }
   ],
   "source": [
    "mysquire(100)"
   ]
  },
  {
   "cell_type": "markdown",
   "metadata": {},
   "source": [
    "#### Lambda with map"
   ]
  },
  {
   "cell_type": "code",
   "execution_count": 26,
   "metadata": {},
   "outputs": [],
   "source": [
    "mysquire = list(map( lambda nums : nums **2 , mylist ))"
   ]
  },
  {
   "cell_type": "code",
   "execution_count": 27,
   "metadata": {},
   "outputs": [
    {
     "data": {
      "text/plain": [
       "[16, 900, 9, 25, 400, 169, 4225]"
      ]
     },
     "execution_count": 27,
     "metadata": {},
     "output_type": "execute_result"
    }
   ],
   "source": [
    "mysquire"
   ]
  },
  {
   "cell_type": "markdown",
   "metadata": {},
   "source": [
    "##### or"
   ]
  },
  {
   "cell_type": "code",
   "execution_count": 24,
   "metadata": {},
   "outputs": [
    {
     "data": {
      "text/plain": [
       "[16, 900, 9, 25, 400, 169, 4225]"
      ]
     },
     "execution_count": 24,
     "metadata": {},
     "output_type": "execute_result"
    }
   ],
   "source": [
    "list(map( lambda nums : nums **2 , mylist ))"
   ]
  },
  {
   "cell_type": "markdown",
   "metadata": {},
   "source": [
    "#### Lambda with Filter"
   ]
  },
  {
   "cell_type": "code",
   "execution_count": 29,
   "metadata": {},
   "outputs": [
    {
     "data": {
      "text/plain": [
       "[4, 30, 20]"
      ]
     },
     "execution_count": 29,
     "metadata": {},
     "output_type": "execute_result"
    }
   ],
   "source": [
    "list(filter(lambda mynums : int(mynums) % 2 == 0 , mylist))"
   ]
  },
  {
   "cell_type": "markdown",
   "metadata": {},
   "source": [
    "##### Passing multiple arguments to Lambda"
   ]
  },
  {
   "cell_type": "code",
   "execution_count": 2,
   "metadata": {},
   "outputs": [
    {
     "data": {
      "text/plain": [
       "300"
      ]
     },
     "execution_count": 2,
     "metadata": {},
     "output_type": "execute_result"
    }
   ],
   "source": [
    "mylambda = lambda x,y : x+y\n",
    "mylambda(200,100)"
   ]
  },
  {
   "cell_type": "markdown",
   "metadata": {},
   "source": [
    "https://www.w3schools.com/python/python_lambda.asp"
   ]
  },
  {
   "cell_type": "code",
   "execution_count": null,
   "metadata": {},
   "outputs": [],
   "source": []
  },
  {
   "cell_type": "code",
   "execution_count": 7,
   "metadata": {},
   "outputs": [
    {
     "data": {
      "text/plain": [
       "{'__name__': '__main__',\n",
       " '__doc__': 'Automatically created module for IPython interactive environment',\n",
       " '__package__': None,\n",
       " '__loader__': None,\n",
       " '__spec__': None,\n",
       " '__builtin__': <module 'builtins' (built-in)>,\n",
       " '__builtins__': <module 'builtins' (built-in)>,\n",
       " '_ih': ['',\n",
       "  'mylambda = lambda x,y : x+y',\n",
       "  'mylambda = lambda x,y : x+y\\n\\nmylambda(200,100)',\n",
       "  '# ###################Original function\\ndef mysquire(nums): return nums ** 2\\n\\n###################### When converting to lambda remove the def and funcname with lambda1\\nnums = 100\\nmysquire = lambda nums: nums ** 2',\n",
       "  'mylist = [2,10,100,1000]\\n\\ndef squire(nums):\\n    #return nums ** 2\\n    print (nums ** 2)\\n\\nlist(map(squire,mylist))',\n",
       "  'globals()',\n",
       "  'locals()',\n",
       "  'globals()'],\n",
       " '_oh': {2: 300, 4: [None, None, None, None], 5: {...}, 6: {...}},\n",
       " '_dh': ['C:\\\\Users\\\\SONY\\\\Documents\\\\GitHub\\\\Complete-Python-3-Bootcamp\\\\03-Methods and Functions\\\\Excercise'],\n",
       " 'In': ['',\n",
       "  'mylambda = lambda x,y : x+y',\n",
       "  'mylambda = lambda x,y : x+y\\n\\nmylambda(200,100)',\n",
       "  '# ###################Original function\\ndef mysquire(nums): return nums ** 2\\n\\n###################### When converting to lambda remove the def and funcname with lambda1\\nnums = 100\\nmysquire = lambda nums: nums ** 2',\n",
       "  'mylist = [2,10,100,1000]\\n\\ndef squire(nums):\\n    #return nums ** 2\\n    print (nums ** 2)\\n\\nlist(map(squire,mylist))',\n",
       "  'globals()',\n",
       "  'locals()',\n",
       "  'globals()'],\n",
       " 'Out': {2: 300, 4: [None, None, None, None], 5: {...}, 6: {...}},\n",
       " 'get_ipython': <bound method InteractiveShell.get_ipython of <ipykernel.zmqshell.ZMQInteractiveShell object at 0x0000021160DCAE08>>,\n",
       " 'exit': <IPython.core.autocall.ZMQExitAutocall at 0x21160df6808>,\n",
       " 'quit': <IPython.core.autocall.ZMQExitAutocall at 0x21160df6808>,\n",
       " '_': {...},\n",
       " '__': {...},\n",
       " '___': [None, None, None, None],\n",
       " '_i': 'locals()',\n",
       " '_ii': 'globals()',\n",
       " '_iii': '\\nmylist = [2,10,100,1000]\\n\\ndef squire(nums):\\n    #return nums ** 2\\n    print (nums ** 2)\\n\\nlist(map(squire,mylist))',\n",
       " '_i1': 'mylambda = lambda x,y : x+y',\n",
       " 'mylambda': <function __main__.<lambda>(x, y)>,\n",
       " '_i2': 'mylambda = lambda x,y : x+y\\n\\nmylambda(200,100)',\n",
       " '_2': 300,\n",
       " '_i3': '# ###################Original function\\ndef mysquire(nums): return nums ** 2\\n\\n###################### When converting to lambda remove the def and funcname with lambda1\\nnums = 100\\nmysquire = lambda nums: nums ** 2',\n",
       " 'mysquire': <function __main__.<lambda>(nums)>,\n",
       " 'nums': 100,\n",
       " '_i4': '\\nmylist = [2,10,100,1000]\\n\\ndef squire(nums):\\n    #return nums ** 2\\n    print (nums ** 2)\\n\\nlist(map(squire,mylist))',\n",
       " 'mylist': [2, 10, 100, 1000],\n",
       " 'squire': <function __main__.squire(nums)>,\n",
       " '_4': [None, None, None, None],\n",
       " '_i5': 'globals()',\n",
       " '_5': {...},\n",
       " '_i6': 'locals()',\n",
       " '_6': {...},\n",
       " '_i7': 'globals()'}"
      ]
     },
     "execution_count": 7,
     "metadata": {},
     "output_type": "execute_result"
    }
   ],
   "source": [
    "globals()"
   ]
  },
  {
   "cell_type": "code",
   "execution_count": null,
   "metadata": {},
   "outputs": [],
   "source": []
  }
 ],
 "metadata": {
  "anaconda-cloud": {},
  "kernelspec": {
   "display_name": "Python 3",
   "language": "python",
   "name": "python3"
  },
  "language_info": {
   "codemirror_mode": {
    "name": "ipython",
    "version": 3
   },
   "file_extension": ".py",
   "mimetype": "text/x-python",
   "name": "python",
   "nbconvert_exporter": "python",
   "pygments_lexer": "ipython3",
   "version": "3.7.6"
  }
 },
 "nbformat": 4,
 "nbformat_minor": 1
}
