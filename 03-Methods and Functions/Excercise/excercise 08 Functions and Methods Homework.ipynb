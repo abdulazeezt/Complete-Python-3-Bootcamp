{
 "cells": [
  {
   "cell_type": "markdown",
   "metadata": {},
   "source": [
    "# Functions and Methods Homework \n",
    "\n",
    "Complete the following questions:\n",
    "____\n",
    "**Write a function that computes the volume of a sphere given its radius.**\n",
    "<p>The volume of a sphere is given as $$\\frac{4}{3}"
   ]
  },
  {
   "cell_type": "code",
   "execution_count": 13,
   "metadata": {},
   "outputs": [],
   "source": [
    "def vol(rad):\n",
    "    rad = int(rad)\n",
    "    return (4/3)*(3.14)*(rad**3)\n",
    "    #pass"
   ]
  },
  {
   "cell_type": "code",
   "execution_count": 16,
   "metadata": {},
   "outputs": [],
   "source": [
    "\n",
    "radinput = 2\n",
    "volofsphere = vol(radinput)"
   ]
  },
  {
   "cell_type": "code",
   "execution_count": 17,
   "metadata": {},
   "outputs": [
    {
     "name": "stdout",
     "output_type": "stream",
     "text": [
      "33.49333333333333\n"
     ]
    }
   ],
   "source": [
    "print(volofsphere)"
   ]
  },
  {
   "cell_type": "markdown",
   "metadata": {},
   "source": [
    "___\n",
    "**Write a function that checks whether a number is in a given range (inclusive of high and low)**"
   ]
  },
  {
   "cell_type": "code",
   "execution_count": 6,
   "metadata": {},
   "outputs": [],
   "source": [
    "def ran_check(num,low,high):\n",
    "    \n",
    "    if num < high and num > low:\n",
    "        print (f\"{num}  is between low and high \")\n",
    "    else: \n",
    "        pass\n",
    "    \n"
   ]
  },
  {
   "cell_type": "code",
   "execution_count": 5,
   "metadata": {},
   "outputs": [
    {
     "name": "stdout",
     "output_type": "stream",
     "text": [
      "10  is between low and high \n"
     ]
    }
   ],
   "source": [
    "ran_check(10,1,30)"
   ]
  },
  {
   "cell_type": "code",
   "execution_count": 14,
   "metadata": {},
   "outputs": [],
   "source": [
    "def ran_bool(num,low,high):\n",
    "    \n",
    "    print( num < high and num > low ) "
   ]
  },
  {
   "cell_type": "code",
   "execution_count": 16,
   "metadata": {},
   "outputs": [
    {
     "name": "stdout",
     "output_type": "stream",
     "text": [
      "True\n"
     ]
    }
   ],
   "source": [
    "ran_bool(3,1,10)"
   ]
  },
  {
   "cell_type": "code",
   "execution_count": 17,
   "metadata": {},
   "outputs": [],
   "source": []
  },
  {
   "cell_type": "markdown",
   "metadata": {},
   "source": [
    "**Write a Python function that accepts a string and calculates the number of upper case letters and lower case letters.**\n",
    "\n",
    "https://www.w3schools.com/python/ref_string_isupper.asp\n"
   ]
  },
  {
   "cell_type": "code",
   "execution_count": 45,
   "metadata": {},
   "outputs": [],
   "source": [
    "def up_low(inputstr):\n",
    "    localstr = inputstr.split()\n",
    "#     tempstring = localstr[i]\n",
    "#     print(\"Hello\")\n",
    "    print (len(inputstr))\n",
    "    for i in inputstr:\n",
    "        print(f\"Checking {i}\")\n",
    "        if str(i).isupper():\n",
    "            print (f\"{i}  is upper case\")\n",
    "        elif str(i).islower():\n",
    "            print (f\"{i}  is lower case\")\n",
    "        else:\n",
    "            print (f\"{i}  is not upp\")\n",
    "            "
   ]
  },
  {
   "cell_type": "code",
   "execution_count": 46,
   "metadata": {},
   "outputs": [
    {
     "name": "stdout",
     "output_type": "stream",
     "text": [
      "14\n",
      "Checking T\n",
      "T  is upper case\n",
      "Checking H\n",
      "H  is upper case\n",
      "Checking I\n",
      "I  is upper case\n",
      "Checking S\n",
      "S  is upper case\n",
      "Checking  \n",
      "Checking ,\n",
      "Checking k\n",
      "k  is lower case\n",
      "Checking j\n",
      "j  is lower case\n",
      "Checking h\n",
      "h  is lower case\n",
      "Checking F\n",
      "F  is upper case\n",
      "Checking k\n",
      "k  is lower case\n",
      "Checking  \n",
      "Checking L\n",
      "L  is upper case\n",
      "Checking h\n",
      "h  is lower case\n"
     ]
    }
   ],
   "source": [
    "up_low(\"THIS ,kjhFk Lh\")"
   ]
  },
  {
   "cell_type": "code",
   "execution_count": null,
   "metadata": {},
   "outputs": [],
   "source": []
  }
 ],
 "metadata": {
  "kernelspec": {
   "display_name": "Python 3",
   "language": "python",
   "name": "python3"
  },
  "language_info": {
   "codemirror_mode": {
    "name": "ipython",
    "version": 3
   },
   "file_extension": ".py",
   "mimetype": "text/x-python",
   "name": "python",
   "nbconvert_exporter": "python",
   "pygments_lexer": "ipython3",
   "version": "3.7.6"
  }
 },
 "nbformat": 4,
 "nbformat_minor": 4
}
