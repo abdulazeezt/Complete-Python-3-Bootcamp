{
 "cells": [
  {
   "cell_type": "markdown",
   "id": "2d03d6fd",
   "metadata": {
    "heading_collapsed": true
   },
   "source": [
    "# Snake Casing naming system"
   ]
  },
  {
   "cell_type": "markdown",
   "id": "5399a8d4",
   "metadata": {
    "hidden": true
   },
   "source": [
    "name_of_the_function : This is the followed naming system in Python"
   ]
  },
  {
   "cell_type": "markdown",
   "id": "0ab6be37",
   "metadata": {
    "heading_collapsed": true
   },
   "source": [
    "# Function structure"
   ]
  },
  {
   "cell_type": "markdown",
   "id": "6e49b38f",
   "metadata": {
    "hidden": true
   },
   "source": [
    "def name_of_the_function():\n",
    "    '''\n",
    "    Document string. \n",
    "       \n",
    "    '''\n",
    "    print(\"Hello world\")"
   ]
  },
  {
   "cell_type": "code",
   "execution_count": null,
   "id": "c5db9d0f",
   "metadata": {
    "hidden": true
   },
   "outputs": [],
   "source": []
  },
  {
   "cell_type": "markdown",
   "id": "64423ac7",
   "metadata": {
    "heading_collapsed": true
   },
   "source": [
    "# Gathering function information. "
   ]
  },
  {
   "cell_type": "markdown",
   "id": "a2ecd962",
   "metadata": {
    "hidden": true
   },
   "source": [
    "* press shift tab at the end of the function\n",
    "* help(and function name)\n",
    "* python documentation. "
   ]
  },
  {
   "cell_type": "code",
   "execution_count": null,
   "id": "7d338401",
   "metadata": {
    "hidden": true
   },
   "outputs": [],
   "source": []
  },
  {
   "cell_type": "markdown",
   "id": "575341b6",
   "metadata": {
    "hidden": true
   },
   "source": [
    "Map fileter "
   ]
  },
  {
   "cell_type": "code",
   "execution_count": null,
   "id": "9fc40798",
   "metadata": {
    "hidden": true
   },
   "outputs": [],
   "source": []
  },
  {
   "cell_type": "code",
   "execution_count": null,
   "id": "4b3efee5",
   "metadata": {
    "hidden": true
   },
   "outputs": [],
   "source": []
  },
  {
   "cell_type": "markdown",
   "id": "20d88314",
   "metadata": {},
   "source": [
    "# Map Filter and Lambda"
   ]
  },
  {
   "cell_type": "markdown",
   "id": "c24e4ce9",
   "metadata": {},
   "source": [
    "#### map function\n",
    "The map function allows you to \"map\" a function to an iterable object\n",
    "\n",
    "def square(num):\n",
    "    return num**2\n",
    "    \n",
    "my_nums = [1,2,3,4,5]\n",
    "\n",
    "map(square,my_nums)"
   ]
  },
  {
   "cell_type": "markdown",
   "id": "7cac8da7",
   "metadata": {},
   "source": [
    "#### Filter function.\n",
    "\n",
    "The filter function returns an iterator yielding those items of iterable for which function(item) is true. Meaning you need to filter by a function that returns either True or False. Then passing that into filter (along with your iterable) and you will get back only the results that would return True when passed to the function.\n",
    "\n",
    "\n",
    "\n"
   ]
  },
  {
   "cell_type": "markdown",
   "id": "a8783405",
   "metadata": {},
   "source": [
    "def check_even(num):\n",
    "    return num % 2 == 0 "
   ]
  },
  {
   "cell_type": "markdown",
   "id": "c7067d4d",
   "metadata": {},
   "source": [
    "nums = [0,1,2,3,4,5,6,7,8,9,10]"
   ]
  },
  {
   "cell_type": "markdown",
   "id": "11bf508d",
   "metadata": {},
   "source": [
    "filter(check_even,nums)"
   ]
  },
  {
   "cell_type": "markdown",
   "id": "8029f25b",
   "metadata": {},
   "source": [
    "list(filter(check_even,nums))"
   ]
  },
  {
   "cell_type": "markdown",
   "id": "e7dda725",
   "metadata": {},
   "source": []
  },
  {
   "cell_type": "code",
   "execution_count": null,
   "id": "35097eac",
   "metadata": {},
   "outputs": [],
   "source": []
  },
  {
   "cell_type": "code",
   "execution_count": null,
   "id": "9cb80a2b",
   "metadata": {},
   "outputs": [],
   "source": []
  },
  {
   "cell_type": "code",
   "execution_count": null,
   "id": "e3fdfe5d",
   "metadata": {},
   "outputs": [],
   "source": []
  },
  {
   "cell_type": "code",
   "execution_count": null,
   "id": "afb4ec2f",
   "metadata": {},
   "outputs": [],
   "source": []
  },
  {
   "cell_type": "markdown",
   "id": "9ff120d4",
   "metadata": {},
   "source": [
    "#### lambda expression\n",
    "\n",
    "One of Pythons most useful (and for beginners, confusing) tools is the lambda expression. lambda expressions allow us to create \"anonymous\" functions. This basically means we can quickly make ad-hoc functions without needing to properly define a function using def.\n",
    "\n"
   ]
  },
  {
   "cell_type": "code",
   "execution_count": null,
   "id": "6e556cb3",
   "metadata": {},
   "outputs": [],
   "source": []
  },
  {
   "cell_type": "code",
   "execution_count": null,
   "id": "1afe2a07",
   "metadata": {},
   "outputs": [],
   "source": []
  },
  {
   "cell_type": "markdown",
   "id": "d700a66b",
   "metadata": {},
   "source": [
    "# Variables Scope"
   ]
  },
  {
   "cell_type": "markdown",
   "id": "647834f9",
   "metadata": {},
   "source": [
    "#### LEGB rule\n",
    "\n",
    "* local\n",
    "* enclosing\n",
    "* Global\n",
    "* Builtin\n"
   ]
  },
  {
   "cell_type": "code",
   "execution_count": null,
   "id": "c3f44d1f",
   "metadata": {},
   "outputs": [],
   "source": []
  },
  {
   "cell_type": "markdown",
   "id": "b35c22ba",
   "metadata": {},
   "source": [
    "# Calculating Prime numbers"
   ]
  },
  {
   "cell_type": "markdown",
   "id": "32efee36",
   "metadata": {},
   "source": [
    "### Youtube reference\n",
    "https://youtu.be/tnfbde4NXMs\n"
   ]
  },
  {
   "cell_type": "markdown",
   "id": "6f3cd010",
   "metadata": {},
   "source": [
    "\n",
    "### Code\n",
    "\n",
    "def count_primes(num):\n",
    "    primes = [2]\n",
    "    x = 3\n",
    "    #---------------------------------------------------------    \n",
    "    if num < 2:  # for the case of num = 0 or 1\n",
    "        return 0\n",
    "    #----------------------------------------------------------\n",
    "    while x <= num:\n",
    "        for y in range(3,x,2):  # test all odd factors up to x-1\n",
    "            if x%y == 0:\n",
    "                x += 2\n",
    "                break\n",
    "        else:\n",
    "            primes.append(x)\n",
    "            x += 2\n",
    "    \n",
    "    #----------------------------------------------------------\n",
    "    print(primes)\n",
    "    return len(primes)"
   ]
  },
  {
   "cell_type": "code",
   "execution_count": null,
   "id": "f949cc11",
   "metadata": {},
   "outputs": [],
   "source": []
  }
 ],
 "metadata": {
  "kernelspec": {
   "display_name": "Python 3 (ipykernel)",
   "language": "python",
   "name": "python3"
  },
  "language_info": {
   "codemirror_mode": {
    "name": "ipython",
    "version": 3
   },
   "file_extension": ".py",
   "mimetype": "text/x-python",
   "name": "python",
   "nbconvert_exporter": "python",
   "pygments_lexer": "ipython3",
   "version": "3.10.5"
  }
 },
 "nbformat": 4,
 "nbformat_minor": 5
}
