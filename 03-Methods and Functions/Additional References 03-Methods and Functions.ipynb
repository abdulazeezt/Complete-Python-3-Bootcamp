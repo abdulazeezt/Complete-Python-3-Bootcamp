{
 "cells": [
  {
   "cell_type": "markdown",
   "id": "2d03d6fd",
   "metadata": {
    "heading_collapsed": true
   },
   "source": [
    "# Snake Casing naming system"
   ]
  },
  {
   "cell_type": "markdown",
   "id": "5399a8d4",
   "metadata": {
    "hidden": true
   },
   "source": [
    "name_of_the_function : This is the followed naming system in Python"
   ]
  },
  {
   "cell_type": "markdown",
   "id": "0ab6be37",
   "metadata": {
    "heading_collapsed": true
   },
   "source": [
    "# Function structure"
   ]
  },
  {
   "cell_type": "markdown",
   "id": "6e49b38f",
   "metadata": {
    "hidden": true
   },
   "source": [
    "def name_of_the_function():\n",
    "    '''\n",
    "    Document string. \n",
    "       \n",
    "    '''\n",
    "    print(\"Hello world\")"
   ]
  },
  {
   "cell_type": "code",
   "execution_count": null,
   "id": "c5db9d0f",
   "metadata": {
    "hidden": true
   },
   "outputs": [],
   "source": []
  },
  {
   "cell_type": "markdown",
   "id": "64423ac7",
   "metadata": {
    "heading_collapsed": true
   },
   "source": [
    "# Gathering function information. "
   ]
  },
  {
   "cell_type": "markdown",
   "id": "a2ecd962",
   "metadata": {
    "hidden": true
   },
   "source": [
    "press shift tab at the end of the function\n",
    "help(and function name)\n",
    "python documentation. "
   ]
  },
  {
   "cell_type": "code",
   "execution_count": null,
   "id": "7d338401",
   "metadata": {
    "hidden": true
   },
   "outputs": [],
   "source": []
  },
  {
   "cell_type": "code",
   "execution_count": null,
   "id": "fa5f1a11",
   "metadata": {
    "hidden": true
   },
   "outputs": [],
   "source": []
  },
  {
   "cell_type": "code",
   "execution_count": null,
   "id": "9fc40798",
   "metadata": {
    "hidden": true
   },
   "outputs": [],
   "source": []
  },
  {
   "cell_type": "code",
   "execution_count": null,
   "id": "088686fc",
   "metadata": {
    "hidden": true
   },
   "outputs": [],
   "source": []
  },
  {
   "cell_type": "code",
   "execution_count": null,
   "id": "78efe6bc",
   "metadata": {
    "hidden": true
   },
   "outputs": [],
   "source": []
  },
  {
   "cell_type": "code",
   "execution_count": null,
   "id": "6f5dd1f8",
   "metadata": {
    "hidden": true
   },
   "outputs": [],
   "source": []
  }
 ],
 "metadata": {
  "kernelspec": {
   "display_name": "Python 3 (ipykernel)",
   "language": "python",
   "name": "python3"
  },
  "language_info": {
   "codemirror_mode": {
    "name": "ipython",
    "version": 3
   },
   "file_extension": ".py",
   "mimetype": "text/x-python",
   "name": "python",
   "nbconvert_exporter": "python",
   "pygments_lexer": "ipython3",
   "version": "3.10.5"
  }
 },
 "nbformat": 4,
 "nbformat_minor": 5
}
