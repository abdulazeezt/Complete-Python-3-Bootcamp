{
 "cells": [
  {
   "cell_type": "markdown",
   "id": "ddf02c1c",
   "metadata": {},
   "source": [
    "# Snake Casing naming system"
   ]
  },
  {
   "cell_type": "markdown",
   "id": "383d4876",
   "metadata": {},
   "source": [
    "name_of_the_function : This is the followed naming system in Python"
   ]
  },
  {
   "cell_type": "markdown",
   "id": "9586971a",
   "metadata": {},
   "source": []
  }
 ],
 "metadata": {
  "kernelspec": {
   "display_name": "Python 3 (ipykernel)",
   "language": "python",
   "name": "python3"
  },
  "language_info": {
   "codemirror_mode": {
    "name": "ipython",
    "version": 3
   },
   "file_extension": ".py",
   "mimetype": "text/x-python",
   "name": "python",
   "nbconvert_exporter": "python",
   "pygments_lexer": "ipython3",
   "version": "3.10.5"
  }
 },
 "nbformat": 4,
 "nbformat_minor": 5
}
