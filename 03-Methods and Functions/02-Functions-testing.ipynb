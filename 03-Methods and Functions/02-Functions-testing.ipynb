{
 "cells": [
  {
   "cell_type": "code",
   "execution_count": 10,
   "metadata": {},
   "outputs": [],
   "source": [
    "def PrintFunc():\n",
    "    print(\"Just to print hello world \" )\n",
    "\n"
   ]
  },
  {
   "cell_type": "code",
   "execution_count": 11,
   "metadata": {},
   "outputs": [
    {
     "name": "stdout",
     "output_type": "stream",
     "text": [
      "Just to print hello world \n"
     ]
    }
   ],
   "source": [
    "PrintFunc()"
   ]
  },
  {
   "cell_type": "markdown",
   "metadata": {},
   "source": [
    "# FUNCTION DOCUMENTATION Example"
   ]
  },
  {
   "cell_type": "code",
   "execution_count": 17,
   "metadata": {},
   "outputs": [],
   "source": [
    "def HelloWorld():\n",
    "    '''\n",
    "    This is the documentation example for the functions. \n",
    "    \n",
    "    '''"
   ]
  },
  {
   "cell_type": "markdown",
   "metadata": {},
   "source": [
    "## Following are examples for parameter and return. \n",
    "\n"
   ]
  },
  {
   "cell_type": "code",
   "execution_count": 26,
   "metadata": {},
   "outputs": [],
   "source": [
    "def FuncForInput(inputval):\n",
    "    #print(f\"You have passed the parameter {inputval}\")\n",
    "    return \"Returning\" + inputval \n"
   ]
  },
  {
   "cell_type": "code",
   "execution_count": 27,
   "metadata": {},
   "outputs": [
    {
     "data": {
      "text/plain": [
       "'Returning12345'"
      ]
     },
     "execution_count": 27,
     "metadata": {},
     "output_type": "execute_result"
    }
   ],
   "source": [
    "FuncForInput(\"12345\")"
   ]
  },
  {
   "cell_type": "markdown",
   "metadata": {},
   "source": [
    "## Checking whether any number is even in a given list. "
   ]
  },
  {
   "cell_type": "code",
   "execution_count": null,
   "metadata": {},
   "outputs": [],
   "source": []
  },
  {
   "cell_type": "code",
   "execution_count": 45,
   "metadata": {},
   "outputs": [
    {
     "ename": "SyntaxError",
     "evalue": "invalid syntax (<ipython-input-45-263fc5a51ce4>, line 9)",
     "output_type": "error",
     "traceback": [
      "\u001b[1;36m  File \u001b[1;32m\"<ipython-input-45-263fc5a51ce4>\"\u001b[1;36m, line \u001b[1;32m9\u001b[0m\n\u001b[1;33m    print(f \"this is even {inputlist[i-1]}\")\u001b[0m\n\u001b[1;37m            ^\u001b[0m\n\u001b[1;31mSyntaxError\u001b[0m\u001b[1;31m:\u001b[0m invalid syntax\n"
     ]
    }
   ],
   "source": [
    "def EvenChecking(inputlist):\n",
    "    list1 = list(inputlist)\n",
    "    loopcount = 0 \n",
    "    for i in list1:\n",
    "        print(f\"List index position {loopcount} is : {list1[loopcount]}\")\n",
    "        loopcount = loopcount + 1\n",
    "            #  print(\"Hello\")\n",
    "        if inputlist[i] % 2 == 0 :\n",
    "                print(f \"this is even {inputlist[i-1]}\")\n",
    "        else:\n",
    "            pass\n",
    "        \n",
    "        #if loopcount == list.count :\n",
    "        #    break\n",
    "\n",
    "        print(\"Hello\")\n",
    "\n",
    "#def EvenCheck():\n",
    "#    print(\"Hello\")"
   ]
  },
  {
   "cell_type": "code",
   "execution_count": 42,
   "metadata": {},
   "outputs": [
    {
     "name": "stdout",
     "output_type": "stream",
     "text": [
      "List index position 0 is : 97\n",
      "Hello\n",
      "List index position 1 is : 24\n",
      "Hello\n",
      "List index position 2 is : 3\n",
      "Hello\n",
      "List index position 3 is : 4\n",
      "Hello\n",
      "List index position 4 is : 526\n",
      "Hello\n",
      "List index position 5 is : 7\n",
      "Hello\n",
      "List index position 6 is : 8\n",
      "Hello\n"
     ]
    }
   ],
   "source": [
    "samplelist = [97,24,3,4,526,7,8]\n",
    "EvenChecking(samplelist)"
   ]
  },
  {
   "cell_type": "code",
   "execution_count": null,
   "metadata": {},
   "outputs": [],
   "source": []
  },
  {
   "cell_type": "markdown",
   "metadata": {},
   "source": []
  },
  {
   "cell_type": "code",
   "execution_count": null,
   "metadata": {},
   "outputs": [],
   "source": []
  }
 ],
 "metadata": {
  "interpreter": {
   "hash": "708e9726cfefdb058dac500d861d58f3238e7c30de202ec5233c4f8b6d763e57"
  },
  "kernelspec": {
   "display_name": "Python 3.8.4 64-bit",
   "language": "python",
   "name": "python3"
  },
  "language_info": {
   "codemirror_mode": {
    "name": "ipython",
    "version": 3
   },
   "file_extension": ".py",
   "mimetype": "text/x-python",
   "name": "python",
   "nbconvert_exporter": "python",
   "pygments_lexer": "ipython3",
   "version": "3.8.4"
  },
  "orig_nbformat": 4
 },
 "nbformat": 4,
 "nbformat_minor": 2
}
