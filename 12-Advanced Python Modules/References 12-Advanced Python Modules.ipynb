{
 "cells": [
  {
   "cell_type": "code",
   "execution_count": null,
   "metadata": {},
   "outputs": [],
   "source": []
  },
  {
   "cell_type": "markdown",
   "metadata": {
    "heading_collapsed": true
   },
   "source": [
    "# Collections Module"
   ]
  },
  {
   "cell_type": "markdown",
   "metadata": {
    "hidden": true
   },
   "source": [
    "## Counter"
   ]
  },
  {
   "cell_type": "markdown",
   "metadata": {
    "hidden": true
   },
   "source": [
    "Used to count number of occurences in an object. \n",
    "counter(mylist)\n"
   ]
  },
  {
   "cell_type": "code",
   "execution_count": 18,
   "metadata": {
    "hidden": true
   },
   "outputs": [],
   "source": [
    "from collections import Counter\n",
    "mlist = [12,34,\"Hello\",\"Hello\",\"45\",34,34,1,1,1,1,3,3,3,6,6,6,9,9,9]"
   ]
  },
  {
   "cell_type": "code",
   "execution_count": 19,
   "metadata": {
    "hidden": true
   },
   "outputs": [
    {
     "data": {
      "text/plain": [
       "Counter({12: 1, 34: 3, 'Hello': 2, '45': 1, 1: 4, 3: 3, 6: 3, 9: 3})"
      ]
     },
     "execution_count": 19,
     "metadata": {},
     "output_type": "execute_result"
    }
   ],
   "source": [
    "Counter(mlist)"
   ]
  },
  {
   "cell_type": "code",
   "execution_count": 21,
   "metadata": {
    "hidden": true
   },
   "outputs": [
    {
     "data": {
      "text/plain": [
       "Counter({'a': 6, 'b': 5, 'h': 7, 'i': 4, 'j': 6, 'm': 4, 'k': 7})"
      ]
     },
     "execution_count": 21,
     "metadata": {},
     "output_type": "execute_result"
    }
   ],
   "source": [
    "Counter('aaaaaabbbbbhhhhhhhiiiijjjjjjmkkkkkkkmmm')"
   ]
  },
  {
   "cell_type": "markdown",
   "metadata": {
    "heading_collapsed": true,
    "hidden": true
   },
   "source": [
    "#### Counting word in a sentence"
   ]
  },
  {
   "cell_type": "code",
   "execution_count": 25,
   "metadata": {
    "hidden": true
   },
   "outputs": [],
   "source": [
    "senternce = \"How many times does each word show up in this sentence with a word\""
   ]
  },
  {
   "cell_type": "code",
   "execution_count": 28,
   "metadata": {
    "hidden": true
   },
   "outputs": [],
   "source": [
    "newlist = senternce.split()"
   ]
  },
  {
   "cell_type": "markdown",
   "metadata": {
    "hidden": true
   },
   "source": [
    "Counter(newlist)"
   ]
  },
  {
   "cell_type": "markdown",
   "metadata": {
    "hidden": true
   },
   "source": [
    "output of the above. \n",
    "\n",
    "\n",
    "    Counter({'How': 1,\n",
    "             'many': 1,\n",
    "             'times': 1,\n",
    "             'does': 1,\n",
    "             'each': 1,\n",
    "             'word': 2,\n",
    "             'show': 1,\n",
    "             'up': 1,\n",
    "             'in': 1,\n",
    "             'this': 1,\n",
    "             'sentence': 1,\n",
    "             'with': 1,\n",
    "             'a': 1})"
   ]
  },
  {
   "cell_type": "markdown",
   "metadata": {
    "heading_collapsed": true,
    "hidden": true
   },
   "source": [
    "### Most common words"
   ]
  },
  {
   "cell_type": "code",
   "execution_count": 32,
   "metadata": {
    "hidden": true
   },
   "outputs": [
    {
     "data": {
      "text/plain": [
       "[('word', 2),\n",
       " ('How', 1),\n",
       " ('many', 1),\n",
       " ('times', 1),\n",
       " ('does', 1),\n",
       " ('each', 1),\n",
       " ('show', 1),\n",
       " ('up', 1),\n",
       " ('in', 1),\n",
       " ('this', 1),\n",
       " ('sentence', 1),\n",
       " ('with', 1),\n",
       " ('a', 1)]"
      ]
     },
     "execution_count": 32,
     "metadata": {},
     "output_type": "execute_result"
    }
   ],
   "source": [
    "Counter(newlist).most_common()"
   ]
  },
  {
   "cell_type": "markdown",
   "metadata": {
    "hidden": true
   },
   "source": [
    "output:\n",
    "       \n",
    "            [('word', 2),\n",
    "             ('How', 1),\n",
    "             ('many', 1),\n",
    "             ('times', 1),\n",
    "             ('does', 1),\n",
    "             ('each', 1),\n",
    "             ('show', 1),\n",
    "             ('up', 1),\n",
    "             ('in', 1),\n",
    "             ('this', 1),\n",
    "             ('sentence', 1),\n",
    "             ('with', 1),\n",
    "             ('a', 1)]"
   ]
  },
  {
   "cell_type": "markdown",
   "metadata": {
    "heading_collapsed": true,
    "hidden": true
   },
   "source": [
    "### Default dictionary"
   ]
  },
  {
   "cell_type": "markdown",
   "metadata": {
    "hidden": true
   },
   "source": [
    "mydict = {'a' : 100, 'b':200 , 'c' : 500   }"
   ]
  },
  {
   "cell_type": "markdown",
   "metadata": {
    "hidden": true
   },
   "source": [
    "mydict['f']"
   ]
  },
  {
   "cell_type": "markdown",
   "metadata": {
    "hidden": true
   },
   "source": [
    "---------------------------------------------------------------------------\n",
    "KeyError                                  Traceback (most recent call last)\n",
    "Input In [45], in <cell line: 1>()\n",
    "----> 1 mydict['f']\n",
    "\n",
    "KeyError: 'f'"
   ]
  },
  {
   "cell_type": "markdown",
   "metadata": {
    "hidden": true
   },
   "source": [
    "    To avoid above error we can automatically inject the default value against a dictionary key:\n"
   ]
  },
  {
   "cell_type": "markdown",
   "metadata": {
    "hidden": true
   },
   "source": [
    "from collections import defaultdict\n",
    "mydict = defaultdict(lambda: 0 )"
   ]
  },
  {
   "cell_type": "markdown",
   "metadata": {
    "hidden": true
   },
   "source": [
    "mydict['f']"
   ]
  },
  {
   "cell_type": "markdown",
   "metadata": {
    "hidden": true
   },
   "source": [
    "0"
   ]
  },
  {
   "cell_type": "code",
   "execution_count": null,
   "metadata": {
    "hidden": true
   },
   "outputs": [],
   "source": []
  },
  {
   "cell_type": "markdown",
   "metadata": {
    "heading_collapsed": true,
    "hidden": true
   },
   "source": [
    "### Named tuple"
   ]
  },
  {
   "cell_type": "markdown",
   "metadata": {
    "hidden": true
   },
   "source": []
  },
  {
   "cell_type": "markdown",
   "metadata": {
    "hidden": true
   },
   "source": [
    "from collections import namedtuple\n",
    "studenttupobject = namedtuple('Student',['Name','Subject','Mark' ] )\n",
    "studenttup = studenttupobject('Ashfaq','Maths','98')"
   ]
  },
  {
   "cell_type": "markdown",
   "metadata": {
    "hidden": true
   },
   "source": [
    "print(studenttup.Name )\n",
    "print( studenttup.Subject)\n",
    "print(studenttup.Mark)"
   ]
  },
  {
   "cell_type": "markdown",
   "metadata": {
    "hidden": true
   },
   "source": [
    "o/p\n",
    "\n",
    "    Ashfaq\n",
    "    Maths\n",
    "    98"
   ]
  },
  {
   "cell_type": "code",
   "execution_count": null,
   "metadata": {
    "hidden": true
   },
   "outputs": [],
   "source": []
  },
  {
   "cell_type": "markdown",
   "metadata": {
    "heading_collapsed": true
   },
   "source": [
    "# OS Module"
   ]
  },
  {
   "cell_type": "markdown",
   "metadata": {
    "hidden": true
   },
   "source": [
    "    import os\n",
    "    os.listdir()\n",
    "     os.getcwd()\n",
    "    os.listdir('c:\\\\Users')\n",
    "    f = open('practice.txt','w+')\n",
    "    f.write('test')\n",
    "    f.close()"
   ]
  },
  {
   "cell_type": "code",
   "execution_count": null,
   "metadata": {
    "hidden": true
   },
   "outputs": [],
   "source": []
  },
  {
   "cell_type": "markdown",
   "metadata": {
    "heading_collapsed": true
   },
   "source": [
    "# Datetime Module\n"
   ]
  },
  {
   "cell_type": "markdown",
   "metadata": {
    "hidden": true
   },
   "source": [
    "    import datetime\n",
    "    t = datetime.time(4, 20, 1)\n",
    "    today = datetime.date.today()\n",
    "    ### Arithmetic\n",
    "        datetime.date(2015, 3, 11) - datetime.date(1990, 3, 11)\n",
    "        datetime.timedelta(days=9131)\n"
   ]
  },
  {
   "cell_type": "markdown",
   "metadata": {
    "hidden": true
   },
   "source": []
  },
  {
   "cell_type": "code",
   "execution_count": null,
   "metadata": {
    "hidden": true
   },
   "outputs": [],
   "source": []
  },
  {
   "cell_type": "markdown",
   "metadata": {
    "heading_collapsed": true
   },
   "source": [
    "# Moving files around"
   ]
  },
  {
   "cell_type": "markdown",
   "metadata": {
    "hidden": true
   },
   "source": [
    "      import shutil\n",
    "\n",
    "      shutil.move('practice.txt','C:\\\\Users\\\\Marcial')\n",
    "\n",
    "      shutil.move('C:\\\\Users\\\\Marcial\\practice.txt',os.getcwd())\n"
   ]
  },
  {
   "cell_type": "markdown",
   "metadata": {
    "heading_collapsed": true,
    "hidden": true
   },
   "source": [
    "### Deleting Files"
   ]
  },
  {
   "cell_type": "markdown",
   "metadata": {
    "hidden": true
   },
   "source": [
    "    pip install send2trash\n",
    "\n",
    "    import send2trash\n",
    "\n",
    "    send2trash.send2trash('practice.txt')\n"
   ]
  },
  {
   "cell_type": "markdown",
   "metadata": {},
   "source": [
    "# Walking through a directory"
   ]
  },
  {
   "cell_type": "code",
   "execution_count": null,
   "metadata": {},
   "outputs": [],
   "source": []
  },
  {
   "cell_type": "code",
   "execution_count": null,
   "metadata": {},
   "outputs": [],
   "source": []
  },
  {
   "cell_type": "markdown",
   "metadata": {},
   "source": [
    "import os\n",
    "os.getcwd()"
   ]
  },
  {
   "cell_type": "markdown",
   "metadata": {},
   "source": [
    "mycurrentdir='C:\\\\Users\\\\SONY\\\\Documents\\\\GitHub\\\\\\\n",
    "Complete-Python-3-Bootcamp\\\\12-Advanced Python Modules\\\\Example_Top_Level'"
   ]
  },
  {
   "cell_type": "markdown",
   "metadata": {},
   "source": [
    "    \n",
    "    for folder,sub_folders,files in os.walk(mycurrentdir):\n",
    "        print(f\"Currently looking at folder {folder}\")\n",
    "        print(\"\\n\")\n",
    "        print(f\"The Sub folders under {folder} are :\")\n",
    "        for subfolder in sub_folders:\n",
    "            print (subfolder)\n",
    "            for f in files:\n",
    "                print(f\"\\t Currntly looking at file {f}\")\n",
    "                print(\"\\n\")"
   ]
  },
  {
   "cell_type": "markdown",
   "metadata": {},
   "source": [
    "\n",
    "    Currently looking at folder C:\\Users\\SONY\\Documents\\GitHub\\Complete-Python-3-Bootcamp\\12-Advanced Python Modules\\Example_Top_Level\n",
    "\n",
    "\n",
    "    The Sub folders under C:\\Users\\SONY\\Documents\\GitHub\\Complete-Python-3-Bootcamp\\12-Advanced Python Modules\\Example_Top_Level are :\n",
    "    Mid-Example-One\n",
    "         Currntly looking at file Mid-Example.txt\n",
    "\n",
    "\n",
    "    Currently looking at folder C:\\Users\\SONY\\Documents\\GitHub\\Complete-Python-3-Bootcamp\\12-Advanced Python Modules\\Example_Top_Level\\Mid-Example-One\n",
    "\n",
    "\n",
    "    The Sub folders under C:\\Users\\SONY\\Documents\\GitHub\\Complete-Python-3-Bootcamp\\12-Advanced Python Modules\\Example_Top_Level\\Mid-Example-One are :\n",
    "    Bottom-Level-One\n",
    "         Currntly looking at file Mid-Level-Doc.txt\n",
    "\n",
    "\n",
    "    Bottom-Level-Two\n",
    "         Currntly looking at file Mid-Level-Doc.txt\n",
    "\n",
    "\n",
    "    Currently looking at folder C:\\Users\\SONY\\Documents\\GitHub\\Complete-Python-3-Bootcamp\\12-Advanced Python Modules\\Example_Top_Level\\Mid-Example-One\\Bottom-Level-One\n",
    "\n",
    "\n",
    "    The Sub folders under C:\\Users\\SONY\\Documents\\GitHub\\Complete-Python-3-Bootcamp\\12-Advanced Python Modules\\Example_Top_Level\\Mid-Example-One\\Bottom-Level-One are :\n",
    "    Currently looking at folder C:\\Users\\SONY\\Documents\\GitHub\\Complete-Python-3-Bootcamp\\12-Advanced Python Modules\\Example_Top_Level\\Mid-Example-One\\Bottom-Level-Two\n",
    "\n",
    "\n",
    "    The Sub folders under C:\\Users\\SONY\\Documents\\GitHub\\Complete-Python-3-Bootcamp\\12-Advanced Python Modules\\Example_Top_Level\\Mid-Example-One\\Bottom-Level-Two are :"
   ]
  },
  {
   "cell_type": "code",
   "execution_count": null,
   "metadata": {},
   "outputs": [],
   "source": [
    "`"
   ]
  },
  {
   "cell_type": "code",
   "execution_count": null,
   "metadata": {},
   "outputs": [],
   "source": []
  },
  {
   "cell_type": "code",
   "execution_count": null,
   "metadata": {},
   "outputs": [],
   "source": []
  },
  {
   "cell_type": "code",
   "execution_count": null,
   "metadata": {},
   "outputs": [],
   "source": []
  },
  {
   "cell_type": "code",
   "execution_count": null,
   "metadata": {},
   "outputs": [],
   "source": []
  },
  {
   "cell_type": "markdown",
   "metadata": {},
   "source": [
    "# Math and random Module"
   ]
  },
  {
   "cell_type": "markdown",
   "metadata": {},
   "source": [
    "import Math help(math) <<< Will list help about this function. >>>\n",
    "Rand number"
   ]
  },
  {
   "cell_type": "markdown",
   "metadata": {},
   "source": [
    "\n",
    "## Rand number"
   ]
  },
  {
   "cell_type": "markdown",
   "metadata": {},
   "source": [
    "\n",
    "floor\n",
    "ceil\n",
    "\n",
    "round < This is part of python module >\n",
    "\n",
    "round(4.5)\n",
    "4\n",
    "\n",
    "round(5.5)\n",
    "6\n",
    "\n",
    "> _Note the differences in the output._\n",
    "\n",
    "\n",
    "\n",
    "#### There are many functions . This can be checked using help functions. \n",
    "\n",
    "## Random Module\n",
    "### understanding the seed.\n",
    "random.randint(0,100)\n",
    "68\n",
    "\n",
    "The above is to get same batch of random numbers. Typically for testing purposes. \n",
    "\n",
    "Ex:- random.seed(101)\n",
    "    random.randint(0,100)\n",
    "\n",
    "    _Running a code like this will result in same random number generation repeatedly_ \n",
    "    random.choices(mylist)\n",
    "\n",
    "    random.choices(population=mylist, k=100)\n"
   ]
  },
  {
   "cell_type": "code",
   "execution_count": null,
   "metadata": {},
   "outputs": [],
   "source": []
  },
  {
   "cell_type": "markdown",
   "metadata": {
    "heading_collapsed": true
   },
   "source": [
    "# Python Debugger"
   ]
  },
  {
   "cell_type": "markdown",
   "metadata": {
    "hidden": true
   },
   "source": [
    "    Setting a trace\n",
    "\n",
    "    import pdb\n",
    "    x = [1,2,3]\n",
    "    y = 2\n",
    "    z = 3"
   ]
  },
  {
   "cell_type": "code",
   "execution_count": null,
   "metadata": {
    "hidden": true
   },
   "outputs": [],
   "source": []
  },
  {
   "cell_type": "markdown",
   "metadata": {
    "hidden": true
   },
   "source": []
  },
  {
   "cell_type": "markdown",
   "metadata": {
    "hidden": true
   },
   "source": []
  },
  {
   "cell_type": "markdown",
   "metadata": {},
   "source": [
    "# Zip and Unzip files "
   ]
  },
  {
   "cell_type": "markdown",
   "metadata": {},
   "source": [
    "import os\n",
    "os.getcwd()\n",
    "\n",
    "f = open(\"testfile1.txt\",'w+')\n",
    "f2 = open(\"testfile2.txt\",'w+')\n",
    "\n",
    "f.write(\"A new text has been added to the file1\")\n",
    "f2.write(\"A New text has been added to the file2 \\n asdfasdfasdfasdfjasdf asdf;lasdkjfasd flasdjfas  \\n \")\n",
    "\n",
    "f.close()\n",
    "f2.close()\n",
    "\n",
    "import zipfile\n",
    "\n",
    "zipobject = zipfile.ZipFile('comp_file.zip','w')\n",
    "\n",
    "zipobject.write( \"testfile1.txt\" , compress_type=zipfile.ZIP_DEFLATED )\n",
    "zipobject.write( \"testfile2.txt\" , compress_type=zipfile.ZIP_DEFLATED )\n",
    "zipobject.close()\n",
    "\n",
    "zipobject = zipfile.ZipFile('comp_file.zip','r')\n",
    "zipobject.extractall(\"extracted_content\")\n",
    "zipobject.close()\n"
   ]
  },
  {
   "cell_type": "code",
   "execution_count": null,
   "metadata": {},
   "outputs": [],
   "source": []
  },
  {
   "cell_type": "code",
   "execution_count": null,
   "metadata": {},
   "outputs": [],
   "source": []
  },
  {
   "cell_type": "code",
   "execution_count": null,
   "metadata": {},
   "outputs": [],
   "source": []
  }
 ],
 "metadata": {
  "interpreter": {
   "hash": "708e9726cfefdb058dac500d861d58f3238e7c30de202ec5233c4f8b6d763e57"
  },
  "kernelspec": {
   "display_name": "Python 3",
   "language": "python",
   "name": "python3"
  },
  "language_info": {
   "codemirror_mode": {
    "name": "ipython",
    "version": 3
   },
   "file_extension": ".py",
   "mimetype": "text/x-python",
   "name": "python",
   "nbconvert_exporter": "python",
   "pygments_lexer": "ipython3",
   "version": "3.7.6"
  }
 },
 "nbformat": 4,
 "nbformat_minor": 2
}
