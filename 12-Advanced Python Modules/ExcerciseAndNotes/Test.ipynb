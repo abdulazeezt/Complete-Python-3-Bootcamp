{
 "cells": [
  {
   "cell_type": "code",
   "execution_count": 1,
   "id": "c890ab50",
   "metadata": {},
   "outputs": [
    {
     "name": "stdout",
     "output_type": "stream",
     "text": [
      "Collecting jupyterthemes\n",
      "  Downloading jupyterthemes-0.20.0-py2.py3-none-any.whl (7.0 MB)\n",
      "Collecting matplotlib>=1.4.3\n",
      "  Downloading matplotlib-3.7.2-cp38-cp38-win_amd64.whl (7.5 MB)\n",
      "Requirement already satisfied: ipython>=5.4.1 in c:\\users\\sony\\appdata\\local\\programs\\python\\python38\\lib\\site-packages (from jupyterthemes) (7.20.0)\n",
      "Collecting lesscpy>=0.11.2\n",
      "  Downloading lesscpy-0.15.1-py2.py3-none-any.whl (46 kB)\n",
      "Requirement already satisfied: notebook>=5.6.0 in c:\\users\\sony\\appdata\\local\\programs\\python\\python38\\lib\\site-packages (from jupyterthemes) (6.2.0)\n",
      "Requirement already satisfied: jupyter-core in c:\\users\\sony\\appdata\\local\\programs\\python\\python38\\lib\\site-packages (from jupyterthemes) (4.7.1)\n",
      "Requirement already satisfied: traitlets>=4.2 in c:\\users\\sony\\appdata\\local\\programs\\python\\python38\\lib\\site-packages (from ipython>=5.4.1->jupyterthemes) (5.0.5)\n",
      "Requirement already satisfied: pickleshare in c:\\users\\sony\\appdata\\local\\programs\\python\\python38\\lib\\site-packages (from ipython>=5.4.1->jupyterthemes) (0.7.5)\n",
      "Requirement already satisfied: setuptools>=18.5 in c:\\users\\sony\\appdata\\local\\programs\\python\\python38\\lib\\site-packages (from ipython>=5.4.1->jupyterthemes) (47.1.0)\n",
      "Requirement already satisfied: prompt-toolkit!=3.0.0,!=3.0.1,<3.1.0,>=2.0.0 in c:\\users\\sony\\appdata\\local\\programs\\python\\python38\\lib\\site-packages (from ipython>=5.4.1->jupyterthemes) (3.0.14)\n",
      "Requirement already satisfied: colorama in c:\\users\\sony\\appdata\\local\\programs\\python\\python38\\lib\\site-packages (from ipython>=5.4.1->jupyterthemes) (0.4.3)\n",
      "Requirement already satisfied: decorator in c:\\users\\sony\\appdata\\local\\programs\\python\\python38\\lib\\site-packages (from ipython>=5.4.1->jupyterthemes) (4.4.2)\n",
      "Requirement already satisfied: backcall in c:\\users\\sony\\appdata\\local\\programs\\python\\python38\\lib\\site-packages (from ipython>=5.4.1->jupyterthemes) (0.2.0)\n",
      "Requirement already satisfied: pygments in c:\\users\\sony\\appdata\\local\\programs\\python\\python38\\lib\\site-packages (from ipython>=5.4.1->jupyterthemes) (2.7.4)\n",
      "Requirement already satisfied: jedi>=0.16 in c:\\users\\sony\\appdata\\local\\programs\\python\\python38\\lib\\site-packages (from ipython>=5.4.1->jupyterthemes) (0.18.0)\n",
      "Requirement already satisfied: parso<0.9.0,>=0.8.0 in c:\\users\\sony\\appdata\\local\\programs\\python\\python38\\lib\\site-packages (from jedi>=0.16->ipython>=5.4.1->jupyterthemes) (0.8.1)\n",
      "Collecting ply\n",
      "  Downloading ply-3.11-py2.py3-none-any.whl (49 kB)\n",
      "Collecting cycler>=0.10\n",
      "  Downloading cycler-0.11.0-py3-none-any.whl (6.4 kB)\n",
      "Requirement already satisfied: python-dateutil>=2.7 in c:\\users\\sony\\appdata\\local\\programs\\python\\python38\\lib\\site-packages (from matplotlib>=1.4.3->jupyterthemes) (2.8.1)\n",
      "Requirement already satisfied: pyparsing<3.1,>=2.3.1 in c:\\users\\sony\\appdata\\local\\programs\\python\\python38\\lib\\site-packages (from matplotlib>=1.4.3->jupyterthemes) (2.4.7)\n",
      "Collecting fonttools>=4.22.0\n",
      "  Downloading fonttools-4.42.1-cp38-cp38-win_amd64.whl (1.5 MB)\n",
      "Collecting numpy>=1.20\n",
      "  Downloading numpy-1.24.4-cp38-cp38-win_amd64.whl (14.9 MB)\n",
      "Requirement already satisfied: packaging>=20.0 in c:\\users\\sony\\appdata\\local\\programs\\python\\python38\\lib\\site-packages (from matplotlib>=1.4.3->jupyterthemes) (20.9)\n",
      "Collecting importlib-resources>=3.2.0\n",
      "  Downloading importlib_resources-6.0.1-py3-none-any.whl (34 kB)\n",
      "Collecting contourpy>=1.0.1\n",
      "  Downloading contourpy-1.1.0-cp38-cp38-win_amd64.whl (470 kB)\n",
      "Collecting pillow>=6.2.0\n",
      "  Downloading Pillow-10.0.0-cp38-cp38-win_amd64.whl (2.5 MB)\n",
      "Collecting kiwisolver>=1.0.1\n",
      "  Downloading kiwisolver-1.4.5-cp38-cp38-win_amd64.whl (56 kB)\n",
      "Collecting zipp>=3.1.0\n",
      "  Downloading zipp-3.16.2-py3-none-any.whl (7.2 kB)\n"
     ]
    },
    {
     "name": "stderr",
     "output_type": "stream",
     "text": [
      "WARNING: You are using pip version 21.0.1; however, version 23.2.1 is available.\n",
      "You should consider upgrading via the 'c:\\users\\sony\\appdata\\local\\programs\\python\\python38\\python.exe -m pip install --upgrade pip' command.\n"
     ]
    },
    {
     "name": "stdout",
     "output_type": "stream",
     "text": [
      "Requirement already satisfied: jinja2 in c:\\users\\sony\\appdata\\local\\programs\\python\\python38\\lib\\site-packages (from notebook>=5.6.0->jupyterthemes) (2.11.3)\n",
      "Requirement already satisfied: nbconvert in c:\\users\\sony\\appdata\\local\\programs\\python\\python38\\lib\\site-packages (from notebook>=5.6.0->jupyterthemes) (6.0.7)\n",
      "Requirement already satisfied: pyzmq>=17 in c:\\users\\sony\\appdata\\local\\programs\\python\\python38\\lib\\site-packages (from notebook>=5.6.0->jupyterthemes) (22.0.2)\n",
      "Requirement already satisfied: Send2Trash>=1.5.0 in c:\\users\\sony\\appdata\\local\\programs\\python\\python38\\lib\\site-packages (from notebook>=5.6.0->jupyterthemes) (1.5.0)\n",
      "Requirement already satisfied: terminado>=0.8.3 in c:\\users\\sony\\appdata\\local\\programs\\python\\python38\\lib\\site-packages (from notebook>=5.6.0->jupyterthemes) (0.9.2)\n",
      "Requirement already satisfied: nbformat in c:\\users\\sony\\appdata\\local\\programs\\python\\python38\\lib\\site-packages (from notebook>=5.6.0->jupyterthemes) (5.1.2)\n",
      "Requirement already satisfied: argon2-cffi in c:\\users\\sony\\appdata\\local\\programs\\python\\python38\\lib\\site-packages (from notebook>=5.6.0->jupyterthemes) (20.1.0)\n",
      "Requirement already satisfied: tornado>=6.1 in c:\\users\\sony\\appdata\\local\\programs\\python\\python38\\lib\\site-packages (from notebook>=5.6.0->jupyterthemes) (6.1)\n",
      "Requirement already satisfied: prometheus-client in c:\\users\\sony\\appdata\\local\\programs\\python\\python38\\lib\\site-packages (from notebook>=5.6.0->jupyterthemes) (0.9.0)\n",
      "Requirement already satisfied: ipython-genutils in c:\\users\\sony\\appdata\\local\\programs\\python\\python38\\lib\\site-packages (from notebook>=5.6.0->jupyterthemes) (0.2.0)\n",
      "Requirement already satisfied: jupyter-client>=5.3.4 in c:\\users\\sony\\appdata\\local\\programs\\python\\python38\\lib\\site-packages (from notebook>=5.6.0->jupyterthemes) (6.1.11)\n",
      "Requirement already satisfied: ipykernel in c:\\users\\sony\\appdata\\local\\programs\\python\\python38\\lib\\site-packages (from notebook>=5.6.0->jupyterthemes) (5.4.3)\n",
      "Requirement already satisfied: pywin32>=1.0 in c:\\users\\sony\\appdata\\local\\programs\\python\\python38\\lib\\site-packages (from jupyter-core->jupyterthemes) (300)\n",
      "Requirement already satisfied: wcwidth in c:\\users\\sony\\appdata\\local\\programs\\python\\python38\\lib\\site-packages (from prompt-toolkit!=3.0.0,!=3.0.1,<3.1.0,>=2.0.0->ipython>=5.4.1->jupyterthemes) (0.2.5)\n",
      "Requirement already satisfied: six>=1.5 in c:\\users\\sony\\appdata\\local\\programs\\python\\python38\\lib\\site-packages (from python-dateutil>=2.7->matplotlib>=1.4.3->jupyterthemes) (1.15.0)\n",
      "Requirement already satisfied: pywinpty>=0.5 in c:\\users\\sony\\appdata\\local\\programs\\python\\python38\\lib\\site-packages (from terminado>=0.8.3->notebook>=5.6.0->jupyterthemes) (0.5.7)\n",
      "Requirement already satisfied: cffi>=1.0.0 in c:\\users\\sony\\appdata\\local\\programs\\python\\python38\\lib\\site-packages (from argon2-cffi->notebook>=5.6.0->jupyterthemes) (1.14.4)\n",
      "Requirement already satisfied: pycparser in c:\\users\\sony\\appdata\\local\\programs\\python\\python38\\lib\\site-packages (from cffi>=1.0.0->argon2-cffi->notebook>=5.6.0->jupyterthemes) (2.20)\n",
      "Requirement already satisfied: MarkupSafe>=0.23 in c:\\users\\sony\\appdata\\local\\programs\\python\\python38\\lib\\site-packages (from jinja2->notebook>=5.6.0->jupyterthemes) (1.1.1)\n",
      "Requirement already satisfied: bleach in c:\\users\\sony\\appdata\\local\\programs\\python\\python38\\lib\\site-packages (from nbconvert->notebook>=5.6.0->jupyterthemes) (3.3.0)\n",
      "Requirement already satisfied: defusedxml in c:\\users\\sony\\appdata\\local\\programs\\python\\python38\\lib\\site-packages (from nbconvert->notebook>=5.6.0->jupyterthemes) (0.6.0)\n",
      "Requirement already satisfied: nbclient<0.6.0,>=0.5.0 in c:\\users\\sony\\appdata\\local\\programs\\python\\python38\\lib\\site-packages (from nbconvert->notebook>=5.6.0->jupyterthemes) (0.5.1)\n",
      "Requirement already satisfied: pandocfilters>=1.4.1 in c:\\users\\sony\\appdata\\local\\programs\\python\\python38\\lib\\site-packages (from nbconvert->notebook>=5.6.0->jupyterthemes) (1.4.3)\n",
      "Requirement already satisfied: testpath in c:\\users\\sony\\appdata\\local\\programs\\python\\python38\\lib\\site-packages (from nbconvert->notebook>=5.6.0->jupyterthemes) (0.4.4)\n",
      "Requirement already satisfied: mistune<2,>=0.8.1 in c:\\users\\sony\\appdata\\local\\programs\\python\\python38\\lib\\site-packages (from nbconvert->notebook>=5.6.0->jupyterthemes) (0.8.4)\n",
      "Requirement already satisfied: entrypoints>=0.2.2 in c:\\users\\sony\\appdata\\local\\programs\\python\\python38\\lib\\site-packages (from nbconvert->notebook>=5.6.0->jupyterthemes) (0.3)\n",
      "Requirement already satisfied: jupyterlab-pygments in c:\\users\\sony\\appdata\\local\\programs\\python\\python38\\lib\\site-packages (from nbconvert->notebook>=5.6.0->jupyterthemes) (0.1.2)\n",
      "Requirement already satisfied: nest-asyncio in c:\\users\\sony\\appdata\\local\\programs\\python\\python38\\lib\\site-packages (from nbclient<0.6.0,>=0.5.0->nbconvert->notebook>=5.6.0->jupyterthemes) (1.5.1)\n",
      "Requirement already satisfied: async-generator in c:\\users\\sony\\appdata\\local\\programs\\python\\python38\\lib\\site-packages (from nbclient<0.6.0,>=0.5.0->nbconvert->notebook>=5.6.0->jupyterthemes) (1.10)\n",
      "Requirement already satisfied: jsonschema!=2.5.0,>=2.4 in c:\\users\\sony\\appdata\\local\\programs\\python\\python38\\lib\\site-packages (from nbformat->notebook>=5.6.0->jupyterthemes) (3.2.0)\n",
      "Requirement already satisfied: attrs>=17.4.0 in c:\\users\\sony\\appdata\\local\\programs\\python\\python38\\lib\\site-packages (from jsonschema!=2.5.0,>=2.4->nbformat->notebook>=5.6.0->jupyterthemes) (20.3.0)\n",
      "Requirement already satisfied: pyrsistent>=0.14.0 in c:\\users\\sony\\appdata\\local\\programs\\python\\python38\\lib\\site-packages (from jsonschema!=2.5.0,>=2.4->nbformat->notebook>=5.6.0->jupyterthemes) (0.17.3)\n",
      "Requirement already satisfied: webencodings in c:\\users\\sony\\appdata\\local\\programs\\python\\python38\\lib\\site-packages (from bleach->nbconvert->notebook>=5.6.0->jupyterthemes) (0.5.1)\n",
      "Installing collected packages: zipp, numpy, ply, pillow, kiwisolver, importlib-resources, fonttools, cycler, contourpy, matplotlib, lesscpy, jupyterthemes\n",
      "Successfully installed contourpy-1.1.0 cycler-0.11.0 fonttools-4.42.1 importlib-resources-6.0.1 jupyterthemes-0.20.0 kiwisolver-1.4.5 lesscpy-0.15.1 matplotlib-3.7.2 numpy-1.24.4 pillow-10.0.0 ply-3.11 zipp-3.16.2\n"
     ]
    }
   ],
   "source": [
    "!pip install jupyterthemes"
   ]
  },
  {
   "cell_type": "code",
   "execution_count": null,
   "id": "white-register",
   "metadata": {},
   "outputs": [],
   "source": [
    "!jt -t oceans16"
   ]
  }
 ],
 "metadata": {
  "kernelspec": {
   "display_name": "Python 3",
   "language": "python",
   "name": "python3"
  },
  "language_info": {
   "codemirror_mode": {
    "name": "ipython",
    "version": 3
   },
   "file_extension": ".py",
   "mimetype": "text/x-python",
   "name": "python",
   "nbconvert_exporter": "python",
   "pygments_lexer": "ipython3",
   "version": "3.8.4"
  }
 },
 "nbformat": 4,
 "nbformat_minor": 5
}
