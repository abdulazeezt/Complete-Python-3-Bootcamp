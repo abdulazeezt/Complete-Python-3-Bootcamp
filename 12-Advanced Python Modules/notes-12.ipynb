{
 "cells": [
  {
   "cell_type": "code",
   "execution_count": null,
   "metadata": {},
   "outputs": [],
   "source": []
  },
  {
   "cell_type": "markdown",
   "metadata": {},
   "source": [
    "# OS Module\n",
    "import os\n",
    "\n",
    "os.listdir()\n",
    "\n",
    " os.getcwd()\n",
    "\n",
    "os.listdir('c:\\\\Users')\n",
    "\n",
    "f = open('practice.txt','w+')\n",
    "\n",
    "f.write('test')\n",
    "\n",
    "f.close()\n"
   ]
  },
  {
   "cell_type": "markdown",
   "metadata": {},
   "source": [
    "# datetime Module\n",
    "import datetime\n",
    "\n",
    "t = datetime.time(4, 20, 1)\n",
    "\n",
    "today = datetime.date.today()\n",
    "\n",
    "### Arithmetic\n",
    "    datetime.date(2015, 3, 11) - datetime.date(1990, 3, 11)\n",
    "    datetime.timedelta(days=9131)\n"
   ]
  },
  {
   "cell_type": "markdown",
   "metadata": {},
   "source": []
  },
  {
   "cell_type": "code",
   "execution_count": null,
   "metadata": {},
   "outputs": [],
   "source": []
  },
  {
   "cell_type": "markdown",
   "metadata": {},
   "source": [
    "# Moving files around\n",
    "\n",
    "import shutil\n",
    "\n",
    "shutil.move('practice.txt','C:\\\\Users\\\\Marcial')\n",
    "\n",
    "shutil.move('C:\\\\Users\\\\Marcial\\practice.txt',os.getcwd())\n",
    "\n"
   ]
  },
  {
   "cell_type": "markdown",
   "metadata": {},
   "source": [
    "### Deleting Files\n",
    "\n",
    "pip install send2trash\n",
    "\n",
    "import send2trash\n",
    "\n",
    "send2trash.send2trash('practice.txt')"
   ]
  },
  {
   "cell_type": "markdown",
   "metadata": {},
   "source": [
    "# Walking through a directory\n",
    "\n",
    "for folder , sub_folders , files in os.walk(\"Example_Top_Level\"):\n",
    "    \n",
    "    print(\"Currently looking at folder: \"+ folder)\n",
    "    print('\\n')\n",
    "    print(\"THE SUBFOLDERS ARE: \")\n",
    "    for sub_fold in sub_folders:\n",
    "        print(\"\\t Subfolder: \"+sub_fold )\n",
    "    \n",
    "    print('\\n')\n",
    "    \n",
    "    print(\"THE FILES ARE: \")\n",
    "    for f in files:\n",
    "        print(\"\\t File: \"+f)\n",
    "    print('\\n')\n",
    "    \n",
    "    # Now look at subfolders"
   ]
  },
  {
   "cell_type": "code",
   "execution_count": null,
   "metadata": {},
   "outputs": [],
   "source": []
  },
  {
   "cell_type": "markdown",
   "metadata": {},
   "source": [
    "# Math and random Module\n",
    "import Math\n",
    "help(math)   <<< Will list help about this function. >>>\n",
    "## Rand number\n",
    "floor\n",
    "ceil\n",
    "\n",
    "round < This is part of python module >\n",
    "round(4.5)\n",
    "4\n",
    "round(5.5)\n",
    "6\n",
    "#### Note the differences in the output.\n",
    "#### There are many functions . This can be checked using help functions. \n"
   ]
  },
  {
   "cell_type": "code",
   "execution_count": null,
   "metadata": {},
   "outputs": [],
   "source": []
  },
  {
   "cell_type": "code",
   "execution_count": null,
   "metadata": {},
   "outputs": [],
   "source": []
  },
  {
   "cell_type": "code",
   "execution_count": null,
   "metadata": {},
   "outputs": [],
   "source": []
  },
  {
   "cell_type": "code",
   "execution_count": null,
   "metadata": {},
   "outputs": [],
   "source": []
  },
  {
   "cell_type": "markdown",
   "metadata": {},
   "source": [
    "\n",
    "# zip and unzip files \n",
    "\n",
    "import os\n",
    "os.getcwd()\n",
    "\n",
    "f = open(\"testfile1.txt\",'w+')\n",
    "f2 = open(\"testfile2.txt\",'w+')\n",
    "\n",
    "f.write(\"A new text has been added to the file1\")\n",
    "f2.write(\"A New text has been added to the file2 \\n asdfasdfasdfasdfjasdf asdf;lasdkjfasd flasdjfas  \\n \")\n",
    "\n",
    "f.close()\n",
    "f2.close()\n",
    "\n",
    "import zipfile\n",
    "\n",
    "zipobject = zipfile.ZipFile('comp_file.zip','w')\n",
    "\n",
    "zipobject.write( \"testfile1.txt\" , compress_type=zipfile.ZIP_DEFLATED )\n",
    "zipobject.write( \"testfile2.txt\" , compress_type=zipfile.ZIP_DEFLATED )\n",
    "zipobject.close()\n",
    "\n",
    "zipobject = zipfile.ZipFile('comp_file.zip','r')\n",
    "zipobject.extractall(\"extracted_content\")\n",
    "zipobject.close()\n"
   ]
  }
 ],
 "metadata": {
  "interpreter": {
   "hash": "708e9726cfefdb058dac500d861d58f3238e7c30de202ec5233c4f8b6d763e57"
  },
  "kernelspec": {
   "display_name": "Python 3.8.4 64-bit",
   "language": "python",
   "name": "python3"
  },
  "language_info": {
   "codemirror_mode": {
    "name": "ipython",
    "version": 3
   },
   "file_extension": ".py",
   "mimetype": "text/x-python",
   "name": "python",
   "nbconvert_exporter": "python",
   "pygments_lexer": "ipython3",
   "version": "3.8.4"
  },
  "orig_nbformat": 4
 },
 "nbformat": 4,
 "nbformat_minor": 2
}
