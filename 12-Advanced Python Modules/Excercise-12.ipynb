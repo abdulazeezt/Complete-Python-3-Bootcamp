{
 "cells": [
  {
   "cell_type": "code",
   "execution_count": 11,
   "metadata": {},
   "outputs": [
    {
     "data": {
      "text/plain": [
       "'c:\\\\Users\\\\SONY\\\\Documents\\\\GitHub\\\\Complete-Python-3-Bootcamp\\\\12-Advanced Python Modules'"
      ]
     },
     "execution_count": 11,
     "metadata": {},
     "output_type": "execute_result"
    }
   ],
   "source": [
    "import os\n",
    "os.listdir()\n",
    "os.getcwd()\n",
    "os.listdir('c:\\\\Users')\n",
    "\n"
   ]
  },
  {
   "cell_type": "code",
   "execution_count": 12,
   "metadata": {},
   "outputs": [
    {
     "data": {
      "text/plain": [
       "['.ipynb_checkpoints',\n",
       " '00-Collections-Module.ipynb',\n",
       " '01-Opening-and-Reading-Files-Folders.ipynb',\n",
       " '02-Datetime-Module.ipynb',\n",
       " '03-Math-and-Random-Module.ipynb',\n",
       " '04-Python Debugger (pdb).ipynb',\n",
       " '05-Overview-of-Regular-Expressions.ipynb',\n",
       " '06-Timing your code - timeit.ipynb',\n",
       " '07-Unzipping-and-Zipping-Files.ipynb',\n",
       " '08-Advanced-Python-Module-Exercise',\n",
       " 'Example_Top_Level',\n",
       " 'Excercise.ipynb',\n",
       " 'notes.ipynb']"
      ]
     },
     "execution_count": 12,
     "metadata": {},
     "output_type": "execute_result"
    }
   ],
   "source": [
    "import shutil\n",
    "os.listdir()\n",
    "shutil.move()"
   ]
  },
  {
   "cell_type": "code",
   "execution_count": 23,
   "metadata": {},
   "outputs": [
    {
     "name": "stdout",
     "output_type": "stream",
     "text": [
      "Printing the date \n",
      "02:20:00\n",
      "printing the type  <class 'datetime.time'>\n",
      "printing the hour\n",
      "mytime is \n"
     ]
    },
    {
     "data": {
      "text/plain": [
       "6"
      ]
     },
     "execution_count": 23,
     "metadata": {},
     "output_type": "execute_result"
    }
   ],
   "source": [
    "import datetime\n",
    "\n",
    "mydate = datetime.time(2,20)\n",
    "\n",
    "print(\"Printing the date \")\n",
    "print (mydate)\n",
    "\n",
    "print(\"printing the type  \" + str(type(mydate)) )\n",
    "\n",
    "print (\"printing the hour\")\n",
    "\n",
    "mydate.hour\n",
    "\n",
    "\n",
    "mytime = datetime.date.today()\n",
    "\n",
    "print (\"mytime is \")\n",
    "mytime.day\n",
    "\n"
   ]
  },
  {
   "cell_type": "code",
   "execution_count": null,
   "metadata": {},
   "outputs": [],
   "source": []
  },
  {
   "cell_type": "code",
   "execution_count": null,
   "metadata": {},
   "outputs": [],
   "source": []
  },
  {
   "cell_type": "code",
   "execution_count": null,
   "metadata": {},
   "outputs": [],
   "source": []
  },
  {
   "cell_type": "code",
   "execution_count": null,
   "metadata": {},
   "outputs": [],
   "source": [
    "from collections import Counter\n",
    "string1 = \"heloworld\"\n",
    "new_counter = Counter(s)"
   ]
  },
  {
   "cell_type": "code",
   "execution_count": null,
   "metadata": {},
   "outputs": [],
   "source": []
  },
  {
   "cell_type": "code",
   "execution_count": 16,
   "metadata": {},
   "outputs": [
    {
     "data": {
      "text/plain": [
       "dict_values([1, 1, 3, 2, 1, 1, 1])"
      ]
     },
     "execution_count": 16,
     "metadata": {},
     "output_type": "execute_result"
    }
   ],
   "source": [
    "new_counter"
   ]
  },
  {
   "cell_type": "code",
   "execution_count": null,
   "metadata": {},
   "outputs": [],
   "source": [
    "import re"
   ]
  },
  {
   "cell_type": "code",
   "execution_count": 3,
   "metadata": {},
   "outputs": [
    {
     "data": {
      "text/plain": [
       "<re.Match object; span=(0, 3), match='Hel'>"
      ]
     },
     "execution_count": 3,
     "metadata": {},
     "output_type": "execute_result"
    }
   ],
   "source": [
    "text = \"Hello world , Yeah\"\n",
    "\n",
    "re.search('H....',text)"
   ]
  },
  {
   "cell_type": "code",
   "execution_count": 1,
   "metadata": {
    "scrolled": true
   },
   "outputs": [
    {
     "data": {
      "text/plain": [
       "'C:\\\\Users\\\\SONY\\\\Documents\\\\reference-docs\\\\python\\\\Complete-Python-3-Bootcamp-master\\\\Complete-Python-3-Bootcamp-master\\\\13-Advanced Python Modules'"
      ]
     },
     "execution_count": 1,
     "metadata": {},
     "output_type": "execute_result"
    }
   ],
   "source": [
    "pwd"
   ]
  },
  {
   "cell_type": "code",
   "execution_count": 2,
   "metadata": {},
   "outputs": [],
   "source": [
    "f = open('practice.txt','w+')\n",
    "f.write('This is a text file')\n",
    "f.close()"
   ]
  },
  {
   "cell_type": "code",
   "execution_count": 4,
   "metadata": {},
   "outputs": [],
   "source": [
    "import os"
   ]
  },
  {
   "cell_type": "code",
   "execution_count": 5,
   "metadata": {},
   "outputs": [
    {
     "data": {
      "text/plain": [
       "'C:\\\\Users\\\\SONY\\\\Documents\\\\reference-docs\\\\python\\\\Complete-Python-3-Bootcamp-master\\\\Complete-Python-3-Bootcamp-master\\\\13-Advanced Python Modules'"
      ]
     },
     "execution_count": 5,
     "metadata": {},
     "output_type": "execute_result"
    }
   ],
   "source": [
    "os.getcwd()"
   ]
  },
  {
   "cell_type": "code",
   "execution_count": 6,
   "metadata": {
    "collapsed": true
   },
   "outputs": [
    {
     "data": {
      "text/plain": [
       "['.ipynb_checkpoints',\n",
       " '01-Collections Module.ipynb',\n",
       " '02-Datetime.ipynb',\n",
       " '03-Python Debugger (pdb).ipynb',\n",
       " '04-Timing your code - timeit.ipynb',\n",
       " '05-Regular Expressions - re.ipynb',\n",
       " '06-StringIO.ipynb',\n",
       " 'Excercise.ipynb',\n",
       " 'practice.txt']"
      ]
     },
     "execution_count": 6,
     "metadata": {},
     "output_type": "execute_result"
    }
   ],
   "source": [
    "os.listdir()"
   ]
  },
  {
   "cell_type": "code",
   "execution_count": 9,
   "metadata": {},
   "outputs": [
    {
     "data": {
      "text/plain": [
       "['All Users', 'Default', 'Default User', 'desktop.ini', 'Public', 'SONY']"
      ]
     },
     "execution_count": 9,
     "metadata": {},
     "output_type": "execute_result"
    }
   ],
   "source": [
    "os.listdir('C:\\\\Users\\\\')"
   ]
  },
  {
   "cell_type": "code",
   "execution_count": 10,
   "metadata": {},
   "outputs": [],
   "source": [
    "import shutil"
   ]
  },
  {
   "cell_type": "code",
   "execution_count": 11,
   "metadata": {},
   "outputs": [
    {
     "data": {
      "text/plain": [
       "'C:\\\\Users\\\\SONY\\\\Documents\\\\reference-docs\\\\python\\\\Complete-Python-3-Bootcamp-master\\\\Complete-Python-3-Bootcamp-master\\\\13-Advanced Python Modules'"
      ]
     },
     "execution_count": 11,
     "metadata": {},
     "output_type": "execute_result"
    }
   ],
   "source": [
    "pwd"
   ]
  },
  {
   "cell_type": "code",
   "execution_count": 12,
   "metadata": {},
   "outputs": [
    {
     "data": {
      "text/plain": [
       "['.ipynb_checkpoints',\n",
       " '01-Collections Module.ipynb',\n",
       " '02-Datetime.ipynb',\n",
       " '03-Python Debugger (pdb).ipynb',\n",
       " '04-Timing your code - timeit.ipynb',\n",
       " '05-Regular Expressions - re.ipynb',\n",
       " '06-StringIO.ipynb',\n",
       " 'Excercise.ipynb',\n",
       " 'practice.txt']"
      ]
     },
     "execution_count": 12,
     "metadata": {},
     "output_type": "execute_result"
    }
   ],
   "source": [
    "os.listdir()"
   ]
  },
  {
   "cell_type": "code",
   "execution_count": 13,
   "metadata": {},
   "outputs": [
    {
     "data": {
      "text/plain": [
       "['.ipynb_checkpoints',\n",
       " '01-Collections Module.ipynb',\n",
       " '02-Datetime.ipynb',\n",
       " '03-Python Debugger (pdb).ipynb',\n",
       " '04-Timing your code - timeit.ipynb',\n",
       " '05-Regular Expressions - re.ipynb',\n",
       " '06-StringIO.ipynb',\n",
       " 'Excercise.ipynb',\n",
       " 'practice.txt']"
      ]
     },
     "execution_count": 13,
     "metadata": {},
     "output_type": "execute_result"
    }
   ],
   "source": [
    "os.listdir()"
   ]
  },
  {
   "cell_type": "code",
   "execution_count": 17,
   "metadata": {},
   "outputs": [
    {
     "data": {
      "text/plain": [
       "'C:\\\\temp\\\\practice.txt'"
      ]
     },
     "execution_count": 17,
     "metadata": {},
     "output_type": "execute_result"
    }
   ],
   "source": [
    "shutil.move( 'practice.txt' ,\"C:\\\\temp\" )"
   ]
  },
  {
   "cell_type": "code",
   "execution_count": 19,
   "metadata": {},
   "outputs": [
    {
     "data": {
      "text/plain": [
       "'C:\\\\Users\\\\SONY\\\\Documents\\\\reference-docs\\\\python\\\\Complete-Python-3-Bootcamp-master\\\\Complete-Python-3-Bootcamp-master\\\\13-Advanced Python Modules'"
      ]
     },
     "execution_count": 19,
     "metadata": {},
     "output_type": "execute_result"
    }
   ],
   "source": [
    "pwd"
   ]
  },
  {
   "cell_type": "code",
   "execution_count": 25,
   "metadata": {},
   "outputs": [
    {
     "data": {
      "text/plain": [
       "'C:\\\\Users\\\\SONY\\\\Documents\\\\reference-docs\\\\python\\\\Complete-Python-3-Bootcamp-master\\\\Complete-Python-3-Bootcamp-master\\\\13-Advanced Python Modules\\\\practice.txt'"
      ]
     },
     "execution_count": 25,
     "metadata": {},
     "output_type": "execute_result"
    }
   ],
   "source": [
    "shutil.move(\"C:\\\\temp\\\\practice.txt\" , os.getcwd() )"
   ]
  },
  {
   "cell_type": "code",
   "execution_count": 26,
   "metadata": {},
   "outputs": [
    {
     "data": {
      "text/plain": [
       "['.ipynb_checkpoints',\n",
       " '01-Collections Module.ipynb',\n",
       " '02-Datetime.ipynb',\n",
       " '03-Python Debugger (pdb).ipynb',\n",
       " '04-Timing your code - timeit.ipynb',\n",
       " '05-Regular Expressions - re.ipynb',\n",
       " '06-StringIO.ipynb',\n",
       " 'Excercise.ipynb',\n",
       " 'practice.txt']"
      ]
     },
     "execution_count": 26,
     "metadata": {},
     "output_type": "execute_result"
    }
   ],
   "source": [
    "os.listdir()"
   ]
  },
  {
   "cell_type": "code",
   "execution_count": 28,
   "metadata": {},
   "outputs": [],
   "source": [
    "import send2trash"
   ]
  },
  {
   "cell_type": "code",
   "execution_count": 29,
   "metadata": {},
   "outputs": [],
   "source": [
    "send2trash.send2trash('practice.txt')"
   ]
  },
  {
   "cell_type": "code",
   "execution_count": 13,
   "metadata": {},
   "outputs": [
    {
     "data": {
      "text/plain": [
       "['.ipynb_checkpoints',\n",
       " '00-Collections-Module.ipynb',\n",
       " '01-Opening-and-Reading-Files-Folders.ipynb',\n",
       " '02-Datetime-Module.ipynb',\n",
       " '03-Math-and-Random-Module.ipynb',\n",
       " '04-Python Debugger (pdb).ipynb',\n",
       " '05-Overview-of-Regular-Expressions.ipynb',\n",
       " '06-Timing your code - timeit.ipynb',\n",
       " '07-Unzipping-and-Zipping-Files.ipynb',\n",
       " '08-Advanced-Python-Module-Exercise',\n",
       " 'Example_Top_Level',\n",
       " 'Excercise.ipynb',\n",
       " 'notes.ipynb']"
      ]
     },
     "execution_count": 13,
     "metadata": {},
     "output_type": "execute_result"
    }
   ],
   "source": [
    "os.listdir()"
   ]
  },
  {
   "cell_type": "code",
   "execution_count": 23,
   "metadata": {},
   "outputs": [
    {
     "name": "stdout",
     "output_type": "stream",
     "text": [
      "Currently looking at folder: C:\\HiLookVision\n",
      "\n",
      "\n",
      "THE SUBFOLDERS ARE: \n",
      "\t Subfolder: capture\n",
      "\n",
      "\n",
      "THE FILES ARE: \n",
      "\t File: iVMS4200_20201215.zip\n",
      "\t File: iVMS4200_20201223.zip\n",
      "\t File: iVMS4200_20210111.zip\n",
      "\t File: iVMS4200_20210125.zip\n",
      "\t File: iVMS4200_20210204.zip\n",
      "\t File: iVMS4200_20210215.zip\n",
      "\t File: iVMS4200_20210222.zip\n",
      "\t File: iVMS4200_20210327.zip\n",
      "\t File: iVMS4200_20210404.zip\n",
      "\t File: iVMS4200_20210411.zip\n",
      "\t File: iVMS4200_20210421.zip\n",
      "\t File: iVMS4200_20210524.zip\n",
      "\t File: iVMS4200_20210710.zip\n",
      "\t File: iVMS4200_20210904.zip\n",
      "\t File: iVMS4200_20210911.zip\n",
      "\t File: iVMS4200_20210918.zip\n",
      "\t File: iVMS4200_20211028.zip\n",
      "\n",
      "\n",
      "\t Subfolder: video\n",
      "\n",
      "\n",
      "THE FILES ARE: \n",
      "\t File: iVMS4200_20201215.zip\n",
      "\t File: iVMS4200_20201223.zip\n",
      "\t File: iVMS4200_20210111.zip\n",
      "\t File: iVMS4200_20210125.zip\n",
      "\t File: iVMS4200_20210204.zip\n",
      "\t File: iVMS4200_20210215.zip\n",
      "\t File: iVMS4200_20210222.zip\n",
      "\t File: iVMS4200_20210327.zip\n",
      "\t File: iVMS4200_20210404.zip\n",
      "\t File: iVMS4200_20210411.zip\n",
      "\t File: iVMS4200_20210421.zip\n",
      "\t File: iVMS4200_20210524.zip\n",
      "\t File: iVMS4200_20210710.zip\n",
      "\t File: iVMS4200_20210904.zip\n",
      "\t File: iVMS4200_20210911.zip\n",
      "\t File: iVMS4200_20210918.zip\n",
      "\t File: iVMS4200_20211028.zip\n",
      "\n",
      "\n",
      "Currently looking at folder: C:\\HiLookVision\\capture\n",
      "\n",
      "\n",
      "THE SUBFOLDERS ARE: \n",
      "\t Subfolder: 20201129\n",
      "\n",
      "\n",
      "THE FILES ARE: \n",
      "\n",
      "\n",
      "\t Subfolder: 20201130\n",
      "\n",
      "\n",
      "THE FILES ARE: \n",
      "\n",
      "\n",
      "\t Subfolder: 20210911\n",
      "\n",
      "\n",
      "THE FILES ARE: \n",
      "\n",
      "\n",
      "Currently looking at folder: C:\\HiLookVision\\capture\\20201129\n",
      "\n",
      "\n",
      "THE SUBFOLDERS ARE: \n",
      "Currently looking at folder: C:\\HiLookVision\\capture\\20201130\n",
      "\n",
      "\n",
      "THE SUBFOLDERS ARE: \n",
      "Currently looking at folder: C:\\HiLookVision\\capture\\20210911\n",
      "\n",
      "\n",
      "THE SUBFOLDERS ARE: \n",
      "Currently looking at folder: C:\\HiLookVision\\video\n",
      "\n",
      "\n",
      "THE SUBFOLDERS ARE: \n",
      "\t Subfolder: 20201130\n",
      "\n",
      "\n",
      "THE FILES ARE: \n",
      "\n",
      "\n",
      "\t Subfolder: 20210329\n",
      "\n",
      "\n",
      "THE FILES ARE: \n",
      "\n",
      "\n",
      "\t Subfolder: 20210403\n",
      "\n",
      "\n",
      "THE FILES ARE: \n",
      "\n",
      "\n",
      "\t Subfolder: RecordFile\n",
      "\n",
      "\n",
      "THE FILES ARE: \n",
      "\n",
      "\n",
      "Currently looking at folder: C:\\HiLookVision\\video\\20201130\n",
      "\n",
      "\n",
      "THE SUBFOLDERS ARE: \n",
      "Currently looking at folder: C:\\HiLookVision\\video\\20210329\n",
      "\n",
      "\n",
      "THE SUBFOLDERS ARE: \n",
      "Currently looking at folder: C:\\HiLookVision\\video\\20210403\n",
      "\n",
      "\n",
      "THE SUBFOLDERS ARE: \n",
      "Currently looking at folder: C:\\HiLookVision\\video\\RecordFile\n",
      "\n",
      "\n",
      "THE SUBFOLDERS ARE: \n",
      "\t Subfolder: 20210206\n",
      "\n",
      "\n",
      "THE FILES ARE: \n",
      "\n",
      "\n",
      "Currently looking at folder: C:\\HiLookVision\\video\\RecordFile\\20210206\n",
      "\n",
      "\n",
      "THE SUBFOLDERS ARE: \n",
      "\t Subfolder: 192.168.100.2_8000_1_1_-1\n",
      "\n",
      "\n",
      "THE FILES ARE: \n",
      "\n",
      "\n",
      "\t Subfolder: 192.168.100.2_8000_2_2_-1\n",
      "\n",
      "\n",
      "THE FILES ARE: \n",
      "\n",
      "\n",
      "Currently looking at folder: C:\\HiLookVision\\video\\RecordFile\\20210206\\192.168.100.2_8000_1_1_-1\n",
      "\n",
      "\n",
      "THE SUBFOLDERS ARE: \n",
      "Currently looking at folder: C:\\HiLookVision\\video\\RecordFile\\20210206\\192.168.100.2_8000_2_2_-1\n",
      "\n",
      "\n",
      "THE SUBFOLDERS ARE: \n"
     ]
    }
   ],
   "source": [
    "\n",
    "os_walk = os.walk(\"c:\\\\users\")\n",
    "\n",
    "# os_walk.\n",
    "#for folder,sub_folders,files in os.walk(\"c:\\\\users\" )  :\n",
    "#    print (f\"Folder Name: {folder}\")\n",
    "\n",
    "for folder , sub_folders , files in os.walk(\"C:\\HiLookVision\"):\n",
    "    print(\"Currently looking at folder: \"+ folder)\n",
    "    print('\\n')\n",
    "    print(\"THE SUBFOLDERS ARE: \")\n",
    "    for sub_fold in sub_folders:\n",
    "        print(\"\\t Subfolder: \"+sub_fold )\n",
    "        print('\\n')\n",
    "        print(\"THE FILES ARE: \")\n",
    "\n",
    "        for f in files:\n",
    "            print(\"\\t File: \"+f)\n",
    "        print('\\n')\n",
    "    \n",
    "    # Now look at subfolders\n"
   ]
  },
  {
   "cell_type": "code",
   "execution_count": null,
   "metadata": {},
   "outputs": [],
   "source": []
  },
  {
   "cell_type": "code",
   "execution_count": null,
   "metadata": {},
   "outputs": [],
   "source": []
  },
  {
   "cell_type": "code",
   "execution_count": 33,
   "metadata": {},
   "outputs": [],
   "source": [
    "import datetime"
   ]
  },
  {
   "cell_type": "code",
   "execution_count": 34,
   "metadata": {},
   "outputs": [],
   "source": [
    "mytime = datetime.time()"
   ]
  },
  {
   "cell_type": "code",
   "execution_count": 35,
   "metadata": {},
   "outputs": [
    {
     "data": {
      "text/plain": [
       "0"
      ]
     },
     "execution_count": 35,
     "metadata": {},
     "output_type": "execute_result"
    }
   ],
   "source": [
    "mytime.minute"
   ]
  },
  {
   "cell_type": "code",
   "execution_count": 37,
   "metadata": {
    "scrolled": true
   },
   "outputs": [
    {
     "name": "stdout",
     "output_type": "stream",
     "text": [
      "0\n"
     ]
    }
   ],
   "source": [
    "print(mytime.minute  )"
   ]
  },
  {
   "cell_type": "code",
   "execution_count": 38,
   "metadata": {},
   "outputs": [],
   "source": [
    "import datetime"
   ]
  },
  {
   "cell_type": "code",
   "execution_count": 43,
   "metadata": {},
   "outputs": [],
   "source": [
    "mytime = datetime.time(2,20)"
   ]
  },
  {
   "cell_type": "code",
   "execution_count": 46,
   "metadata": {},
   "outputs": [
    {
     "data": {
      "text/plain": [
       "2"
      ]
     },
     "execution_count": 46,
     "metadata": {},
     "output_type": "execute_result"
    }
   ],
   "source": [
    "mytime.hour"
   ]
  },
  {
   "cell_type": "code",
   "execution_count": 1,
   "metadata": {},
   "outputs": [
    {
     "data": {
      "text/plain": [
       "['0', '1', '2', '3', '4', '5', '6', '7', '8', '9']"
      ]
     },
     "execution_count": 1,
     "metadata": {},
     "output_type": "execute_result"
    }
   ],
   "source": [
    "def func_one(n):\n",
    "    return [str(num) for num in range(n)]\n",
    "func_one(10)"
   ]
  },
  {
   "cell_type": "code",
   "execution_count": 3,
   "metadata": {},
   "outputs": [],
   "source": [
    "def func_two(n):\n",
    "    return list(map(str,range(n)))"
   ]
  },
  {
   "cell_type": "code",
   "execution_count": 4,
   "metadata": {},
   "outputs": [
    {
     "data": {
      "text/plain": [
       "['0', '1', '2', '3', '4', '5', '6', '7', '8', '9']"
      ]
     },
     "execution_count": 4,
     "metadata": {},
     "output_type": "execute_result"
    }
   ],
   "source": [
    "func_two(10)"
   ]
  },
  {
   "cell_type": "code",
   "execution_count": 7,
   "metadata": {},
   "outputs": [
    {
     "name": "stdout",
     "output_type": "stream",
     "text": [
      "0.0050013065338134766\n"
     ]
    }
   ],
   "source": [
    "import time\n",
    "# Currnt time before\n",
    "start_time = time.time()\n",
    "# Run the code\n",
    "func_one(10000)\n",
    "# Current time after\n",
    "end_time = time.time()\n",
    "# Elapsed time. \n",
    "\n",
    "elapsed_time = end_time - start_time\n",
    "print (elapsed_time)"
   ]
  },
  {
   "cell_type": "code",
   "execution_count": 9,
   "metadata": {},
   "outputs": [],
   "source": [
    "import timeit"
   ]
  },
  {
   "cell_type": "code",
   "execution_count": null,
   "metadata": {},
   "outputs": [],
   "source": [
    "timeit.timeit"
   ]
  },
  {
   "cell_type": "markdown",
   "metadata": {},
   "source": [
    "pwd"
   ]
  },
  {
   "cell_type": "markdown",
   "metadata": {},
   "source": []
  }
 ],
 "metadata": {
  "kernelspec": {
   "display_name": "Python 3",
   "language": "python",
   "name": "python3"
  },
  "language_info": {
   "codemirror_mode": {
    "name": "ipython",
    "version": 3
   },
   "file_extension": ".py",
   "mimetype": "text/x-python",
   "name": "python",
   "nbconvert_exporter": "python",
   "pygments_lexer": "ipython3",
   "version": "3.8.4"
  }
 },
 "nbformat": 4,
 "nbformat_minor": 4
}
