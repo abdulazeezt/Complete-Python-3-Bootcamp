{
 "cells": [
  {
   "cell_type": "markdown",
   "id": "04f73a7d",
   "metadata": {},
   "source": []
  },
  {
   "cell_type": "markdown",
   "id": "afc188a4",
   "metadata": {},
   "source": [
    "## Steps to read a CSV file"
   ]
  },
  {
   "cell_type": "markdown",
   "id": "9e25583f",
   "metadata": {},
   "source": [
    "    csvdatafile = open(example.xls , encoding ='utf-8')     )\n",
    "    import csv\n",
    "    csv_reader = csv.reader(csvdatafile)\n",
    "    csvreadertolist = list(csv_reader)"
   ]
  },
  {
   "cell_type": "code",
   "execution_count": null,
   "id": "48f9bdd2",
   "metadata": {},
   "outputs": [],
   "source": []
  },
  {
   "cell_type": "markdown",
   "id": "2dd27f93",
   "metadata": {},
   "source": [
    "## Steps to write to a CSV File"
   ]
  },
  {
   "cell_type": "markdown",
   "id": "b3939481",
   "metadata": {},
   "source": [
    "    create_a_new_file = open('newfiletowrite_csv.csv',mode='w',newline='')\n",
    "    csv_writer = csv.writer(create_a_new_file,delimiter=',')\n",
    "    csv_writer.writerow(['a','b','c'])\n",
    "    csv_writer.writerows([['10','11','12'],['100','200','300']])\n"
   ]
  },
  {
   "cell_type": "code",
   "execution_count": null,
   "id": "6ab9a495",
   "metadata": {},
   "outputs": [],
   "source": [
    "create "
   ]
  },
  {
   "cell_type": "code",
   "execution_count": null,
   "id": "379b35c1",
   "metadata": {},
   "outputs": [],
   "source": []
  },
  {
   "cell_type": "code",
   "execution_count": null,
   "id": "62d0ca84",
   "metadata": {},
   "outputs": [],
   "source": []
  },
  {
   "cell_type": "markdown",
   "id": "98d5d781",
   "metadata": {},
   "source": [
    "# References"
   ]
  },
  {
   "cell_type": "code",
   "execution_count": null,
   "id": "2538d003",
   "metadata": {},
   "outputs": [],
   "source": []
  },
  {
   "cell_type": "code",
   "execution_count": null,
   "id": "6c428494",
   "metadata": {},
   "outputs": [],
   "source": []
  },
  {
   "cell_type": "code",
   "execution_count": null,
   "id": "3175d09e",
   "metadata": {},
   "outputs": [],
   "source": []
  },
  {
   "cell_type": "code",
   "execution_count": null,
   "id": "8d7cc3ee",
   "metadata": {},
   "outputs": [],
   "source": []
  },
  {
   "cell_type": "markdown",
   "id": "419a37a1",
   "metadata": {},
   "source": [
    "Python Excel library references:\n",
    "python-excel.org\n",
    "https://www.python-excel.org/"
   ]
  },
  {
   "cell_type": "code",
   "execution_count": null,
   "id": "93c00ee9",
   "metadata": {},
   "outputs": [],
   "source": []
  },
  {
   "cell_type": "markdown",
   "id": "7a0320e0",
   "metadata": {},
   "source": []
  },
  {
   "cell_type": "markdown",
   "id": "032f354f",
   "metadata": {},
   "source": [
    "#### That iIf you believe you will be working with CSV files often, you may want to check out the powerful pandas library.\n",
    "##### https://pandas.pydata.org/"
   ]
  },
  {
   "cell_type": "markdown",
   "id": "64e1d980",
   "metadata": {},
   "source": []
  },
  {
   "cell_type": "code",
   "execution_count": null,
   "id": "2d92bf47",
   "metadata": {},
   "outputs": [],
   "source": []
  }
 ],
 "metadata": {
  "kernelspec": {
   "display_name": "Python 3 (ipykernel)",
   "language": "python",
   "name": "python3"
  },
  "language_info": {
   "codemirror_mode": {
    "name": "ipython",
    "version": 3
   },
   "file_extension": ".py",
   "mimetype": "text/x-python",
   "name": "python",
   "nbconvert_exporter": "python",
   "pygments_lexer": "ipython3",
   "version": "3.8.10"
  }
 },
 "nbformat": 4,
 "nbformat_minor": 5
}
