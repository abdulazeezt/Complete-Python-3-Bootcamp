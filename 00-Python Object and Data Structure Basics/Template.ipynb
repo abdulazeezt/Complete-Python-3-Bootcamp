{
 "cells": [
  {
   "cell_type": "markdown",
   "id": "2dc1c0aa",
   "metadata": {},
   "source": [
    "# Templates"
   ]
  },
  {
   "cell_type": "markdown",
   "id": "16093d8b",
   "metadata": {},
   "source": [
    "Blue color heading"
   ]
  },
  {
   "cell_type": "markdown",
   "id": "ac351c89",
   "metadata": {},
   "source": [
    "<span style='color:Blue'> Blue is my favorite color.  </span>"
   ]
  },
  {
   "cell_type": "code",
   "execution_count": null,
   "id": "e874d459",
   "metadata": {},
   "outputs": [],
   "source": [
    "\n"
   ]
  },
  {
   "cell_type": "markdown",
   "id": "109836f4",
   "metadata": {},
   "source": [
    "<span style='color:Orange'> Yellow heading  </span>"
   ]
  },
  {
   "cell_type": "code",
   "execution_count": null,
   "id": "4b177292",
   "metadata": {},
   "outputs": [],
   "source": []
  }
 ],
 "metadata": {
  "kernelspec": {
   "display_name": "Python 3 (ipykernel)",
   "language": "python",
   "name": "python3"
  },
  "language_info": {
   "codemirror_mode": {
    "name": "ipython",
    "version": 3
   },
   "file_extension": ".py",
   "mimetype": "text/x-python",
   "name": "python",
   "nbconvert_exporter": "python",
   "pygments_lexer": "ipython3",
   "version": "3.10.5"
  }
 },
 "nbformat": 4,
 "nbformat_minor": 5
}
