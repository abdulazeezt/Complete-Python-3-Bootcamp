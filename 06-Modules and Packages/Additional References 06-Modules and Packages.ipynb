{
 "cells": [
  {
   "cell_type": "markdown",
   "id": "48af1b48",
   "metadata": {
    "heading_collapsed": true
   },
   "source": [
    "# PyPi Python repository  ( pip)"
   ]
  },
  {
   "cell_type": "markdown",
   "id": "a4c1f508",
   "metadata": {
    "hidden": true
   },
   "source": [
    "Pypi is the opensource repository for python third party packages. \n",
    "format :\n",
    "    pip install < package name >\n",
    "    \n",
    "    pip instal requests\n",
    "    pip install colorama\n",
    "    "
   ]
  },
  {
   "cell_type": "markdown",
   "id": "80432d87",
   "metadata": {
    "hidden": true
   },
   "source": [
    "Tips : go to google and search : \n",
    "        python package for pdf "
   ]
  },
  {
   "cell_type": "code",
   "execution_count": null,
   "id": "f0484a26",
   "metadata": {
    "hidden": true
   },
   "outputs": [],
   "source": []
  },
  {
   "cell_type": "code",
   "execution_count": null,
   "id": "f0e5087e",
   "metadata": {
    "hidden": true
   },
   "outputs": [],
   "source": []
  },
  {
   "cell_type": "markdown",
   "id": "71c3a46d",
   "metadata": {
    "heading_collapsed": true
   },
   "source": [
    "# Modules And Packages"
   ]
  },
  {
   "cell_type": "markdown",
   "id": "75d095ab",
   "metadata": {
    "heading_collapsed": true,
    "hidden": true
   },
   "source": [
    "## Modules:"
   ]
  },
  {
   "cell_type": "markdown",
   "id": "b2e069f2",
   "metadata": {
    "hidden": true
   },
   "source": [
    "Calling another module.\n",
    "\n",
    "    Create two files:\n",
    "        1 . mymodule.py\n",
    "        2 . myprogram.py\n",
    "    In myprogram.py write:\n",
    "        from mymodule import myfunc\n",
    "        "
   ]
  },
  {
   "cell_type": "markdown",
   "id": "9996c32b",
   "metadata": {
    "heading_collapsed": true,
    "hidden": true
   },
   "source": [
    "## Creating Own Modules"
   ]
  },
  {
   "cell_type": "markdown",
   "id": "6e5f335e",
   "metadata": {
    "hidden": true
   },
   "source": [
    "Create two folders:\n",
    "        \n",
    "    1 . MyMainPackage and create below files.\n",
    "        file 1 :   __init__.py\n",
    "        file 2 : some_main_script.py \n",
    "                def report_main():\n",
    "                print(\"Hey I am in some_main_script in main package.\")\n",
    "                           \n",
    "        \n",
    "        \n",
    "        \n",
    "        \n",
    "    2 . SubPackage\n",
    "        __init__.py\n",
    "        mysubscript.py\n",
    "        \n",
    "                def sub_report():\n",
    "                print(\"Hey  Im a function inside mysubscript\")\n",
    "    \n",
    "           \n",
    "   \n",
    "   \n",
    "    \n",
    "\n",
    "    "
   ]
  },
  {
   "cell_type": "code",
   "execution_count": null,
   "id": "07ecc64d",
   "metadata": {
    "hidden": true
   },
   "outputs": [],
   "source": []
  },
  {
   "cell_type": "markdown",
   "id": "0e952e3d",
   "metadata": {},
   "source": [
    "# \" __name__ \" and __main__"
   ]
  },
  {
   "cell_type": "code",
   "execution_count": null,
   "id": "e5e210ca",
   "metadata": {},
   "outputs": [],
   "source": [
    "While running any program directly . __name__ == \"__main__\" will be the value . \n",
    "And if we call a script throught another script then the variable will have another value. \n",
    "\n",
    "\n",
    "one.py\n",
    "two.py"
   ]
  },
  {
   "cell_type": "markdown",
   "id": "e4f27ec3",
   "metadata": {},
   "source": [
    "################# One.py #################################\n",
    "def one_func():\n",
    "    print(\"I am one.py I am from one_func\")\n",
    "\n",
    "if __name__ == \"__main__\":\n",
    "    print(\"I am One.py : This is been run from one.py directly\")\n",
    "else:\n",
    "    print(\" This is one.py : THis is been running through another script    \")\n",
    "\n",
    "##########################################################"
   ]
  },
  {
   "cell_type": "markdown",
   "id": "c5998298",
   "metadata": {},
   "source": [
    "######## two.py ##########################################\n",
    "\n",
    "from one import one_func\n",
    "\n",
    "one_func()\n",
    "\n",
    "################# two.py #################################\n",
    "def two_func():\n",
    "    print(\"I am two.py : I am from two_func\")\n",
    "\n",
    "if __name__ == \"__main__\":\n",
    "    print(\"I am two.py : This is been run from two.py directly\")\n",
    "else:\n",
    "    print(\" this is two.py : THis is been running through another script    \")\n",
    "\n",
    "##########################################################"
   ]
  },
  {
   "cell_type": "code",
   "execution_count": null,
   "id": "07231709",
   "metadata": {},
   "outputs": [],
   "source": []
  },
  {
   "cell_type": "code",
   "execution_count": null,
   "id": "5231fe2c",
   "metadata": {},
   "outputs": [],
   "source": []
  },
  {
   "cell_type": "code",
   "execution_count": null,
   "id": "d53728fb",
   "metadata": {},
   "outputs": [],
   "source": []
  },
  {
   "cell_type": "code",
   "execution_count": null,
   "id": "c5eb818b",
   "metadata": {},
   "outputs": [],
   "source": []
  }
 ],
 "metadata": {
  "kernelspec": {
   "display_name": "Python 3 (ipykernel)",
   "language": "python",
   "name": "python3"
  },
  "language_info": {
   "codemirror_mode": {
    "name": "ipython",
    "version": 3
   },
   "file_extension": ".py",
   "mimetype": "text/x-python",
   "name": "python",
   "nbconvert_exporter": "python",
   "pygments_lexer": "ipython3",
   "version": "3.10.5"
  }
 },
 "nbformat": 4,
 "nbformat_minor": 5
}
