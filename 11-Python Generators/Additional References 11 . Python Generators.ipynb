{
 "cells": [
  {
   "cell_type": "markdown",
   "id": "6f4ab214",
   "metadata": {
    "heading_collapsed": true
   },
   "source": [
    "# Python Tutorial: Generators - How to use them and the benefits you receive\n",
    "https://www.youtube.com/watch?v=bD05uGo_sVI\n"
   ]
  },
  {
   "cell_type": "code",
   "execution_count": null,
   "id": "bacf422b",
   "metadata": {
    "hidden": true
   },
   "outputs": [],
   "source": []
  },
  {
   "cell_type": "markdown",
   "id": "353e4856",
   "metadata": {
    "heading_collapsed": true
   },
   "source": [
    "# The Yield  and Next Statement"
   ]
  },
  {
   "cell_type": "markdown",
   "id": "b6020ffa",
   "metadata": {
    "hidden": true
   },
   "source": [
    "def calc_sqrt(n):\n",
    "    for i in range(n):\n",
    "        yield i**2"
   ]
  },
  {
   "cell_type": "markdown",
   "id": "b67e653f",
   "metadata": {
    "hidden": true
   },
   "source": [
    "mycalc = calc_sqrt(10)"
   ]
  },
  {
   "cell_type": "markdown",
   "id": "57b00c4a",
   "metadata": {
    "hidden": true
   },
   "source": [
    "next(mycalc)"
   ]
  },
  {
   "cell_type": "markdown",
   "id": "9276ea20",
   "metadata": {
    "hidden": true
   },
   "source": [
    "next(mycalc)"
   ]
  },
  {
   "cell_type": "code",
   "execution_count": null,
   "id": "cd712ccf",
   "metadata": {
    "hidden": true
   },
   "outputs": [],
   "source": []
  },
  {
   "cell_type": "markdown",
   "id": "4637954a",
   "metadata": {
    "hidden": true
   },
   "source": [
    "help(next\n",
    "\n",
    "    Help on built-in function next in module builtins:\n",
    "    next(...)\n",
    "    next(iterator[, default])\n",
    "    \n",
    "    Return the next item from the iterator. If default is given and the iterator\n",
    "    is exhausted, it is returned instead of raising StopIteration."
   ]
  },
  {
   "cell_type": "code",
   "execution_count": null,
   "id": "fcaa5ec9",
   "metadata": {
    "hidden": true
   },
   "outputs": [],
   "source": []
  },
  {
   "cell_type": "markdown",
   "id": "35a615ab",
   "metadata": {
    "heading_collapsed": true
   },
   "source": [
    "# Iter keyword"
   ]
  },
  {
   "cell_type": "markdown",
   "id": "2190551a",
   "metadata": {
    "hidden": true
   },
   "source": [
    "s = \"helloworld\""
   ]
  },
  {
   "cell_type": "markdown",
   "id": "2a6ad39c",
   "metadata": {
    "hidden": true
   },
   "source": [
    "mystring = iter(s)"
   ]
  },
  {
   "cell_type": "markdown",
   "id": "ef77a601",
   "metadata": {
    "hidden": true
   },
   "source": [
    "next(mystring)"
   ]
  },
  {
   "cell_type": "markdown",
   "id": "7b2cdb7d",
   "metadata": {
    "hidden": true
   },
   "source": [
    "next(mystring)"
   ]
  },
  {
   "cell_type": "markdown",
   "id": "693a6b63",
   "metadata": {
    "hidden": true
   },
   "source": [
    "next(mystring)"
   ]
  },
  {
   "cell_type": "code",
   "execution_count": null,
   "id": "0d3fcc11",
   "metadata": {
    "hidden": true
   },
   "outputs": [],
   "source": []
  },
  {
   "cell_type": "code",
   "execution_count": null,
   "id": "049be41f",
   "metadata": {
    "hidden": true
   },
   "outputs": [],
   "source": []
  }
 ],
 "metadata": {
  "kernelspec": {
   "display_name": "Python 3 (ipykernel)",
   "language": "python",
   "name": "python3"
  },
  "language_info": {
   "codemirror_mode": {
    "name": "ipython",
    "version": 3
   },
   "file_extension": ".py",
   "mimetype": "text/x-python",
   "name": "python",
   "nbconvert_exporter": "python",
   "pygments_lexer": "ipython3",
   "version": "3.10.5"
  }
 },
 "nbformat": 4,
 "nbformat_minor": 5
}
